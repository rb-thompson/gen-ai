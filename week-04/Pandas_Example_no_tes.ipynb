{
 "cells": [
  {
   "cell_type": "code",
   "execution_count": 1,
   "id": "80ba55e6",
   "metadata": {},
   "outputs": [],
   "source": [
    "# Import required libraries for data manipulation and fetching online data\n",
    "import pandas as pd\n",
    "import numpy as np\n",
    "# For fetching stock data; students need to install yfinance\n",
    "# !pip install yfinance  # Uncomment to install if needed\n",
    "import yfinance as yf"
   ]
  },
  {
   "cell_type": "code",
   "execution_count": 2,
   "id": "6a337c2d",
   "metadata": {},
   "outputs": [
    {
     "name": "stdout",
     "output_type": "stream",
     "text": [
      "Step 1a: Titanic dataset loaded with 891 passengers and 12 columns.\n"
     ]
    }
   ],
   "source": [
    "# --- Section 1: Loading Data from Online Sources ---\n",
    "# Load the Titanic dataset from a GitHub URL, a popular dataset for learning\n",
    "url = 'https://raw.githubusercontent.com/datasciencedojo/datasets/master/titanic.csv'\n",
    "df_titanic = pd.read_csv(url)\n",
    "print(\"Step 1a: Titanic dataset loaded with\", df_titanic.shape[0], \"passengers and\", df_titanic.shape[1], \"columns.\")"
   ]
  },
  {
   "cell_type": "code",
   "execution_count": 3,
   "id": "6cccde15",
   "metadata": {},
   "outputs": [
    {
     "name": "stderr",
     "output_type": "stream",
     "text": [
      "/var/folders/yb/m140125x64sd33ncfy_s5vfh0000gp/T/ipykernel_19170/2628451526.py:2: FutureWarning: YF.download() has changed argument auto_adjust default to True\n",
      "  df_stock = yf.download('AAPL', start='2020-01-01', end='2023-01-01', progress=False)\n"
     ]
    },
    {
     "name": "stdout",
     "output_type": "stream",
     "text": [
      "Step 1b: Apple stock data loaded with 756 days and 5 columns.\n"
     ]
    }
   ],
   "source": [
    "# Fetch Apple stock data from 2020 to 2023 using yfinance for time series practice\n",
    "df_stock = yf.download('AAPL', start='2020-01-01', end='2023-01-01', progress=False)\n",
    "print(\"Step 1b: Apple stock data loaded with\", df_stock.shape[0], \"days and\", df_stock.shape[1], \"columns.\")"
   ]
  },
  {
   "cell_type": "code",
   "execution_count": 5,
   "id": "ce6e986b",
   "metadata": {},
   "outputs": [
    {
     "name": "stdout",
     "output_type": "stream",
     "text": [
      "\n",
      "Step 2a: First 5 rows of Titanic dataset:\n",
      "   PassengerId  Survived  Pclass                                               Name     Sex   Age  SibSp  Parch            Ticket     Fare Cabin Embarked\n",
      "0            1         0       3                            Braund, Mr. Owen Harris    male  22.0      1      0         A/5 21171   7.2500   NaN        S\n",
      "1            2         1       1  Cumings, Mrs. John Bradley (Florence Briggs Th...  female  38.0      1      0          PC 17599  71.2833   C85        C\n",
      "2            3         1       3                             Heikkinen, Miss. Laina  female  26.0      0      0  STON/O2. 3101282   7.9250   NaN        S\n",
      "3            4         1       1       Futrelle, Mrs. Jacques Heath (Lily May Peel)  female  35.0      1      0            113803  53.1000  C123        S\n",
      "4            5         0       3                           Allen, Mr. William Henry    male  35.0      0      0            373450   8.0500   NaN        S\n"
     ]
    }
   ],
   "source": [
    "# --- Section 2: Data Inspection ---\n",
    "# Display the first 5 rows of the Titanic dataset to understand its structure\n",
    "pd.set_option('display.width', 1000)\n",
    "print(\"\\nStep 2a: First 5 rows of Titanic dataset:\")\n",
    "print(df_titanic.head())"
   ]
  },
  {
   "cell_type": "code",
   "execution_count": 6,
   "id": "84180f17",
   "metadata": {},
   "outputs": [
    {
     "name": "stdout",
     "output_type": "stream",
     "text": [
      "\n",
      "Step 2b: Titanic DataFrame Info:\n",
      "<class 'pandas.core.frame.DataFrame'>\n",
      "RangeIndex: 891 entries, 0 to 890\n",
      "Data columns (total 12 columns):\n",
      " #   Column       Non-Null Count  Dtype  \n",
      "---  ------       --------------  -----  \n",
      " 0   PassengerId  891 non-null    int64  \n",
      " 1   Survived     891 non-null    int64  \n",
      " 2   Pclass       891 non-null    int64  \n",
      " 3   Name         891 non-null    object \n",
      " 4   Sex          891 non-null    object \n",
      " 5   Age          714 non-null    float64\n",
      " 6   SibSp        891 non-null    int64  \n",
      " 7   Parch        891 non-null    int64  \n",
      " 8   Ticket       891 non-null    object \n",
      " 9   Fare         891 non-null    float64\n",
      " 10  Cabin        204 non-null    object \n",
      " 11  Embarked     889 non-null    object \n",
      "dtypes: float64(2), int64(5), object(5)\n",
      "memory usage: 83.7+ KB\n",
      "None\n"
     ]
    }
   ],
   "source": [
    "# Show DataFrame info (column names, data types, non-null counts)\n",
    "print(\"\\nStep 2b: Titanic DataFrame Info:\")\n",
    "print(df_titanic.info())"
   ]
  },
  {
   "cell_type": "code",
   "execution_count": 7,
   "id": "9e428d53",
   "metadata": {},
   "outputs": [
    {
     "name": "stdout",
     "output_type": "stream",
     "text": [
      "\n",
      "Step 2c: Titanic Summary Statistics:\n",
      "       PassengerId    Survived      Pclass         Age       SibSp       Parch        Fare\n",
      "count   891.000000  891.000000  891.000000  714.000000  891.000000  891.000000  891.000000\n",
      "mean    446.000000    0.383838    2.308642   29.699118    0.523008    0.381594   32.204208\n",
      "std     257.353842    0.486592    0.836071   14.526497    1.102743    0.806057   49.693429\n",
      "min       1.000000    0.000000    1.000000    0.420000    0.000000    0.000000    0.000000\n",
      "25%     223.500000    0.000000    2.000000   20.125000    0.000000    0.000000    7.910400\n",
      "50%     446.000000    0.000000    3.000000   28.000000    0.000000    0.000000   14.454200\n",
      "75%     668.500000    1.000000    3.000000   38.000000    1.000000    0.000000   31.000000\n",
      "max     891.000000    1.000000    3.000000   80.000000    8.000000    6.000000  512.329200\n"
     ]
    }
   ],
   "source": [
    "# Display summary statistics for numerical columns (count, mean, std, etc.)\n",
    "print(\"\\nStep 2c: Titanic Summary Statistics:\")\n",
    "print(df_titanic.describe())"
   ]
  },
  {
   "cell_type": "code",
   "execution_count": 8,
   "id": "065d4916",
   "metadata": {},
   "outputs": [
    {
     "name": "stdout",
     "output_type": "stream",
     "text": [
      "\n",
      "Step 2d: Apple Stock Data (First 5 rows):\n",
      "Price           Close       High        Low       Open     Volume\n",
      "Ticker           AAPL       AAPL       AAPL       AAPL       AAPL\n",
      "Date                                                             \n",
      "2020-01-02  72.620834  72.681281  71.373211  71.627084  135480400\n",
      "2020-01-03  71.914818  72.676447  71.689957  71.847118  146322800\n",
      "2020-01-06  72.487846  72.526533  70.783248  71.034709  118387200\n",
      "2020-01-07  72.146942  72.753823  71.926915  72.497529  108872000\n",
      "2020-01-08  73.307510  73.609745  71.849533  71.849533  132079200\n"
     ]
    }
   ],
   "source": [
    "# Display the first 5 rows of stock data to see time series structure\n",
    "print(\"\\nStep 2d: Apple Stock Data (First 5 rows):\")\n",
    "print(df_stock.head())"
   ]
  },
  {
   "cell_type": "code",
   "execution_count": 41,
   "id": "f6eceff5",
   "metadata": {},
   "outputs": [
    {
     "name": "stdout",
     "output_type": "stream",
     "text": [
      "\n",
      "Unique values in Pclass:\n",
      "[3 1 2]\n"
     ]
    }
   ],
   "source": [
    "# Interactive: Ask students to input a column to explore\n",
    "column_to_check = input(\"Step 2e: Enter a Titanic column name to see its unique values (e.g., 'Pclass'): \")\n",
    "print(f\"\\nUnique values in {column_to_check}:\")\n",
    "print(df_titanic[column_to_check].unique())"
   ]
  },
  {
   "cell_type": "code",
   "execution_count": 10,
   "id": "fec3e30f",
   "metadata": {},
   "outputs": [
    {
     "name": "stdout",
     "output_type": "stream",
     "text": [
      "\n",
      "Step 3a: Missing Values in Titanic Dataset:\n",
      "PassengerId      0\n",
      "Survived         0\n",
      "Pclass           0\n",
      "Name             0\n",
      "Sex              0\n",
      "Age            177\n",
      "SibSp            0\n",
      "Parch            0\n",
      "Ticket           0\n",
      "Fare             0\n",
      "Cabin          687\n",
      "Embarked         2\n",
      "dtype: int64\n"
     ]
    }
   ],
   "source": [
    "# --- Section 3: Data Cleaning ---\n",
    "# Check for missing values in each column of the Titanic dataset\n",
    "print(\"\\nStep 3a: Missing Values in Titanic Dataset:\")\n",
    "print(df_titanic.isnull().sum())"
   ]
  },
  {
   "cell_type": "code",
   "execution_count": 11,
   "id": "16dfa5c6",
   "metadata": {},
   "outputs": [
    {
     "name": "stdout",
     "output_type": "stream",
     "text": [
      "\n",
      "Step 3b: Missing 'Age' filled with median: 28.0\n"
     ]
    }
   ],
   "source": [
    "# Fill missing 'Age' values with the median age to preserve data distribution\n",
    "median_age = df_titanic['Age'].median()\n",
    "df_titanic['Age'] = df_titanic['Age'].fillna(median_age)\n",
    "print(\"\\nStep 3b: Missing 'Age' filled with median:\", median_age)"
   ]
  },
  {
   "cell_type": "code",
   "execution_count": 12,
   "id": "f32e7edb",
   "metadata": {},
   "outputs": [
    {
     "name": "stdout",
     "output_type": "stream",
     "text": [
      "Step 3c: Missing 'Embarked' filled with mode: S\n"
     ]
    }
   ],
   "source": [
    "# Fill missing 'Embarked' with the most common port (mode) to maintain consistency\n",
    "most_common_embarked = df_titanic['Embarked'].mode()[0]\n",
    "df_titanic['Embarked'] = df_titanic['Embarked'].fillna(most_common_embarked)\n",
    "print(\"Step 3c: Missing 'Embarked' filled with mode:\", most_common_embarked)"
   ]
  },
  {
   "cell_type": "code",
   "execution_count": 13,
   "id": "653dc283",
   "metadata": {},
   "outputs": [
    {
     "name": "stdout",
     "output_type": "stream",
     "text": [
      "\n",
      "Step 3d: 'Cabin' column dropped due to many missing values.\n"
     ]
    }
   ],
   "source": [
    "# Drop 'Cabin' column due to excessive missing values, reducing noise\n",
    "df_titanic = df_titanic.drop('Cabin', axis=1)\n",
    "print(\"\\nStep 3d: 'Cabin' column dropped due to many missing values.\")"
   ]
  },
  {
   "cell_type": "code",
   "execution_count": 14,
   "id": "4b93ab19",
   "metadata": {},
   "outputs": [
    {
     "name": "stdout",
     "output_type": "stream",
     "text": [
      "Step 3e: Missing Values After Cleaning:\n",
      "PassengerId    0\n",
      "Survived       0\n",
      "Pclass         0\n",
      "Name           0\n",
      "Sex            0\n",
      "Age            0\n",
      "SibSp          0\n",
      "Parch          0\n",
      "Ticket         0\n",
      "Fare           0\n",
      "Embarked       0\n",
      "dtype: int64\n"
     ]
    }
   ],
   "source": [
    "# Verify no missing values remain after cleaning\n",
    "print(\"Step 3e: Missing Values After Cleaning:\")\n",
    "print(df_titanic.isnull().sum())"
   ]
  },
  {
   "cell_type": "code",
   "execution_count": 15,
   "id": "c4a11973",
   "metadata": {},
   "outputs": [
    {
     "name": "stdout",
     "output_type": "stream",
     "text": [
      "\n",
      "Step 3f: Number of Duplicate Rows: 0\n",
      "Step 3g: Duplicate rows removed. New shape: (891, 11)\n"
     ]
    }
   ],
   "source": [
    "# Check and remove duplicate rows in the Titanic dataset\n",
    "print(\"\\nStep 3f: Number of Duplicate Rows:\", df_titanic.duplicated().sum())\n",
    "df_titanic = df_titanic.drop_duplicates()\n",
    "print(\"Step 3g: Duplicate rows removed. New shape:\", df_titanic.shape)"
   ]
  },
  {
   "cell_type": "code",
   "execution_count": 16,
   "id": "513f00e2",
   "metadata": {},
   "outputs": [
    {
     "name": "stdout",
     "output_type": "stream",
     "text": [
      "\n",
      "Step 3h: Missing values in stock data filled with forward fill.\n"
     ]
    },
    {
     "name": "stderr",
     "output_type": "stream",
     "text": [
      "/var/folders/yb/m140125x64sd33ncfy_s5vfh0000gp/T/ipykernel_19170/1574168845.py:2: FutureWarning: DataFrame.fillna with 'method' is deprecated and will raise in a future version. Use obj.ffill() or obj.bfill() instead.\n",
      "  df_stock = df_stock.fillna(method='ffill')\n"
     ]
    }
   ],
   "source": [
    "# Clean stock data: Handle any missing values with forward fill\n",
    "df_stock = df_stock.fillna(method='ffill')\n",
    "print(\"\\nStep 3h: Missing values in stock data filled with forward fill.\")"
   ]
  },
  {
   "cell_type": "code",
   "execution_count": 17,
   "id": "b4120930",
   "metadata": {},
   "outputs": [
    {
     "name": "stdout",
     "output_type": "stream",
     "text": [
      "\n",
      "Step 4a: Passengers older than 30 (first 5):\n",
      "    PassengerId  Survived  Pclass                                               Name     Sex   Age  SibSp  Parch    Ticket     Fare Embarked\n",
      "1             2         1       1  Cumings, Mrs. John Bradley (Florence Briggs Th...  female  38.0      1      0  PC 17599  71.2833        C\n",
      "3             4         1       1       Futrelle, Mrs. Jacques Heath (Lily May Peel)  female  35.0      1      0    113803  53.1000        S\n",
      "4             5         0       3                           Allen, Mr. William Henry    male  35.0      0      0    373450   8.0500        S\n",
      "6             7         0       1                            McCarthy, Mr. Timothy J    male  54.0      0      0     17463  51.8625        S\n",
      "11           12         1       1                           Bonnell, Miss. Elizabeth  female  58.0      0      0    113783  26.5500        S\n"
     ]
    }
   ],
   "source": [
    "# --- Section 4: Data Transformation ---\n",
    "# Filter passengers older than 30 to focus on a specific group\n",
    "older_than_30 = df_titanic[df_titanic['Age'] > 30]\n",
    "print(\"\\nStep 4a: Passengers older than 30 (first 5):\")\n",
    "print(older_than_30.head())"
   ]
  },
  {
   "cell_type": "code",
   "execution_count": 18,
   "id": "3b1741fd",
   "metadata": {},
   "outputs": [
    {
     "name": "stdout",
     "output_type": "stream",
     "text": [
      "\n",
      "Step 4b: Top 5 passengers by fare:\n",
      "                                   Name      Fare\n",
      "258                    Ward, Miss. Anna  512.3292\n",
      "737              Lesurer, Mr. Gustave J  512.3292\n",
      "679  Cardeza, Mr. Thomas Drake Martinez  512.3292\n",
      "88           Fortune, Miss. Mabel Helen  263.0000\n",
      "27       Fortune, Mr. Charles Alexander  263.0000\n"
     ]
    }
   ],
   "source": [
    "# Sort passengers by 'Fare' in descending order to identify high spenders\n",
    "sorted_by_fare = df_titanic.sort_values(by='Fare', ascending=False)\n",
    "print(\"\\nStep 4b: Top 5 passengers by fare:\")\n",
    "print(sorted_by_fare[['Name', 'Fare']].head())"
   ]
  },
  {
   "cell_type": "code",
   "execution_count": 19,
   "id": "72f71e8b",
   "metadata": {},
   "outputs": [
    {
     "name": "stdout",
     "output_type": "stream",
     "text": [
      "\n",
      "Step 4c: Mean Fare by Pclass:\n",
      "Pclass\n",
      "1    84.154687\n",
      "2    20.662183\n",
      "3    13.675550\n",
      "Name: Fare, dtype: float64\n"
     ]
    }
   ],
   "source": [
    "# Group by 'Pclass' and calculate mean 'Fare' to analyze class-based pricing\n",
    "mean_fare_by_class = df_titanic.groupby('Pclass')['Fare'].mean()\n",
    "print(\"\\nStep 4c: Mean Fare by Pclass:\")\n",
    "print(mean_fare_by_class)"
   ]
  },
  {
   "cell_type": "code",
   "execution_count": 20,
   "id": "6443a149",
   "metadata": {},
   "outputs": [
    {
     "name": "stdout",
     "output_type": "stream",
     "text": [
      "\n",
      "Mean Fare by Sex:\n",
      "Sex\n",
      "female    44.479818\n",
      "male      25.523893\n",
      "Name: Fare, dtype: float64\n"
     ]
    }
   ],
   "source": [
    "# Interactive: Group by a column chosen by students\n",
    "group_by_col = input(\"Step 4d: Enter a column to group by (e.g., 'Sex'): \")\n",
    "if group_by_col in df_titanic.columns:\n",
    "    group_result = df_titanic.groupby(group_by_col)['Fare'].mean()\n",
    "    print(f\"\\nMean Fare by {group_by_col}:\")\n",
    "    print(group_result)\n",
    "else:\n",
    "    print(\"Column not found. Try 'Sex', 'Pclass', or 'Embarked'.\")"
   ]
  },
  {
   "cell_type": "code",
   "execution_count": 21,
   "id": "7a0e214e",
   "metadata": {},
   "outputs": [
    {
     "name": "stdout",
     "output_type": "stream",
     "text": [
      "\n",
      "Step 5a: Added 'FamilySize' feature. First 5 rows:\n",
      "   SibSp  Parch  FamilySize\n",
      "0      1      0           2\n",
      "1      1      0           2\n",
      "2      0      0           1\n",
      "3      1      0           2\n",
      "4      0      0           1\n"
     ]
    }
   ],
   "source": [
    "# --- Section 5: Feature Engineering ---\n",
    "# Create 'FamilySize' feature by summing 'SibSp', 'Parch', and 1 (self)\n",
    "df_titanic['FamilySize'] = df_titanic['SibSp'] + df_titanic['Parch'] + 1\n",
    "print(\"\\nStep 5a: Added 'FamilySize' feature. First 5 rows:\")\n",
    "print(df_titanic[['SibSp', 'Parch', 'FamilySize']].head())"
   ]
  },
  {
   "cell_type": "code",
   "execution_count": 22,
   "id": "4a8af01b",
   "metadata": {},
   "outputs": [
    {
     "name": "stdout",
     "output_type": "stream",
     "text": [
      "\n",
      "Step 5b: One-hot encoded 'Sex' and 'Embarked'. New columns:\n",
      "['PassengerId', 'Survived', 'Pclass', 'Name', 'Age', 'SibSp', 'Parch', 'Ticket', 'Fare', 'FamilySize', 'Sex_male', 'Embarked_Q', 'Embarked_S']\n"
     ]
    }
   ],
   "source": [
    "# One-hot encode 'Sex' and 'Embarked' for ML model compatibility\n",
    "df_titanic = pd.get_dummies(df_titanic, columns=['Sex', 'Embarked'], drop_first=True)\n",
    "print(\"\\nStep 5b: One-hot encoded 'Sex' and 'Embarked'. New columns:\")\n",
    "print(list(df_titanic.columns))"
   ]
  },
  {
   "cell_type": "code",
   "execution_count": 23,
   "id": "2c345c61",
   "metadata": {},
   "outputs": [
    {
     "name": "stdout",
     "output_type": "stream",
     "text": [
      "\n",
      "Step 5c: Added 'AgeGroup' feature. First 5 rows:\n",
      "    Age     AgeGroup\n",
      "0  22.0  Young Adult\n",
      "1  38.0        Adult\n",
      "2  26.0  Young Adult\n",
      "3  35.0  Young Adult\n",
      "4  35.0  Young Adult\n"
     ]
    }
   ],
   "source": [
    "# Bin 'Age' into categories for better feature representation\n",
    "bins = [0, 12, 18, 35, 60, 100]\n",
    "labels = ['Child', 'Teen', 'Young Adult', 'Adult', 'Senior']\n",
    "df_titanic['AgeGroup'] = pd.cut(df_titanic['Age'], bins=bins, labels=labels)\n",
    "print(\"\\nStep 5c: Added 'AgeGroup' feature. First 5 rows:\")\n",
    "print(df_titanic[['Age', 'AgeGroup']].head())"
   ]
  },
  {
   "cell_type": "code",
   "execution_count": 24,
   "id": "810ed527",
   "metadata": {},
   "outputs": [
    {
     "name": "stdout",
     "output_type": "stream",
     "text": [
      "\n",
      "Scaled Fare added. First 5 rows:\n",
      "      Fare  Fare_scaled\n",
      "0   7.2500     0.014151\n",
      "1  71.2833     0.139136\n",
      "2   7.9250     0.015469\n",
      "3  53.1000     0.103644\n",
      "4   8.0500     0.015713\n"
     ]
    }
   ],
   "source": [
    "# Interactive: Ask students to suggest a feature to scale\n",
    "feature_to_scale = input(\"Step 5d: Enter a numerical feature to scale (e.g., 'Fare'): \")\n",
    "if feature_to_scale in df_titanic.select_dtypes(include=[np.number]).columns:\n",
    "    df_titanic[feature_to_scale + '_scaled'] = (df_titanic[feature_to_scale] - df_titanic[feature_to_scale].min()) / (df_titanic[feature_to_scale].max() - df_titanic[feature_to_scale].min())\n",
    "    print(f\"\\nScaled {feature_to_scale} added. First 5 rows:\")\n",
    "    print(df_titanic[[feature_to_scale, feature_to_scale + '_scaled']].head())\n",
    "else:\n",
    "    print(\"Please enter a valid numerical column like 'Fare' or 'Age'.\")"
   ]
  },
  {
   "cell_type": "code",
   "execution_count": 25,
   "id": "f99cafbc",
   "metadata": {},
   "outputs": [
    {
     "name": "stdout",
     "output_type": "stream",
     "text": [
      "\n",
      "Step 6a: Stock data index converted to datetime.\n"
     ]
    }
   ],
   "source": [
    "# --- Section 6: Time Series Manipulation ---\n",
    "# Ensure stock data index is datetime for time series operations\n",
    "df_stock.index = pd.to_datetime(df_stock.index)\n",
    "print(\"\\nStep 6a: Stock data index converted to datetime.\")"
   ]
  },
  {
   "cell_type": "code",
   "execution_count": 26,
   "id": "7d03d868",
   "metadata": {},
   "outputs": [
    {
     "name": "stdout",
     "output_type": "stream",
     "text": [
      "\n",
      "Step 6b: Monthly Average Closing Price (first 5):\n",
      "Ticker           AAPL\n",
      "Date                 \n",
      "2020-01-31  75.417396\n",
      "2020-02-29  75.401414\n",
      "2020-03-31  63.606265\n",
      "2020-04-30  66.015845\n",
      "2020-05-31  75.283144\n"
     ]
    },
    {
     "name": "stderr",
     "output_type": "stream",
     "text": [
      "/var/folders/yb/m140125x64sd33ncfy_s5vfh0000gp/T/ipykernel_19170/1991924989.py:2: FutureWarning: 'M' is deprecated and will be removed in a future version, please use 'ME' instead.\n",
      "  monthly_close = df_stock['Close'].resample('M').mean()\n"
     ]
    }
   ],
   "source": [
    "# Resample stock data to monthly frequency, calculating mean closing price\n",
    "monthly_close = df_stock['Close'].resample('M').mean()\n",
    "print(\"\\nStep 6b: Monthly Average Closing Price (first 5):\")\n",
    "print(monthly_close.head())"
   ]
  },
  {
   "cell_type": "code",
   "execution_count": 27,
   "id": "18b9f9d1",
   "metadata": {},
   "outputs": [
    {
     "name": "stdout",
     "output_type": "stream",
     "text": [
      "\n",
      "Step 6c: 50-Day Moving Average (first 5):\n",
      "Price           Close MA50\n",
      "Ticker           AAPL     \n",
      "Date                      \n",
      "2020-01-02  72.620834  NaN\n",
      "2020-01-03  71.914818  NaN\n",
      "2020-01-06  72.487846  NaN\n",
      "2020-01-07  72.146942  NaN\n",
      "2020-01-08  73.307510  NaN\n"
     ]
    }
   ],
   "source": [
    "# Calculate 50-day moving average to smooth stock price trends\n",
    "df_stock['MA50'] = df_stock['Close'].rolling(window=50).mean()\n",
    "print(\"\\nStep 6c: 50-Day Moving Average (first 5):\")\n",
    "print(df_stock[['Close', 'MA50']].head())"
   ]
  },
  {
   "cell_type": "code",
   "execution_count": 28,
   "id": "dcf5161a",
   "metadata": {},
   "outputs": [
    {
     "name": "stdout",
     "output_type": "stream",
     "text": [
      "\n",
      "30-Day Moving Average (first 5):\n",
      "Price           Close MA30\n",
      "Ticker           AAPL     \n",
      "Date                      \n",
      "2020-01-02  72.620834  NaN\n",
      "2020-01-03  71.914818  NaN\n",
      "2020-01-06  72.487846  NaN\n",
      "2020-01-07  72.146942  NaN\n",
      "2020-01-08  73.307510  NaN\n"
     ]
    }
   ],
   "source": [
    "# Interactive: Ask for a window size for moving average\n",
    "window_size = int(input(\"Step 6d: Enter a window size for moving average (e.g., 30): \"))\n",
    "df_stock['MA' + str(window_size)] = df_stock['Close'].rolling(window=window_size).mean()\n",
    "print(f\"\\n{window_size}-Day Moving Average (first 5):\")\n",
    "print(df_stock[['Close', 'MA' + str(window_size)]].head())"
   ]
  },
  {
   "cell_type": "code",
   "execution_count": 29,
   "id": "ed895e91",
   "metadata": {},
   "outputs": [
    {
     "name": "stdout",
     "output_type": "stream",
     "text": [
      "\n",
      "Step 7a: Added 'FareCategory' feature. First 5 rows:\n",
      "      Fare FareCategory\n",
      "0   7.2500        Cheap\n",
      "1  71.2833    Expensive\n",
      "2   7.9250        Cheap\n",
      "3  53.1000    Expensive\n",
      "4   8.0500        Cheap\n"
     ]
    }
   ],
   "source": [
    "# --- Section 7: Applying Custom Functions ---\n",
    "# Define a function to categorize fares into 'Cheap', 'Moderate', 'Expensive'\n",
    "def fare_category(fare):\n",
    "    if fare < 10:\n",
    "        return 'Cheap'\n",
    "    elif fare < 50:\n",
    "        return 'Moderate'\n",
    "    else:\n",
    "        return 'Expensive'\n",
    "    \n",
    "    # Apply the fare_category function to create a new feature\n",
    "df_titanic['FareCategory'] = df_titanic['Fare'].apply(fare_category)\n",
    "print(\"\\nStep 7a: Added 'FareCategory' feature. First 5 rows:\")\n",
    "print(df_titanic[['Fare', 'FareCategory']].head())"
   ]
  },
  {
   "cell_type": "code",
   "execution_count": 30,
   "id": "e890bb2c",
   "metadata": {},
   "outputs": [
    {
     "name": "stdout",
     "output_type": "stream",
     "text": [
      "\n",
      "Custom categories for Age:\n",
      "    Age Age_Custom\n",
      "0  22.0     Middle\n",
      "1  38.0     Middle\n",
      "2  26.0     Middle\n",
      "3  35.0     Middle\n",
      "4  35.0     Middle\n"
     ]
    }
   ],
   "source": [
    "# Interactive: Ask students to define a custom category function\n",
    "def custom_category(value, threshold1, threshold2, labels):\n",
    "    if value < threshold1:\n",
    "        return labels[0]\n",
    "    elif value < threshold2:\n",
    "        return labels[1]\n",
    "    else:\n",
    "        return labels[2]\n",
    "\n",
    "col_to_categorize = input(\"Step 7b: Enter a numerical column to categorize (e.g., 'Age'): \")\n",
    "if col_to_categorize in df_titanic.select_dtypes(include=[np.number]).columns:\n",
    "    thresh1 = float(input(\"Enter first threshold (e.g., 20): \"))\n",
    "    thresh2 = float(input(\"Enter second threshold (e.g., 40): \"))\n",
    "    custom_labels = input(\"Enter three labels separated by commas (e.g., 'Young,Middle,Old'): \").split(',')\n",
    "    df_titanic[col_to_categorize + '_Custom'] = df_titanic[col_to_categorize].apply(custom_category, args=(thresh1, thresh2, custom_labels))\n",
    "    print(f\"\\nCustom categories for {col_to_categorize}:\")\n",
    "    print(df_titanic[[col_to_categorize, col_to_categorize + '_Custom']].head())\n",
    "else:\n",
    "    print(\"Please enter a valid numerical column like 'Age' or 'Fare'.\")\n"
   ]
  },
  {
   "cell_type": "code",
   "execution_count": 31,
   "id": "1fee347d",
   "metadata": {},
   "outputs": [
    {
     "name": "stdout",
     "output_type": "stream",
     "text": [
      "\n",
      "Step 8a: MultiIndex DataFrame (first 5):\n",
      "                 PassengerId  Survived                                               Name   Age  SibSp  Parch            Ticket     Fare  FamilySize  Embarked_Q  Embarked_S     AgeGroup  Fare_scaled FareCategory Age_Custom\n",
      "Pclass Sex_male                                                                                                                                                                                                               \n",
      "3      True                1         0                            Braund, Mr. Owen Harris  22.0      1      0         A/5 21171   7.2500           2       False        True  Young Adult     0.014151        Cheap     Middle\n",
      "1      False               2         1  Cumings, Mrs. John Bradley (Florence Briggs Th...  38.0      1      0          PC 17599  71.2833           2       False       False        Adult     0.139136    Expensive     Middle\n",
      "3      False               3         1                             Heikkinen, Miss. Laina  26.0      0      0  STON/O2. 3101282   7.9250           1       False        True  Young Adult     0.015469        Cheap     Middle\n",
      "1      False               4         1       Futrelle, Mrs. Jacques Heath (Lily May Peel)  35.0      1      0            113803  53.1000           2       False        True  Young Adult     0.103644    Expensive     Middle\n",
      "3      True                5         0                           Allen, Mr. William Henry  35.0      0      0            373450   8.0500           1       False        True  Young Adult     0.015713        Cheap     Middle\n"
     ]
    }
   ],
   "source": [
    "# --- Section 8: Advanced Pandas Operations ---\n",
    "# Create a MultiIndex DataFrame by setting 'Pclass' and 'Sex_male' as indices\n",
    "df_titanic_multi = df_titanic.set_index(['Pclass', 'Sex_male'])\n",
    "print(\"\\nStep 8a: MultiIndex DataFrame (first 5):\")\n",
    "print(df_titanic_multi.head())\n"
   ]
  },
  {
   "cell_type": "code",
   "execution_count": 32,
   "id": "ca31d857",
   "metadata": {},
   "outputs": [
    {
     "name": "stdout",
     "output_type": "stream",
     "text": [
      "\n",
      "Step 8b: Log of Fare (first 5):\n",
      "      Fare   LogFare\n",
      "0   7.2500  2.110213\n",
      "1  71.2833  4.280593\n",
      "2   7.9250  2.188856\n",
      "3  53.1000  3.990834\n",
      "4   8.0500  2.202765\n"
     ]
    }
   ],
   "source": [
    "# Use vectorized operation to calculate log of 'Fare' (adding 1 to avoid log(0))\n",
    "df_titanic['LogFare'] = np.log1p(df_titanic['Fare'])\n",
    "print(\"\\nStep 8b: Log of Fare (first 5):\")\n",
    "print(df_titanic[['Fare', 'LogFare']].head())"
   ]
  },
  {
   "cell_type": "code",
   "execution_count": 33,
   "id": "8dc37938",
   "metadata": {},
   "outputs": [
    {
     "name": "stdout",
     "output_type": "stream",
     "text": [
      "\n",
      "Step 8c: Optimized 'AgeGroup' and 'FareCategory' to category type.\n"
     ]
    }
   ],
   "source": [
    "# Optimize memory by converting 'AgeGroup' and 'FareCategory' to category type\n",
    "df_titanic['AgeGroup'] = df_titanic['AgeGroup'].astype('category')\n",
    "df_titanic['FareCategory'] = df_titanic['FareCategory'].astype('category')\n",
    "print(\"\\nStep 8c: Optimized 'AgeGroup' and 'FareCategory' to category type.\")"
   ]
  },
  {
   "cell_type": "code",
   "execution_count": 34,
   "id": "32c61132",
   "metadata": {},
   "outputs": [
    {
     "name": "stdout",
     "output_type": "stream",
     "text": [
      "\n",
      "Step 9a: Ticket Adjustment DataFrame (first 5):\n",
      "             Ticket  Adjustment\n",
      "0         A/5 21171    7.015100\n",
      "1          PC 17599   -7.115407\n",
      "2  STON/O2. 3101282   -5.268915\n",
      "3            113803    8.259056\n",
      "4            373450    7.132332\n"
     ]
    }
   ],
   "source": [
    "# --- Section 9: Merging and Joining ---\n",
    "# Create a small DataFrame with ticket adjustments for merging demonstration\n",
    "ticket_adjustment = pd.DataFrame({\n",
    "    'Ticket': df_titanic['Ticket'].unique(),\n",
    "    'Adjustment': np.random.uniform(-10, 10, size=len(df_titanic['Ticket'].unique()))\n",
    "})\n",
    "print(\"\\nStep 9a: Ticket Adjustment DataFrame (first 5):\")\n",
    "print(ticket_adjustment.head())"
   ]
  },
  {
   "cell_type": "code",
   "execution_count": 35,
   "id": "fc967c6d",
   "metadata": {},
   "outputs": [
    {
     "name": "stdout",
     "output_type": "stream",
     "text": [
      "\n",
      "Step 9b: Merged DataFrame (first 5):\n",
      "             Ticket  Adjustment\n",
      "0         A/5 21171    7.015100\n",
      "1          PC 17599   -7.115407\n",
      "2  STON/O2. 3101282   -5.268915\n",
      "3            113803    8.259056\n",
      "4            373450    7.132332\n"
     ]
    }
   ],
   "source": [
    "# Merge ticket adjustments with the main DataFrame\n",
    "df_titanic = pd.merge(df_titanic, ticket_adjustment, on='Ticket', how='left')\n",
    "print(\"\\nStep 9b: Merged DataFrame (first 5):\")\n",
    "print(df_titanic[['Ticket', 'Adjustment']].head())"
   ]
  },
  {
   "cell_type": "code",
   "execution_count": 36,
   "id": "bb805ba4",
   "metadata": {},
   "outputs": [
    {
     "name": "stdout",
     "output_type": "stream",
     "text": [
      "\n",
      "Step 9c: Adjusted Fare (first 5):\n",
      "      Fare  Adjustment  AdjustedFare\n",
      "0   7.2500    7.015100     14.265100\n",
      "1  71.2833   -7.115407     64.167893\n",
      "2   7.9250   -5.268915      2.656085\n",
      "3  53.1000    8.259056     61.359056\n",
      "4   8.0500    7.132332     15.182332\n"
     ]
    }
   ],
   "source": [
    "# Calculate adjusted fare by adding the adjustment\n",
    "df_titanic['AdjustedFare'] = df_titanic['Fare'] + df_titanic['Adjustment']\n",
    "print(\"\\nStep 9c: Adjusted Fare (first 5):\")\n",
    "print(df_titanic[['Fare', 'Adjustment', 'AdjustedFare']].head())"
   ]
  },
  {
   "cell_type": "code",
   "execution_count": 37,
   "id": "4c19812d",
   "metadata": {},
   "outputs": [
    {
     "name": "stdout",
     "output_type": "stream",
     "text": [
      "\n",
      "Merged with custom DataFrame on Name:\n",
      "                                                Name  CustomValue\n",
      "0                            Braund, Mr. Owen Harris     0.320761\n",
      "1  Cumings, Mrs. John Bradley (Florence Briggs Th...     0.333112\n",
      "2                             Heikkinen, Miss. Laina     0.093483\n",
      "3       Futrelle, Mrs. Jacques Heath (Lily May Peel)     0.949955\n",
      "4                           Allen, Mr. William Henry     0.991678\n"
     ]
    }
   ],
   "source": [
    "# Interactive: Ask students to merge with a custom DataFrame\n",
    "custom_data = input(\"Step 9d: Enter a column to merge with (e.g., 'Name'), or skip: \")\n",
    "if custom_data in df_titanic.columns:\n",
    "    custom_df = pd.DataFrame({custom_data: df_titanic[custom_data].unique(), 'CustomValue': np.random.rand(len(df_titanic[custom_data].unique()))})\n",
    "    df_titanic = pd.merge(df_titanic, custom_df, on=custom_data, how='left')\n",
    "    print(f\"\\nMerged with custom DataFrame on {custom_data}:\")\n",
    "    print(df_titanic[[custom_data, 'CustomValue']].head())\n",
    "else:\n",
    "    print(\"Skipping custom merge or invalid column.\")"
   ]
  },
  {
   "cell_type": "code",
   "execution_count": 39,
   "id": "e6e93b0b",
   "metadata": {},
   "outputs": [
    {
     "name": "stdout",
     "output_type": "stream",
     "text": [
      "\n",
      "Step 10a: Features selected for ML: ['Pclass', 'Age', 'SibSp', 'Parch', 'Fare', 'FamilySize', 'Sex_male', 'Embarked_Q', 'Embarked_S', 'AgeGroup', 'Fare_scaled', 'Age_standardized']\n",
      "Step 10b: Target variable: Survived\n"
     ]
    }
   ],
   "source": [
    "# --- Section 10: Preparing Data for Machine Learning ---\n",
    "# Select numerical and encoded features for ML model training\n",
    "df_titanic['Age_standardized'] = (df_titanic['Age'] - df_titanic['Age'].mean()) / df_titanic['Age'].std()\n",
    "features = ['Pclass', 'Age', 'SibSp', 'Parch', 'Fare', 'FamilySize', 'Sex_male', 'Embarked_Q', 'Embarked_S', 'AgeGroup', 'Fare_scaled', 'Age_standardized']\n",
    "X = df_titanic[features]\n",
    "y = df_titanic['Survived']\n",
    "print(\"\\nStep 10a: Features selected for ML:\", features)\n",
    "print(\"Step 10b: Target variable:\", y.name)"
   ]
  },
  {
   "cell_type": "code",
   "execution_count": 40,
   "id": "b304bb86",
   "metadata": {},
   "outputs": [
    {
     "name": "stdout",
     "output_type": "stream",
     "text": [
      "Invalid action or feature. Features unchanged: ['Pclass', 'Age', 'SibSp', 'Parch', 'Fare', 'FamilySize', 'Sex_male', 'Embarked_Q', 'Embarked_S', 'AgeGroup', 'Fare_scaled', 'Age_standardized']\n"
     ]
    }
   ],
   "source": [
    "# Interactive: Ask students to add or remove a feature\n",
    "feature_action = input(\"Step 10c: Add or remove a feature? (add/remove, then feature name, e.g., 'add AgeGroup'): \").split()\n",
    "if feature_action[0].lower() == 'add' and feature_action[1] in df_titanic.columns and feature_action[1] not in features:\n",
    "    features.append(feature_action[1])\n",
    "    X = df_titanic[features]\n",
    "    print(f\"\\nAdded {feature_action[1]} to features. New features:\", features)\n",
    "elif feature_action[0].lower() == 'remove' and feature_action[1] in features:\n",
    "    features.remove(feature_action[1])\n",
    "    X = df_titanic[features]\n",
    "    print(f\"\\nRemoved {feature_action[1]} from features. New features:\", features)\n",
    "else:\n",
    "    print(\"Invalid action or feature. Features unchanged:\", features)"
   ]
  }
 ],
 "metadata": {
  "kernelspec": {
   "display_name": "Python 3",
   "language": "python",
   "name": "python3"
  },
  "language_info": {
   "codemirror_mode": {
    "name": "ipython",
    "version": 3
   },
   "file_extension": ".py",
   "mimetype": "text/x-python",
   "name": "python",
   "nbconvert_exporter": "python",
   "pygments_lexer": "ipython3",
   "version": "3.12.1"
  }
 },
 "nbformat": 4,
 "nbformat_minor": 5
}
