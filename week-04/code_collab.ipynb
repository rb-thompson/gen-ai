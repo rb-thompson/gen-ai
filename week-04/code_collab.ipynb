{
 "cells": [
  {
   "cell_type": "code",
   "execution_count": 8,
   "id": "d1375050",
   "metadata": {},
   "outputs": [],
   "source": [
    "import pandas as pd\n",
    "import numpy as np\n",
    "import yfinance as yf"
   ]
  },
  {
   "cell_type": "code",
   "execution_count": 9,
   "id": "aea49977",
   "metadata": {},
   "outputs": [
    {
     "name": "stdout",
     "output_type": "stream",
     "text": [
      "Step 1a: Titanic dataset loaded with 891 passengers and 12 columns.\n"
     ]
    }
   ],
   "source": [
    "# Load the Titanic dataset from a GitHub URL\n",
    "url = 'https://raw.githubusercontent.com/datasciencedojo/datasets/master/titanic.csv'\n",
    "df_titanic = pd.read_csv(url)\n",
    "print(\"Step 1a: Titanic dataset loaded with\", df_titanic.shape[0], \"passengers and\", df_titanic.shape[1], \"columns.\")"
   ]
  },
  {
   "cell_type": "code",
   "execution_count": 10,
   "id": "b503a0db",
   "metadata": {},
   "outputs": [
    {
     "name": "stdout",
     "output_type": "stream",
     "text": [
      "Step 1b: Apple stock data loaded with 756 days and 5 columns.\n"
     ]
    }
   ],
   "source": [
    "# Fetch Apple stock data from 2020 to 2023 using yfinance for time series practice\n",
    "df_stock = yf.download('AAPL', start='2020-01-01', end='2023-01-01', progress=False, auto_adjust=True)\n",
    "print(\"Step 1b: Apple stock data loaded with\", df_stock.shape[0], \"days and\", df_stock.shape[1], \"columns.\")"
   ]
  },
  {
   "cell_type": "code",
   "execution_count": 49,
   "id": "547c5394",
   "metadata": {},
   "outputs": [
    {
     "name": "stdout",
     "output_type": "stream",
     "text": [
      "\n",
      "Step 2a: First 5 rows of Titanic dataset:\n",
      "     PassengerId  Survived  Pclass                                      Name   Age  SibSp  Parch      Ticket   Fare     AgeGroup  Sex_male  Embarked_Q  Embarked_S\n",
      "886          887         0       2                     Montvila, Rev. Juozas  27.0      0      0      211536  13.00  Young Adult      True       False        True\n",
      "887          888         1       1              Graham, Miss. Margaret Edith  19.0      0      0      112053  30.00  Young Adult     False       False        True\n",
      "888          889         0       3  Johnston, Miss. Catherine Helen \"Carrie\"  28.0      1      2  W./C. 6607  23.45  Young Adult     False       False        True\n",
      "889          890         1       1                     Behr, Mr. Karl Howell  26.0      0      0      111369  30.00  Young Adult      True       False       False\n",
      "890          891         0       3                       Dooley, Mr. Patrick  32.0      0      0      370376   7.75  Young Adult      True        True       False\n"
     ]
    }
   ],
   "source": [
    "# --- Section 2: Data Inspection ---\n",
    "# Display the first 5 rows of the Titanic dataset to understand its structure\n",
    "pd.set_option('display.width', 1000)\n",
    "print(\"\\nStep 2a: First 5 rows of Titanic dataset:\")\n",
    "print(df_titanic.tail())"
   ]
  },
  {
   "cell_type": "code",
   "execution_count": 48,
   "id": "635dd592",
   "metadata": {},
   "outputs": [
    {
     "name": "stdout",
     "output_type": "stream",
     "text": [
      "\n",
      "Step 2b: First 5 rows of Apple stock data:\n",
      "Price            Close        High         Low        Open    Volume\n",
      "Ticker            AAPL        AAPL        AAPL        AAPL      AAPL\n",
      "Date                                                                \n",
      "2022-12-23  130.173767  130.726603  127.982155  129.245785  63814900\n",
      "2022-12-27  128.367188  129.729545  127.073942  129.699930  69007800\n",
      "2022-12-28  124.428215  129.354401  124.260391  128.011792  85438400\n",
      "2022-12-29  127.952568  128.811438  126.096612  126.353282  75703700\n",
      "2022-12-30  128.268463  128.288212  125.800440  126.767912  77034200\n"
     ]
    }
   ],
   "source": [
    "pd.set_option('display.width', 1000)\n",
    "print(\"\\nStep 2b: First 5 rows of Apple stock data:\")\n",
    "print(df_stock.tail())"
   ]
  },
  {
   "cell_type": "code",
   "execution_count": 16,
   "id": "29a3f700",
   "metadata": {},
   "outputs": [
    {
     "name": "stdout",
     "output_type": "stream",
     "text": [
      "<class 'pandas.core.frame.DataFrame'>\n",
      "RangeIndex: 891 entries, 0 to 890\n",
      "Data columns (total 12 columns):\n",
      " #   Column       Non-Null Count  Dtype  \n",
      "---  ------       --------------  -----  \n",
      " 0   PassengerId  891 non-null    int64  \n",
      " 1   Survived     891 non-null    int64  \n",
      " 2   Pclass       891 non-null    int64  \n",
      " 3   Name         891 non-null    object \n",
      " 4   Sex          891 non-null    object \n",
      " 5   Age          714 non-null    float64\n",
      " 6   SibSp        891 non-null    int64  \n",
      " 7   Parch        891 non-null    int64  \n",
      " 8   Ticket       891 non-null    object \n",
      " 9   Fare         891 non-null    float64\n",
      " 10  Cabin        204 non-null    object \n",
      " 11  Embarked     889 non-null    object \n",
      "dtypes: float64(2), int64(5), object(5)\n",
      "memory usage: 83.7+ KB\n",
      "None\n"
     ]
    }
   ],
   "source": [
    "print(df_titanic.info())"
   ]
  },
  {
   "cell_type": "code",
   "execution_count": 17,
   "id": "c0170185",
   "metadata": {},
   "outputs": [
    {
     "name": "stdout",
     "output_type": "stream",
     "text": [
      "<class 'pandas.core.frame.DataFrame'>\n",
      "DatetimeIndex: 756 entries, 2020-01-02 to 2022-12-30\n",
      "Data columns (total 5 columns):\n",
      " #   Column          Non-Null Count  Dtype  \n",
      "---  ------          --------------  -----  \n",
      " 0   (Close, AAPL)   756 non-null    float64\n",
      " 1   (High, AAPL)    756 non-null    float64\n",
      " 2   (Low, AAPL)     756 non-null    float64\n",
      " 3   (Open, AAPL)    756 non-null    float64\n",
      " 4   (Volume, AAPL)  756 non-null    int64  \n",
      "dtypes: float64(4), int64(1)\n",
      "memory usage: 35.4 KB\n",
      "None\n"
     ]
    }
   ],
   "source": [
    "print(df_stock.info())"
   ]
  },
  {
   "cell_type": "code",
   "execution_count": 29,
   "id": "78aba593",
   "metadata": {},
   "outputs": [
    {
     "name": "stdout",
     "output_type": "stream",
     "text": [
      "\n",
      "Step 2c: Titanic Summary Statistics:\n",
      "       PassengerId    Survived      Pclass         Age       SibSp       Parch        Fare\n",
      "count   891.000000  891.000000  891.000000  891.000000  891.000000  891.000000  891.000000\n",
      "mean    446.000000    0.383838    2.308642   29.361582    0.523008    0.381594   32.204208\n",
      "std     257.353842    0.486592    0.836071   13.019697    1.102743    0.806057   49.693429\n",
      "min       1.000000    0.000000    1.000000    0.420000    0.000000    0.000000    0.000000\n",
      "25%     223.500000    0.000000    2.000000   22.000000    0.000000    0.000000    7.910400\n",
      "50%     446.000000    0.000000    3.000000   28.000000    0.000000    0.000000   14.454200\n",
      "75%     668.500000    1.000000    3.000000   35.000000    1.000000    0.000000   31.000000\n",
      "max     891.000000    1.000000    3.000000   80.000000    8.000000    6.000000  512.329200\n",
      "(891, 12)\n"
     ]
    }
   ],
   "source": [
    "# Exploratory Data Analysis (EDA)\n",
    "print(\"\\nStep 2c: Titanic Summary Statistics:\")\n",
    "print(df_titanic.describe())\n",
    "print(df_titanic.shape)"
   ]
  },
  {
   "cell_type": "code",
   "execution_count": 28,
   "id": "d8628fc7",
   "metadata": {},
   "outputs": [
    {
     "name": "stdout",
     "output_type": "stream",
     "text": [
      "\n",
      "Unique values in each column of Titanic dataset:\n",
      "PassengerId    891\n",
      "Survived         2\n",
      "Pclass           3\n",
      "Name           891\n",
      "Sex              2\n",
      "Age             88\n",
      "SibSp            7\n",
      "Parch            7\n",
      "Ticket         681\n",
      "Fare           248\n",
      "Cabin          147\n",
      "Embarked         3\n",
      "dtype: int64\n"
     ]
    }
   ],
   "source": [
    "print(\"\\nUnique values in each column of Titanic dataset:\")\n",
    "print(df_titanic.nunique())"
   ]
  },
  {
   "cell_type": "code",
   "execution_count": 25,
   "id": "79adafff",
   "metadata": {},
   "outputs": [
    {
     "name": "stdout",
     "output_type": "stream",
     "text": [
      "\n",
      "Step 2d: Apple Stock Summary Statistics:\n",
      "Price        Close        High         Low        Open        Volume\n",
      "Ticker        AAPL        AAPL        AAPL        AAPL          AAPL\n",
      "count   756.000000  756.000000  756.000000  756.000000  7.560000e+02\n",
      "mean    127.633103  129.181520  125.971434  127.555152  1.120920e+08\n",
      "std      30.421463   30.698899   30.139550   30.449563  5.602586e+07\n",
      "min      54.378582   55.379535   51.528416   55.277744  3.519590e+07\n",
      "25%     112.709518  114.204950  111.251833  112.889681  7.636470e+07\n",
      "50%     133.010811  134.143863  131.050657  132.832314  9.493580e+07\n",
      "75%     148.221516  149.388626  146.276881  147.588766  1.296327e+08\n",
      "max     178.645645  179.558473  175.809076  179.254206  4.265100e+08\n",
      "\n",
      "Shape:\n",
      "(756, 5)\n",
      "\n",
      "Unique values in each column of AAPL Stock dataset:\n",
      "Price   Ticker\n",
      "Close   AAPL      747\n",
      "High    AAPL      756\n",
      "Low     AAPL      756\n",
      "Open    AAPL      756\n",
      "Volume  AAPL      754\n",
      "dtype: int64\n"
     ]
    }
   ],
   "source": [
    "print(\"\\nStep 2d: Apple Stock Summary Statistics:\")\n",
    "print(df_stock.describe())\n",
    "\n",
    "print(\"\\nShape:\")\n",
    "print(df_stock.shape)\n",
    "\n",
    "print(\"\\nUnique values in each column of AAPL Stock dataset:\")\n",
    "print(df_stock.nunique())"
   ]
  },
  {
   "cell_type": "code",
   "execution_count": 31,
   "id": "c429424f",
   "metadata": {},
   "outputs": [
    {
     "name": "stdout",
     "output_type": "stream",
     "text": [
      "PassengerId      0\n",
      "Survived         0\n",
      "Pclass           0\n",
      "Name             0\n",
      "Sex              0\n",
      "Age              0\n",
      "SibSp            0\n",
      "Parch            0\n",
      "Ticket           0\n",
      "Fare             0\n",
      "Cabin          687\n",
      "Embarked         0\n",
      "dtype: int64\n"
     ]
    }
   ],
   "source": [
    "print(df_titanic.isnull().sum())"
   ]
  },
  {
   "cell_type": "code",
   "execution_count": 27,
   "id": "2cfe62b0",
   "metadata": {},
   "outputs": [
    {
     "name": "stdout",
     "output_type": "stream",
     "text": [
      "Step 3b: Filled missing Age values with median age: 28.0\n"
     ]
    }
   ],
   "source": [
    "# Filling values is a whole science in itself\n",
    "median_age = df_titanic['Age'].median()\n",
    "df_titanic['Age'] =  df_titanic['Age'].fillna(median_age)\n",
    "print(\"Step 3b: Filled missing Age values with median age:\", median_age)"
   ]
  },
  {
   "cell_type": "code",
   "execution_count": 30,
   "id": "700e2492",
   "metadata": {},
   "outputs": [
    {
     "name": "stdout",
     "output_type": "stream",
     "text": [
      "Most common Embarked value: S\n"
     ]
    }
   ],
   "source": [
    "most_common_embarked = df_titanic['Embarked'].mode()[0]\n",
    "print(\"Most common Embarked value:\", most_common_embarked)\n",
    "df_titanic['Embarked'] = df_titanic['Embarked'].fillna(most_common_embarked)"
   ]
  },
  {
   "cell_type": "code",
   "execution_count": 38,
   "id": "0d6f22fa",
   "metadata": {},
   "outputs": [
    {
     "name": "stdout",
     "output_type": "stream",
     "text": [
      "\n",
      "Step 3c: Dropped 'Cabin' column from Titanic dataset.\n"
     ]
    }
   ],
   "source": [
    "df_titanic = df_titanic.drop(columns=['Cabin'], axis=1, errors='ignore')\n",
    "print(\"\\nStep 3c: Dropped 'Cabin' column from Titanic dataset.\")"
   ]
  },
  {
   "cell_type": "code",
   "execution_count": 37,
   "id": "428303ee",
   "metadata": {},
   "outputs": [
    {
     "name": "stdout",
     "output_type": "stream",
     "text": [
      "\n",
      "Step 3d: Dropped duplicate rows from Titanic dataset.\n",
      "(891, 11)\n"
     ]
    }
   ],
   "source": [
    "df_titanic = df_titanic.drop_duplicates()\n",
    "print(\"\\nStep 3d: Dropped duplicate rows from Titanic dataset.\")\n",
    "print(df_titanic.shape)"
   ]
  },
  {
   "cell_type": "code",
   "execution_count": 39,
   "id": "26cead76",
   "metadata": {},
   "outputs": [
    {
     "name": "stdout",
     "output_type": "stream",
     "text": [
      "\n",
      "Step 3e: Passengers older than 30 years:\n",
      "    PassengerId  Survived  Pclass                                               Name     Sex   Age  SibSp  Parch    Ticket     Fare Embarked\n",
      "1             2         1       1  Cumings, Mrs. John Bradley (Florence Briggs Th...  female  38.0      1      0  PC 17599  71.2833        C\n",
      "3             4         1       1       Futrelle, Mrs. Jacques Heath (Lily May Peel)  female  35.0      1      0    113803  53.1000        S\n",
      "4             5         0       3                           Allen, Mr. William Henry    male  35.0      0      0    373450   8.0500        S\n",
      "6             7         0       1                            McCarthy, Mr. Timothy J    male  54.0      0      0     17463  51.8625        S\n",
      "11           12         1       1                           Bonnell, Miss. Elizabeth  female  58.0      0      0    113783  26.5500        S\n"
     ]
    }
   ],
   "source": [
    "older_than_30 = df_titanic[df_titanic['Age'] > 30]\n",
    "print(\"\\nStep 3e: Passengers older than 30 years:\")\n",
    "print(older_than_30.head())"
   ]
  },
  {
   "cell_type": "code",
   "execution_count": 41,
   "id": "6010b626",
   "metadata": {},
   "outputs": [
    {
     "name": "stdout",
     "output_type": "stream",
     "text": [
      "\n",
      "Step 3f: Passengers sorted by Fare in descending order:\n",
      "     PassengerId  Survived  Pclass                                Name     Sex   Age  SibSp  Parch    Ticket      Fare Embarked\n",
      "679          680         1       1  Cardeza, Mr. Thomas Drake Martinez    male  36.0      0      1  PC 17755  512.3292        C\n",
      "258          259         1       1                    Ward, Miss. Anna  female  35.0      0      0  PC 17755  512.3292        C\n",
      "737          738         1       1              Lesurer, Mr. Gustave J    male  35.0      0      0  PC 17755  512.3292        C\n",
      "88            89         1       1          Fortune, Miss. Mabel Helen  female  23.0      3      2     19950  263.0000        S\n",
      "438          439         0       1                   Fortune, Mr. Mark    male  64.0      1      4     19950  263.0000        S\n"
     ]
    }
   ],
   "source": [
    "sorted_by_fare = df_titanic.sort_values(by='Fare', ascending=False)\n",
    "print(\"\\nStep 3f: Passengers sorted by Fare in descending order:\")\n",
    "print(sorted_by_fare.head())"
   ]
  },
  {
   "cell_type": "code",
   "execution_count": 42,
   "id": "10e64d42",
   "metadata": {},
   "outputs": [
    {
     "name": "stdout",
     "output_type": "stream",
     "text": [
      "Pclass\n",
      "1    84.154687\n",
      "2    20.662183\n",
      "3    13.675550\n",
      "Name: Fare, dtype: float64\n"
     ]
    }
   ],
   "source": [
    "mean_fare_by_price = df_titanic.groupby('Pclass')['Fare'].mean()\n",
    "print(mean_fare_by_price)"
   ]
  },
  {
   "cell_type": "code",
   "execution_count": 44,
   "id": "b5762b6a",
   "metadata": {},
   "outputs": [
    {
     "name": "stdout",
     "output_type": "stream",
     "text": [
      "\n",
      "Step 5b: One-hot encoded 'Sex' and 'Embarked'. New columns:\n",
      "['PassengerId', 'Survived', 'Pclass', 'Name', 'Age', 'SibSp', 'Parch', 'Ticket', 'Fare', 'AgeGroup', 'Sex_male', 'Embarked_Q', 'Embarked_S']\n"
     ]
    }
   ],
   "source": [
    "# One-hot encode 'Sex' and 'Embarked' for ML model compatibility\n",
    "df_titanic = pd.get_dummies(df_titanic, columns=['Sex', 'Embarked'], drop_first=True)\n",
    "print(\"\\nStep 5b: One-hot encoded 'Sex' and 'Embarked'. New columns:\")\n",
    "print(list(df_titanic.columns))"
   ]
  },
  {
   "cell_type": "code",
   "execution_count": 46,
   "id": "ad611daf",
   "metadata": {},
   "outputs": [
    {
     "name": "stdout",
     "output_type": "stream",
     "text": [
      "\n",
      "Step 5c: Age groups added to Titanic dataset:\n",
      "    Age     AgeGroup\n",
      "0  22.0  Young Adult\n",
      "1  38.0        Adult\n",
      "2  26.0  Young Adult\n",
      "3  35.0        Adult\n",
      "4  35.0        Adult\n"
     ]
    }
   ],
   "source": [
    "bins = [0, 12, 18, 35, 60, 100]\n",
    "labels = ['Child', 'Teenager', 'Young Adult', 'Adult', 'Senior']\n",
    "df_titanic['AgeGroup'] = pd.cut(df_titanic['Age'], bins=bins, labels=labels, right=False)\n",
    "print(\"\\nStep 5c: Age groups added to Titanic dataset:\")\n",
    "print(df_titanic[['Age', 'AgeGroup']].head())"
   ]
  },
  {
   "cell_type": "code",
   "execution_count": 47,
   "id": "2f53cbe1",
   "metadata": {},
   "outputs": [
    {
     "name": "stdout",
     "output_type": "stream",
     "text": [
      "\n",
      "Step 9a: Ticket Adjustment DataFrame (first 5):\n",
      "             Ticket  Adjustment\n",
      "0         A/5 21171    6.413895\n",
      "1          PC 17599    8.840818\n",
      "2  STON/O2. 3101282   -6.784584\n",
      "3            113803    9.154605\n",
      "4            373450    5.217589\n"
     ]
    }
   ],
   "source": [
    "ticket_adjustment = pd.DataFrame({\n",
    "    'Ticket': df_titanic['Ticket'].unique(),\n",
    "    'Adjustment': np.random.uniform(-10, 10, size=len(df_titanic['Ticket'].unique()))\n",
    "})\n",
    "print(\"\\nStep 9a: Ticket Adjustment DataFrame (first 5):\")\n",
    "print(ticket_adjustment.head())"
   ]
  },
  {
   "cell_type": "code",
   "execution_count": null,
   "id": "b1e1c63b",
   "metadata": {},
   "outputs": [],
   "source": [
    "# Read data into dataframes -> clean data -> wrangle data -> feature engineering\n"
   ]
  }
 ],
 "metadata": {
  "kernelspec": {
   "display_name": ".venv",
   "language": "python",
   "name": "python3"
  },
  "language_info": {
   "codemirror_mode": {
    "name": "ipython",
    "version": 3
   },
   "file_extension": ".py",
   "mimetype": "text/x-python",
   "name": "python",
   "nbconvert_exporter": "python",
   "pygments_lexer": "ipython3",
   "version": "3.12.1"
  }
 },
 "nbformat": 4,
 "nbformat_minor": 5
}
