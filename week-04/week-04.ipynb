{
 "cells": [
  {
   "cell_type": "code",
   "execution_count": 13,
   "id": "a132728c",
   "metadata": {},
   "outputs": [
    {
     "name": "stdout",
     "output_type": "stream",
     "text": [
      "Original DataFrame:\n",
      "      Name     Age  Score        Date\n",
      "0      Eve      24   88.0  2023-01-05\n",
      "1      Bob  thirty    NaN  2023-01-02\n",
      "2  Charlie      22    NaN  2023-01-03\n",
      "3    David      35  105.0  2023-01-04\n",
      "4      Eve      24   88.0  2023-01-05\n"
     ]
    }
   ],
   "source": [
    "import pandas as pd\n",
    "import numpy as np\n",
    "\n",
    "data = {\n",
    "    'Name': ['Eve', 'Bob', 'Charlie', 'David', 'Eve'],\n",
    "    'Age': [24, 'thirty', 22, 35, 24],\n",
    "    'Score': [88.0, np.nan, np.nan, 105.0, 88.0],\n",
    "    'Date': ['2023-01-05', '2023-01-02', '2023-01-03', '2023-01-04', '2023-01-05']\n",
    "}\n",
    "\n",
    "df = pd.DataFrame(data)\n",
    "print(\"Original DataFrame:\")\n",
    "print(df)"
   ]
  },
  {
   "cell_type": "markdown",
   "id": "c08a4055",
   "metadata": {},
   "source": [
    "### Dirty Data: An Opportunity for Cleaning Up Bias in AI - [Read Article](https://news.ucsb.edu/2024/021521/dirty-data-opportunity-cleaning-bias-ai)\n",
    "> “No one had studied the fairness aspect of imputation before, which was surprising because missing data is such a prevalent problem in the real world,” she said. “Nearly all of the research at the time centered around developing better training algorithms to eliminate bias, but not many people thought about addressing the bias that happened during data collection.”"
   ]
  },
  {
   "cell_type": "code",
   "execution_count": 14,
   "id": "01d6d535",
   "metadata": {},
   "outputs": [
    {
     "name": "stdout",
     "output_type": "stream",
     "text": [
      "Name     0\n",
      "Age      0\n",
      "Score    2\n",
      "Date     0\n",
      "dtype: int64\n"
     ]
    }
   ],
   "source": [
    "# Data cleaning is important for AI projects to ensure integrity and accuracy.\n",
    "\n",
    "# Identify Missing Values\n",
    "print(df.isnull().sum())"
   ]
  },
  {
   "cell_type": "code",
   "execution_count": 15,
   "id": "d55c7239",
   "metadata": {},
   "outputs": [
    {
     "name": "stdout",
     "output_type": "stream",
     "text": [
      "\n",
      "DataFrame after removing rows with missing 'Score':\n",
      "    Name Age  Score        Date\n",
      "0    Eve  24   88.0  2023-01-05\n",
      "3  David  35  105.0  2023-01-04\n",
      "4    Eve  24   88.0  2023-01-05\n"
     ]
    }
   ],
   "source": [
    "# Remove missing values\n",
    "df_cleaned = df.dropna(subset=['Score'])\n",
    "print(\"\\nDataFrame after removing rows with missing 'Score':\")\n",
    "print(df_cleaned)\n",
    "\n",
    "# Removing missing values avoids distorting the analysis and ensures that the model is trained on complete data."
   ]
  },
  {
   "cell_type": "code",
   "execution_count": 16,
   "id": "5fe0244e",
   "metadata": {},
   "outputs": [
    {
     "name": "stdout",
     "output_type": "stream",
     "text": [
      "\n",
      "Mean Score: 93.66666666666667\n",
      "\n",
      "DataFrame after replacing missing 'Score' with mean:\n",
      "      Name     Age       Score        Date\n",
      "0      Eve      24   88.000000  2023-01-05\n",
      "1      Bob  thirty   93.666667  2023-01-02\n",
      "2  Charlie      22   93.666667  2023-01-03\n",
      "3    David      35  105.000000  2023-01-04\n",
      "4      Eve      24   88.000000  2023-01-05\n"
     ]
    }
   ],
   "source": [
    "# Replace missing 'Score' with the mean\n",
    "mean_score = df['Score'].mean()\n",
    "print(\"\\nMean Score:\", mean_score)\n",
    "\n",
    "df.fillna({'Score': mean_score}, inplace=True)\n",
    "print(\"\\nDataFrame after replacing missing 'Score' with mean:\")\n",
    "print(df)"
   ]
  },
  {
   "cell_type": "code",
   "execution_count": 17,
   "id": "84f4b5c7",
   "metadata": {},
   "outputs": [
    {
     "name": "stdout",
     "output_type": "stream",
     "text": [
      "1\n",
      "\n",
      "DataFrame after removing duplicates:\n",
      "      Name     Age       Score        Date\n",
      "0      Eve      24   88.000000  2023-01-05\n",
      "1      Bob  thirty   93.666667  2023-01-02\n",
      "2  Charlie      22   93.666667  2023-01-03\n",
      "3    David      35  105.000000  2023-01-04\n"
     ]
    }
   ],
   "source": [
    "# Check for duplicates\n",
    "print(df.duplicated().sum())\n",
    "\n",
    "# Remove duplicate rows on the 'Name' column\n",
    "df = df.drop_duplicates(subset='Name')\n",
    "print(\"\\nDataFrame after removing duplicates:\")\n",
    "print(df)\n",
    "\n",
    "# Duplicates can occur due to data entry errors or merging datasets."
   ]
  },
  {
   "cell_type": "code",
   "execution_count": 18,
   "id": "23300db9",
   "metadata": {},
   "outputs": [
    {
     "name": "stdout",
     "output_type": "stream",
     "text": [
      "Name      object\n",
      "Age       object\n",
      "Score    float64\n",
      "Date      object\n",
      "dtype: object\n"
     ]
    }
   ],
   "source": [
    "# Check data types\n",
    "print(df.dtypes)"
   ]
  },
  {
   "cell_type": "code",
   "execution_count": 19,
   "id": "5318c395",
   "metadata": {},
   "outputs": [],
   "source": [
    "# Convert 'Age' to numeric, forcing errors to NaN\n",
    "df['Age'] = pd.to_numeric(df['Age'], errors='coerce')\n",
    "\n",
    "# Fill missing 'Age' values with the median\n",
    "median_age = df['Age'].median()\n",
    "df['Age'] = df['Age'].fillna(median_age)"
   ]
  },
  {
   "cell_type": "code",
   "execution_count": 20,
   "id": "0a908961",
   "metadata": {},
   "outputs": [
    {
     "name": "stdout",
     "output_type": "stream",
     "text": [
      "\n",
      "DataFrame after converting 'Date' to datetime:\n",
      "      Name   Age       Score       Date\n",
      "0      Eve  24.0   88.000000 2023-01-05\n",
      "1      Bob  24.0   93.666667 2023-01-02\n",
      "2  Charlie  22.0   93.666667 2023-01-03\n",
      "3    David  35.0  105.000000 2023-01-04\n"
     ]
    }
   ],
   "source": [
    "# Convert 'Date' to datetime\n",
    "df['Date'] = pd.to_datetime(df['Date'])\n",
    "print(\"\\nDataFrame after converting 'Date' to datetime:\")\n",
    "print(df)\n",
    "\n",
    "# Correct data types are important for AI model training because they ensure that the data is interpreted correctly."
   ]
  },
  {
   "cell_type": "code",
   "execution_count": 21,
   "id": "d9889f01",
   "metadata": {},
   "outputs": [
    {
     "name": "stdout",
     "output_type": "stream",
     "text": [
      "Outliers:\n",
      "    Name   Age  Score       Date\n",
      "3  David  35.0  105.0 2023-01-04\n"
     ]
    }
   ],
   "source": [
    "# Handling outliers\n",
    "outliers = df[df['Score'] > 100]\n",
    "print(\"Outliers:\")\n",
    "print(outliers)"
   ]
  },
  {
   "cell_type": "code",
   "execution_count": null,
   "id": "d860b501",
   "metadata": {},
   "outputs": [
    {
     "name": "stdout",
     "output_type": "stream",
     "text": [
      "\n",
      "DataFrame after capping 'Score' at 100:\n",
      "      Name   Age  Score       Date\n",
      "0      Eve  24.0   88.0 2023-01-05\n",
      "1      Bob  24.0   93.7 2023-01-02\n",
      "2  Charlie  22.0   93.7 2023-01-03\n",
      "3    David  35.0  100.0 2023-01-04\n"
     ]
    }
   ],
   "source": [
    "# Cap scores at 100\n",
    "df.loc[df['Score'] > 100, 'Score'] = 100\n",
    "\n",
    "# Round scores\n",
    "df['Score'] = df['Score'].round(1)\n",
    "\n",
    "print(\"\\nDataFrame after capping 'Score' at 100:\")\n",
    "print(df)\n",
    "\n",
    "# Outliers affect machine learning models by skewing the results, so handling them is crucial.\n",
    "# For example, capping scores prevents extreme values from disproportionately influencing the model.\n",
    "# However, it is also important to analyze why outliers exist, as they may represent valid extreme cases."
   ]
  }
 ],
 "metadata": {
  "kernelspec": {
   "display_name": "Python 3",
   "language": "python",
   "name": "python3"
  },
  "language_info": {
   "codemirror_mode": {
    "name": "ipython",
    "version": 3
   },
   "file_extension": ".py",
   "mimetype": "text/x-python",
   "name": "python",
   "nbconvert_exporter": "python",
   "pygments_lexer": "ipython3",
   "version": "3.12.1"
  }
 },
 "nbformat": 4,
 "nbformat_minor": 5
}
