{
 "cells": [
  {
   "cell_type": "markdown",
   "id": "82844166",
   "metadata": {},
   "source": [
    "### Simulating Weighted Sampling"
   ]
  },
  {
   "cell_type": "code",
   "execution_count": 5,
   "id": "5438b062",
   "metadata": {},
   "outputs": [
    {
     "name": "stdout",
     "output_type": "stream",
     "text": [
      "Initial Weights: [0.2 0.2 0.2 0.2 0.2]\n",
      "Weights after misclassification adjustment: [0.2 0.2 0.2 0.2 0.4]\n",
      "Normalized Weights: [0.16666667 0.16666667 0.16666667 0.16666667 0.33333333]\n",
      "Original Subset:\n",
      "   Pclass     Sex   Age  Survived\n",
      "0       3    male  22.0         0\n",
      "1       1  female  38.0         1\n",
      "2       3  female  26.0         1\n",
      "3       1  female  35.0         1\n",
      "4       3    male  35.0         0\n",
      "\n",
      "Weighted Sample:\n",
      "   Pclass     Sex   Age  Survived\n",
      "2       3  female  26.0         1\n",
      "4       3    male  35.0         0\n",
      "4       3    male  35.0         0\n",
      "3       1  female  35.0         1\n",
      "0       3    male  22.0         0\n"
     ]
    }
   ],
   "source": [
    "import pandas as pd \n",
    "import numpy as np \n",
    "\n",
    "# Load Titanic dataset\n",
    "url = 'https://raw.githubusercontent.com/datasciencedojo/datasets/master/titanic.csv'\n",
    "df = pd.read_csv(url)\n",
    "\n",
    "# Select a small subset\n",
    "df_small = df[['Pclass', 'Sex', 'Age', 'Survived']].head(5)\n",
    "\n",
    "# Assign initial weights\n",
    "weights = np.array([1/5] * 5)\n",
    "print(\"Initial Weights:\", weights)\n",
    "\n",
    "# Simulate misclassification (e.g., last instance is wrong)\n",
    "misclassified = [False, False, False, False, True]\n",
    "weights[misclassified] *= 2  # Increase weight of misclassified\n",
    "print(\"Weights after misclassification adjustment:\", weights)\n",
    "\n",
    "weights /= weights.sum()  # Normalize weights\n",
    "print(\"Normalized Weights:\", weights)\n",
    "\n",
    "# Sample with weights\n",
    "weighted_sample = df_small.sample(n=5, replace=True, weights=weights, random_state=42)\n",
    "print(\"Original Subset:\")\n",
    "print(df_small)\n",
    "print(\"\\nWeighted Sample:\")\n",
    "print(weighted_sample)"
   ]
  },
  {
   "cell_type": "code",
   "execution_count": null,
   "id": "7f5caae2",
   "metadata": {},
   "outputs": [
    {
     "name": "stdout",
     "output_type": "stream",
     "text": [
      "\n",
      "Iteration 1 Weights before normalization: [0.25 0.5  0.25 0.5 ]\n",
      "Iteration 1 Normalized Weights: [0.16666667 0.33333333 0.16666667 0.33333333]\n",
      "Weighted Sample for Iteration 1:\n",
      "   Pclass     Sex   Age  Survived\n",
      "0       3    male  22.0         0\n",
      "1       1  female  38.0         1\n",
      "1       1  female  38.0         1\n",
      "2       3  female  26.0         1\n",
      "\n",
      "Iteration 2 Weights before normalization: [0.25 0.5  0.25 0.5 ]\n",
      "Iteration 2 Normalized Weights: [0.16666667 0.33333333 0.16666667 0.33333333]\n",
      "Weighted Sample for Iteration 2:\n",
      "   Pclass     Sex   Age  Survived\n",
      "1       1  female  38.0         1\n",
      "0       3    male  22.0         0\n",
      "0       3    male  22.0         0\n",
      "4       3    male  35.0         0\n"
     ]
    }
   ],
   "source": [
    "# Simulate two iterations of weight updates with four instances\n",
    "for iteration in range(2):\n",
    "    # Randomly select four instances from the original subset\n",
    "    selected_indices = np.random.choice(df_small.index, size=4, replace=False)\n",
    "    selected_instances = df_small.loc[selected_indices]\n",
    "    \n",
    "    # Assign new weights for the selected instances\n",
    "    new_weights = np.array([1/4] * 4)\n",
    "    \n",
    "    # Simulate misclassification for the selected instances\n",
    "    misclassified = [False, True, False, True]  # Example misclassification\n",
    "    new_weights[misclassified] *= 2  # Increase weight of misclassified\n",
    "    print(f\"\\nIteration {iteration + 1} Weights before normalization:\", new_weights)\n",
    "    \n",
    "    new_weights /= new_weights.sum()  # Normalize weights\n",
    "    print(f\"Iteration {iteration + 1} Normalized Weights:\", new_weights)\n",
    "    \n",
    "    # Sample with new weights\n",
    "    weighted_sample_iter = selected_instances.sample(n=4, replace=True, weights=new_weights, random_state=42)\n",
    "    print(f\"Weighted Sample for Iteration {iteration + 1}:\")\n",
    "    print(weighted_sample_iter)\n",
    "\n",
    "    # Weighting misclassified instances improves model performance by continuously focusing on harder-to-classify instances.\n",
    "    # This iterative process allows the model to adapt and improve its accuracy over time."
   ]
  },
  {
   "cell_type": "markdown",
   "id": "9260fd18",
   "metadata": {},
   "source": [
    "Imagine a dataset with three passengers: A, B, and C, each with weight 1/3. The first weak learner correctly predicts A and B but misclassifies C. C’s weight increases to 1/2, while A and B’s weights drop to 1/4. The next learner focuses on C, correcting its prediction but perhaps misclassifying A. This process continues, with the final model combining all predictions, weighted by each learner’s accuracy."
   ]
  },
  {
   "cell_type": "markdown",
   "id": "2a93b22c",
   "metadata": {},
   "source": [
    "### AdaBoost Classifier"
   ]
  },
  {
   "cell_type": "code",
   "execution_count": 7,
   "id": "33659fe0",
   "metadata": {},
   "outputs": [
    {
     "name": "stdout",
     "output_type": "stream",
     "text": [
      "Single Decision Stump Accuracy: 0.78\n"
     ]
    }
   ],
   "source": [
    "import pandas as pd\n",
    "from sklearn.model_selection import train_test_split\n",
    "from sklearn.tree import DecisionTreeClassifier\n",
    "from sklearn.ensemble import AdaBoostClassifier, BaggingClassifier\n",
    "from sklearn.metrics import accuracy_score\n",
    "\n",
    "# Load and preprocess Titanic dataset\n",
    "url = 'https://raw.githubusercontent.com/datasciencedojo/datasets/master/titanic.csv'\n",
    "df = pd.read_csv(url)\n",
    "df = df[['Pclass', 'Sex', 'Age', 'Fare', 'Survived']]\n",
    "df['Age'] = df['Age'].fillna(df['Age'].median())\n",
    "df['Sex'] = df['Sex'].map({'male': 0, 'female': 1})\n",
    "\n",
    "# Split data\n",
    "X = df.drop('Survived', axis=1)\n",
    "y = df['Survived']\n",
    "X_train, X_test, y_train, y_test = train_test_split(X, y, test_size=0.2, random_state=42)\n",
    "\n",
    "# Single decision stump\n",
    "dt = DecisionTreeClassifier(max_depth=1, random_state=42)\n",
    "dt.fit(X_train, y_train)\n",
    "y_pred_dt = dt.predict(X_test)\n",
    "print(f\"Single Decision Stump Accuracy: {accuracy_score(y_test, y_pred_dt):.2f}\")"
   ]
  },
  {
   "cell_type": "code",
   "execution_count": 16,
   "id": "4acc0dd2",
   "metadata": {},
   "outputs": [
    {
     "name": "stdout",
     "output_type": "stream",
     "text": [
      "AdaBoost Accuracy: 0.80\n"
     ]
    }
   ],
   "source": [
    "# AdaBoost with decision stumps\n",
    "ada = AdaBoostClassifier(estimator=dt, n_estimators=50, random_state=42)\n",
    "ada.fit(X_train, y_train)\n",
    "y_pred_ada = ada.predict(X_test)\n",
    "print(f\"AdaBoost Accuracy: {accuracy_score(y_test, y_pred_ada):.2f}\")"
   ]
  },
  {
   "cell_type": "code",
   "execution_count": 17,
   "id": "114ef8a1",
   "metadata": {},
   "outputs": [
    {
     "name": "stdout",
     "output_type": "stream",
     "text": [
      "AdaBoost with Logistic Regression Accuracy: 0.79\n"
     ]
    }
   ],
   "source": [
    "# AdaBoost with decision stumps using Logistic Regression\n",
    "from sklearn.linear_model import LogisticRegression\n",
    "\n",
    "log_reg = LogisticRegression(max_iter=1000, random_state=42)\n",
    "ada_log_reg = AdaBoostClassifier(estimator=log_reg, n_estimators=50, random_state=42)\n",
    "ada_log_reg.fit(X_train, y_train)\n",
    "y_pred_ada_log_reg = ada_log_reg.predict(X_test)\n",
    "print(f\"AdaBoost with Logistic Regression Accuracy: {accuracy_score(y_test, y_pred_ada_log_reg):.2f}\")"
   ]
  },
  {
   "cell_type": "code",
   "execution_count": 19,
   "id": "32798fed",
   "metadata": {},
   "outputs": [
    {
     "name": "stdout",
     "output_type": "stream",
     "text": [
      "AdaBoost with Additional Features Accuracy: 0.80\n"
     ]
    }
   ],
   "source": [
    "# Add SibSp and Parch features\n",
    "\n",
    "# Reload df with SibSp and Parch columns\n",
    "url = 'https://raw.githubusercontent.com/datasciencedojo/datasets/master/titanic.csv'\n",
    "df = pd.read_csv(url)\n",
    "df = df[['Pclass', 'Sex', 'Age', 'Fare', 'SibSp', 'Parch', 'Survived']]\n",
    "df['Age'] = df['Age'].fillna(df['Age'].median())\n",
    "df['SibSp'] = df['SibSp'].fillna(0)\n",
    "df['Parch'] = df['Parch'].fillna(0)\n",
    "df['Sex'] = df['Sex'].map({'male': 0, 'female': 1})\n",
    "\n",
    "# Split data with additional features\n",
    "X = df.drop('Survived', axis=1)\n",
    "y = df['Survived']\n",
    "X_train, X_test, y_train, y_test = train_test_split(X, y, test_size=0.2, random_state=42)\n",
    "\n",
    "# Rerun AdaBoost with decision stumps\n",
    "ada = AdaBoostClassifier(estimator=dt, n_estimators=50, random_state=42)\n",
    "ada.fit(X_train, y_train)\n",
    "y_pred_ada = ada.predict(X_test)\n",
    "print(f\"AdaBoost with Additional Features Accuracy: {accuracy_score(y_test, y_pred_ada):.2f}\")"
   ]
  },
  {
   "cell_type": "code",
   "execution_count": 11,
   "id": "fc974520",
   "metadata": {},
   "outputs": [
    {
     "name": "stdout",
     "output_type": "stream",
     "text": [
      "Bagging Accuracy: 0.78\n"
     ]
    }
   ],
   "source": [
    "# Bagging for comparison\n",
    "bagging = BaggingClassifier(estimator=DecisionTreeClassifier(max_depth=1), n_estimators=50, random_state=42)\n",
    "bagging.fit(X_train, y_train)\n",
    "y_pred_bagging = bagging.predict(X_test)\n",
    "print(f\"Bagging Accuracy: {accuracy_score(y_test, y_pred_bagging):.2f}\")"
   ]
  },
  {
   "cell_type": "code",
   "execution_count": 20,
   "id": "93c506b1",
   "metadata": {},
   "outputs": [
    {
     "name": "stdout",
     "output_type": "stream",
     "text": [
      "AdaBoost CV Accuracy: 0.80 (+/- 0.06)\n",
      "\n",
      "AdaBoost Classification Report:\n",
      "              precision    recall  f1-score   support\n",
      "\n",
      "           0       0.81      0.87      0.84       105\n",
      "           1       0.79      0.72      0.75        74\n",
      "\n",
      "    accuracy                           0.80       179\n",
      "   macro avg       0.80      0.79      0.80       179\n",
      "weighted avg       0.80      0.80      0.80       179\n",
      "\n"
     ]
    }
   ],
   "source": [
    "from sklearn.model_selection import cross_val_score\n",
    "from sklearn.metrics import classification_report\n",
    "\n",
    "# Cross-validation for AdaBoost\n",
    "cv_scores_ada = cross_val_score(ada, X, y, cv=5)\n",
    "print(f\"AdaBoost CV Accuracy: {cv_scores_ada.mean():.2f} (+/- {cv_scores_ada.std() * 2:.2f})\")\n",
    "\n",
    "# Detailed metrics\n",
    "print(\"\\nAdaBoost Classification Report:\")\n",
    "print(classification_report(y_test, y_pred_ada))"
   ]
  },
  {
   "cell_type": "code",
   "execution_count": 21,
   "id": "ba52bcb2",
   "metadata": {},
   "outputs": [
    {
     "name": "stdout",
     "output_type": "stream",
     "text": [
      "Gradient Boosting Accuracy: 0.80\n"
     ]
    }
   ],
   "source": [
    "from sklearn.ensemble import GradientBoostingClassifier\n",
    "\n",
    "# Gradient Boosting\n",
    "gb = GradientBoostingClassifier(n_estimators=100, learning_rate=0.1, random_state=42)\n",
    "gb.fit(X_train, y_train)\n",
    "y_pred_gb = gb.predict(X_test)\n",
    "print(f\"Gradient Boosting Accuracy: {accuracy_score(y_test, y_pred_gb):.2f}\")"
   ]
  },
  {
   "cell_type": "code",
   "execution_count": 22,
   "id": "172303af",
   "metadata": {},
   "outputs": [
    {
     "name": "stdout",
     "output_type": "stream",
     "text": [
      "\n",
      "Gradient Boosting Feature Importance:\n",
      "Pclass: 0.1563\n",
      "Sex: 0.4779\n",
      "Age: 0.1326\n",
      "Fare: 0.1722\n",
      "SibSp: 0.0539\n",
      "Parch: 0.0071\n"
     ]
    }
   ],
   "source": [
    "# Compare feature importance\n",
    "importances = gb.feature_importances_\n",
    "feature_names = X.columns\n",
    "print(\"\\nGradient Boosting Feature Importance:\")\n",
    "for name, importance in zip(feature_names, importances):\n",
    "    print(f\"{name}: {importance:.4f}\")"
   ]
  }
 ],
 "metadata": {
  "kernelspec": {
   "display_name": ".venv",
   "language": "python",
   "name": "python3"
  },
  "language_info": {
   "codemirror_mode": {
    "name": "ipython",
    "version": 3
   },
   "file_extension": ".py",
   "mimetype": "text/x-python",
   "name": "python",
   "nbconvert_exporter": "python",
   "pygments_lexer": "ipython3",
   "version": "3.12.1"
  }
 },
 "nbformat": 4,
 "nbformat_minor": 5
}
