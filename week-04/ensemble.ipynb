{
 "cells": [
  {
   "cell_type": "markdown",
   "id": "82844166",
   "metadata": {},
   "source": [
    "### Simulating Weighted Sampling"
   ]
  },
  {
   "cell_type": "code",
   "execution_count": 5,
   "id": "5438b062",
   "metadata": {},
   "outputs": [
    {
     "name": "stdout",
     "output_type": "stream",
     "text": [
      "Initial Weights: [0.2 0.2 0.2 0.2 0.2]\n",
      "Weights after misclassification adjustment: [0.2 0.2 0.2 0.2 0.4]\n",
      "Normalized Weights: [0.16666667 0.16666667 0.16666667 0.16666667 0.33333333]\n",
      "Original Subset:\n",
      "   Pclass     Sex   Age  Survived\n",
      "0       3    male  22.0         0\n",
      "1       1  female  38.0         1\n",
      "2       3  female  26.0         1\n",
      "3       1  female  35.0         1\n",
      "4       3    male  35.0         0\n",
      "\n",
      "Weighted Sample:\n",
      "   Pclass     Sex   Age  Survived\n",
      "2       3  female  26.0         1\n",
      "4       3    male  35.0         0\n",
      "4       3    male  35.0         0\n",
      "3       1  female  35.0         1\n",
      "0       3    male  22.0         0\n"
     ]
    }
   ],
   "source": [
    "import pandas as pd \n",
    "import numpy as np \n",
    "\n",
    "# Load Titanic dataset\n",
    "url = 'https://raw.githubusercontent.com/datasciencedojo/datasets/master/titanic.csv'\n",
    "df = pd.read_csv(url)\n",
    "\n",
    "# Select a small subset\n",
    "df_small = df[['Pclass', 'Sex', 'Age', 'Survived']].head(5)\n",
    "\n",
    "# Assign initial weights\n",
    "weights = np.array([1/5] * 5)\n",
    "print(\"Initial Weights:\", weights)\n",
    "\n",
    "# Simulate misclassification (e.g., last instance is wrong)\n",
    "misclassified = [False, False, False, False, True]\n",
    "weights[misclassified] *= 2  # Increase weight of misclassified\n",
    "print(\"Weights after misclassification adjustment:\", weights)\n",
    "\n",
    "weights /= weights.sum()  # Normalize weights\n",
    "print(\"Normalized Weights:\", weights)\n",
    "\n",
    "# Sample with weights\n",
    "weighted_sample = df_small.sample(n=5, replace=True, weights=weights, random_state=42)\n",
    "print(\"Original Subset:\")\n",
    "print(df_small)\n",
    "print(\"\\nWeighted Sample:\")\n",
    "print(weighted_sample)"
   ]
  },
  {
   "cell_type": "code",
   "execution_count": null,
   "id": "7f5caae2",
   "metadata": {},
   "outputs": [
    {
     "name": "stdout",
     "output_type": "stream",
     "text": [
      "\n",
      "Iteration 1 Weights before normalization: [0.25 0.5  0.25 0.5 ]\n",
      "Iteration 1 Normalized Weights: [0.16666667 0.33333333 0.16666667 0.33333333]\n",
      "Weighted Sample for Iteration 1:\n",
      "   Pclass     Sex   Age  Survived\n",
      "0       3    male  22.0         0\n",
      "1       1  female  38.0         1\n",
      "1       1  female  38.0         1\n",
      "2       3  female  26.0         1\n",
      "\n",
      "Iteration 2 Weights before normalization: [0.25 0.5  0.25 0.5 ]\n",
      "Iteration 2 Normalized Weights: [0.16666667 0.33333333 0.16666667 0.33333333]\n",
      "Weighted Sample for Iteration 2:\n",
      "   Pclass     Sex   Age  Survived\n",
      "1       1  female  38.0         1\n",
      "0       3    male  22.0         0\n",
      "0       3    male  22.0         0\n",
      "4       3    male  35.0         0\n"
     ]
    }
   ],
   "source": [
    "# Simulate two iterations of weight updates with four instances\n",
    "for iteration in range(2):\n",
    "    # Randomly select four instances from the original subset\n",
    "    selected_indices = np.random.choice(df_small.index, size=4, replace=False)\n",
    "    selected_instances = df_small.loc[selected_indices]\n",
    "    \n",
    "    # Assign new weights for the selected instances\n",
    "    new_weights = np.array([1/4] * 4)\n",
    "    \n",
    "    # Simulate misclassification for the selected instances\n",
    "    misclassified = [False, True, False, True]  # Example misclassification\n",
    "    new_weights[misclassified] *= 2  # Increase weight of misclassified\n",
    "    print(f\"\\nIteration {iteration + 1} Weights before normalization:\", new_weights)\n",
    "    \n",
    "    new_weights /= new_weights.sum()  # Normalize weights\n",
    "    print(f\"Iteration {iteration + 1} Normalized Weights:\", new_weights)\n",
    "    \n",
    "    # Sample with new weights\n",
    "    weighted_sample_iter = selected_instances.sample(n=4, replace=True, weights=new_weights, random_state=42)\n",
    "    print(f\"Weighted Sample for Iteration {iteration + 1}:\")\n",
    "    print(weighted_sample_iter)\n",
    "\n",
    "    # Weighting misclassified instances improves model performance by continuously focusing on harder-to-classify instances.\n",
    "    # This iterative process allows the model to adapt and improve its accuracy over time."
   ]
  },
  {
   "cell_type": "markdown",
   "id": "9260fd18",
   "metadata": {},
   "source": [
    "Imagine a dataset with three passengers: A, B, and C, each with weight 1/3. The first weak learner correctly predicts A and B but misclassifies C. C’s weight increases to 1/2, while A and B’s weights drop to 1/4. The next learner focuses on C, correcting its prediction but perhaps misclassifying A. This process continues, with the final model combining all predictions, weighted by each learner’s accuracy."
   ]
  },
  {
   "cell_type": "code",
   "execution_count": null,
   "id": "7ee3327b",
   "metadata": {},
   "outputs": [],
   "source": []
  }
 ],
 "metadata": {
  "kernelspec": {
   "display_name": ".venv",
   "language": "python",
   "name": "python3"
  },
  "language_info": {
   "codemirror_mode": {
    "name": "ipython",
    "version": 3
   },
   "file_extension": ".py",
   "mimetype": "text/x-python",
   "name": "python",
   "nbconvert_exporter": "python",
   "pygments_lexer": "ipython3",
   "version": "3.12.1"
  }
 },
 "nbformat": 4,
 "nbformat_minor": 5
}
