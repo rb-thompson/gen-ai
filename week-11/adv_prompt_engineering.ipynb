{
 "cells": [
  {
   "cell_type": "markdown",
   "id": "a63bb7ff",
   "metadata": {},
   "source": [
    "# Graph-of-Thoughts Prompting  \n",
    "\n",
    "Real-world problems rarely follow neat hierarchical structures. Graph-of-Thoughts prompting recognizes that solutions often emerge from the complex interplay between various factors, where insights from one area can influence multiple other areas, creating a web of interconnected reasoning that more accurately reflects human cognitive processes.  \n",
    "\n",
    "**Key Characteristics**:  \n",
    "- Non-linear connections  \n",
    "- Bidirectional relationships  \n",
    "- Dynamic networks  \n",
    "- Multiple entry points  \n",
    "- Emergent solutions  \n",
    "\n",
    "## Five-Phase Process  \n",
    "\n",
    "**Phase 1**: Node Identification  \n",
    "**Phase 2**: Relationship Mapping  \n",
    "**Phase 3**: Network Analysis  \n",
    "**Phase 4**: Dynamic Exploration  \n",
    "**Phase 5**: Synthesis and Optimization  \n",
    "\n",
    "## Advanced GoT Techniques  \n",
    "\n",
    "- Hub and Spoke Identification  \n",
    "- Cluster Detection  \n",
    "- Bridge Node Recognition  \n",
    "- Temporal Sequencing  \n",
    "- Feedback Loop Integration  \n",
    "- Network Cascade Analysis  \n"
   ]
  },
  {
   "cell_type": "markdown",
   "id": "c7359a3c",
   "metadata": {},
   "source": [
    "# ReAct Prompting  \n",
    "\n",
    "Complex real-world problems often require both analytical thinking and the ability to interact with external systems, gather current information, or execute specific actions. ReAct prompting bridges this gap by enabling models to alternate between reasoning about what to do next and actually taking those actions, creating a dynamic problem-solving approach.  \n",
    "\n",
    "**Key Characteristics**:  \n",
    "\n",
    "- Interleaved reasining and action  \n",
    "- External tool integration  \n",
    "- Observational learning  \n",
    "- Transparent decision-making  \n",
    "- Adaptive problem-solving  \n",
    "\n",
    "## ReAct Structure  \n",
    "\n",
    "`Problem → Reason → Act → Observe → Reason → Act → Observe → Solution` \n",
    "\n",
    "## The Three-Component ReAct Cycle  \n",
    "\n",
    "- Reasoning Phase  \n",
    "- Action Phase  \n",
    "- Observation Phase  \n",
    "\n"
   ]
  },
  {
   "cell_type": "markdown",
   "id": "dc75645f",
   "metadata": {},
   "source": [
    "# Algorithm-of-Thoughts Prompting  \n",
    "\n",
    "Algorithm-of-Thoughts prompting is an advanced methodology that structures problem-solving as a systematic, step-by-step algorithmic process where each stage builds upon previous results in a predetermined, logical sequence. Unlike flexible reasoning approaches that can explore multiple paths, Algorithm-of-Thoughts prompting follows a defined procedural framework that ensures comprehensive coverage of all necessary steps while maintaining efficiency and consistency across similar problem types.  \n",
    "\n"
   ]
  }
 ],
 "metadata": {
  "language_info": {
   "name": "python"
  }
 },
 "nbformat": 4,
 "nbformat_minor": 5
}
