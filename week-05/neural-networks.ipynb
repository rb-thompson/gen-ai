{
 "cells": [
  {
   "cell_type": "markdown",
   "id": "b92d6d23",
   "metadata": {},
   "source": [
    "### Neural Networks.. what are they?\n",
    "\n",
    "Neural networks are computational models inspired by the human brain, consisting of layers of interconnected nodes, or neurons. Each neuron processes input data through weighted connections, adds a bias, and applies an activation function to produce an output. "
   ]
  },
  {
   "cell_type": "markdown",
   "id": "6a2cc9a3",
   "metadata": {},
   "source": [
    "**Key Components**:  \n",
    "- Neurons: process inputs to produce outputs, organized in layers.\n",
    "- Weights: determine the strength of connections between neurons, adjusted during training.\n",
    "- Biases: allow neurons to shift the activation function, increasing flexibility in modeling data.\n",
    "- Activation Functions: introduce non-linearity, enabling the network to learn complex relationships."
   ]
  },
  {
   "cell_type": "code",
   "execution_count": null,
   "id": "f25b927d",
   "metadata": {},
   "outputs": [
    {
     "name": "stdout",
     "output_type": "stream",
     "text": [
      "Initial weights and biases:\n",
      "W1: [[0.37454012 0.95071431]\n",
      " [0.73199394 0.59865848]]\n",
      "b1: [0.15601864 0.15599452]\n",
      "W2: [[0.05808361]\n",
      " [0.86617615]]\n",
      "b2: [0.60111501]\n",
      "Predictions before training:\n",
      "[[0.7501134 ]\n",
      " [0.7740691 ]\n",
      " [0.78391515]\n",
      " [0.79889097]]\n"
     ]
    }
   ],
   "source": [
    "import numpy as np\n",
    "\n",
    "# Define sigmoid activation function\n",
    "def sigmoid(x):\n",
    "    return 1 / (1 + np.exp(-x))\n",
    "\n",
    "# XOR dataset: inputs and outputs\n",
    "X = np.array([[0, 0],[0, 1],[1, 0],[1, 1]])\n",
    "y = np.array([[0], [1], [1], [0]])\n",
    "\n",
    "# Initialize weights and biases\n",
    "np.random.seed(42)  \n",
    "W1 = np.random.rand(2, 2)  # Weights: input (2) to hidden (2)\n",
    "b1 = np.random.rand(2)     # Biases: hidden layer\n",
    "W2 = np.random.rand(2, 1)  # Weights: hidden (2) to output (1)\n",
    "b2 = np.random.rand(1)     # Bias: output layer\n",
    "\n",
    "print(\"Initial weights and biases:\")\n",
    "print(\"W1:\", W1)\n",
    "print(\"b1:\", b1)\n",
    "print(\"W2:\", W2)\n",
    "print(\"b2:\", b2)\n",
    "\n",
    "# Forward propagation\n",
    "Z1 = X @ W1 + b1    # Linear combination for hidden layer\n",
    "A1 = sigmoid(Z1)    # Activation for hidden layer\n",
    "Z2 = A1 @ W2 + b2   # Linear combination for output layer\n",
    "A2 = sigmoid(Z2)    # Activation for output layer\n",
    "print(\"Predictions before training:\")\n",
    "print(A2)"
   ]
  },
  {
   "cell_type": "markdown",
   "id": "d6ae43cf",
   "metadata": {},
   "source": [
    "**Key Note**: Initial predictions are poor because the network hasn't learn the XOR pattern. Training would adjust weights and biases to minimize the error between predictions(`A2`) and true outputs (`Y`)."
   ]
  },
  {
   "cell_type": "code",
   "execution_count": null,
   "id": "df2384b8",
   "metadata": {},
   "outputs": [
    {
     "name": "stdout",
     "output_type": "stream",
     "text": [
      "Predictions with tanh hidden layer activation, sigmoid for the output layer:\n",
      "[[0.67789997]\n",
      " [0.767621  ]\n",
      " [0.78997617]\n",
      " [0.81174609]]\n"
     ]
    }
   ],
   "source": [
    "def tanh(x):\n",
    "    return np.tanh(x)\n",
    "\n",
    "# Forward propagation\n",
    "Z1 = X @ W1 + b1            # Weighted sum for hidden layer\n",
    "A1 = tanh(Z1)               # Activation for hidden layer\n",
    "Z2 = A1 @ W2 + b2           # Weighted sum for output layer\n",
    "A2 = sigmoid(Z2)            # Output prediction\n",
    "print(\"Predictions with tanh hidden layer activation, sigmoid for the output layer:\")\n",
    "print(A2)"
   ]
  }
 ],
 "metadata": {
  "kernelspec": {
   "display_name": ".venv",
   "language": "python",
   "name": "python3"
  },
  "language_info": {
   "codemirror_mode": {
    "name": "ipython",
    "version": 3
   },
   "file_extension": ".py",
   "mimetype": "text/x-python",
   "name": "python",
   "nbconvert_exporter": "python",
   "pygments_lexer": "ipython3",
   "version": "3.12.1"
  }
 },
 "nbformat": 4,
 "nbformat_minor": 5
}
