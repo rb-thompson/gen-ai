{
 "cells": [
  {
   "cell_type": "markdown",
   "id": "c2626d96",
   "metadata": {},
   "source": [
    "### End-of-Week Review Questions"
   ]
  },
  {
   "cell_type": "markdown",
   "id": "bd8d5f2e",
   "metadata": {},
   "source": [
    "1. What is a neural network, and how does it mimic the human brain?\n",
    "\n",
    "A **neural network** is a computational model designed to process and learn from data, inspired by the structure and function of the human brain. It consists of interconnected nodes, or neurons, organized into layers: an input layer, one or more hidden layers, and an output layer. Each neuron processes input data by applying weights, biases, and non-linear activation function to produce an output. The network learns by adjusting these weights through a process called backpropagation, minimizing the error between predicted and actual outputs."
   ]
  },
  {
   "cell_type": "markdown",
   "id": "7b1296ef",
   "metadata": {},
   "source": [
    "2. Describe the steps of forward propagation in a neural network.\n",
    "\n",
    "**Forward propagation** is the process by which a neural network computes an output (prediction) from a given input by passing data through its layers. It involves a series of mathematical functions to produce the final output.  \n",
    "\n",
    "***Input Layer -> Weighted Sum in Each Neuron -> Activation Function -> Prop to Next Layer -> Output Layer -> Loss Calculation***"
   ]
  },
  {
   "cell_type": "markdown",
   "id": "8b1bc545",
   "metadata": {},
   "source": [
    "3. Write a Python function for the ReLU activation function."
   ]
  },
  {
   "cell_type": "code",
   "execution_count": 3,
   "id": "84558f65",
   "metadata": {},
   "outputs": [
    {
     "name": "stdout",
     "output_type": "stream",
     "text": [
      "ReLU(10) = 10\n",
      "ReLU(7) = 7\n",
      "ReLU(3) = 3\n"
     ]
    }
   ],
   "source": [
    "import numpy as np\n",
    "\n",
    "def relu(x):\n",
    "    return np.maximum(0, x)\n",
    "\n",
    "a = 10\n",
    "b = 7\n",
    "\n",
    "print(f\"ReLU({a}) = {relu(a)}\")\n",
    "print(f\"ReLU({b}) = {relu(b)}\")\n",
    "print(f\"ReLU({a - b}) = {relu(a - b)}\")"
   ]
  },
  {
   "cell_type": "markdown",
   "id": "34449a50",
   "metadata": {},
   "source": [
    "4. How does backpropagation compute gradients for training?\n",
    "\n",
    "After loss calculation (between the output and the target), you work backward using the chain-rule to compute gradients and figure out error contribution. Then the network adjusts weights and biases to minimize the loss, fine-tuning the network."
   ]
  }
 ],
 "metadata": {
  "kernelspec": {
   "display_name": ".venv",
   "language": "python",
   "name": "python3"
  },
  "language_info": {
   "codemirror_mode": {
    "name": "ipython",
    "version": 3
   },
   "file_extension": ".py",
   "mimetype": "text/x-python",
   "name": "python",
   "nbconvert_exporter": "python",
   "pygments_lexer": "ipython3",
   "version": "3.12.1"
  }
 },
 "nbformat": 4,
 "nbformat_minor": 5
}
