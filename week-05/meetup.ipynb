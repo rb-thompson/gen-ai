{
 "cells": [
  {
   "cell_type": "markdown",
   "id": "76428d10",
   "metadata": {},
   "source": [
    "*NOTE: Late to class tonight, follow up with recording to complete in-class progress.*"
   ]
  },
  {
   "cell_type": "code",
   "execution_count": null,
   "id": "95dd4d74",
   "metadata": {
    "vscode": {
     "languageId": "plaintext"
    }
   },
   "outputs": [],
   "source": []
  }
 ],
 "metadata": {
  "language_info": {
   "name": "python"
  }
 },
 "nbformat": 4,
 "nbformat_minor": 5
}
