{
 "cells": [
  {
   "cell_type": "markdown",
   "id": "18a58363",
   "metadata": {},
   "source": [
    "### The Premise\n",
    "\n",
    "Imagine a super librarian in a magical library where books can talk to each other. This librarian’s job is to translate a story from one language to another or generate a continuation of a story. The library is full of words, and each word is like a book with its own meaning and position in the story.  \n",
    "\n",
    "### The Problem\n",
    "When the librarian reads a sentence like “Hi, how are you?”, they need to understand which words are most important to generate a response like “I am fine.” Unlike older librarians (like Recurrent Neural Networks, or RNNs), who could only remember a few words at a time and forgot the beginning of long stories, this super librarian can pay attention to all words at once, no matter how long the story is.\n",
    "\n",
    "### How It Works\n",
    "\n",
    "1. Word Books (Embeddings)\n",
    "2. Position Tags (Positional Encoding)\n",
    "3. Attention Magic (Self-Attention)\n",
    "4. Teamwork (Multi-Headed Attention)\n",
    "5. Processing and Refining (Feed-Forward Layers)\n",
    "6. Translating or Generating (Encoder-Decoder)\n",
    "    - Encoder: Reads and creates summary with attention scores\n",
    "    - Decoder: Uses the summary to generate a word-by-word output\n",
    "7. Final Touch (Softmax)\n",
    "\n",
    "### Why It's Useful\n",
    "\n",
    "Unlike older librarians (RNNs), who could only hold a short piece of the story in their memory, the super librarian’s attention magic lets them reference the entire story at once. This makes them great at tasks like translating languages, writing stories, or answering questions, even for very long texts.  \n",
    "\n",
    "\n",
    "This *super librarian* is the **Transformer**, and its attention magic is why it’s so powerful in natural language processing (NLP) tasks!"
   ]
  },
  {
   "cell_type": "markdown",
   "id": "4554d54d",
   "metadata": {},
   "source": [
    " The project below implements a simplified Transformer model to reverse a sequence of numbers (e.g., `[1, 2, 3, 4, 5]` → `[5, 4, 3, 2, 1]`) as practice to mimic sequence-to-sequence problems like translation. Using NumPy, it demonstrates the core components of a Transformer (embeddings, positional encoding, self-attention, multi-head attention, feed-forward layers, encoder, and decoder) without actual training, focusing on the architecture’s mechanics."
   ]
  },
  {
   "cell_type": "code",
   "execution_count": 10,
   "id": "99ec3afa",
   "metadata": {},
   "outputs": [],
   "source": [
    "import numpy as np\n",
    "\n",
    "# Set random seed for reproducibility\n",
    "np.random.seed(42)\n",
    "\n",
    "# Hyperparameters\n",
    "vocab_size = 10  # Numbers 0-9\n",
    "d_model = 8      # Embedding dimension\n",
    "n_heads = 2      # Number of attention heads\n",
    "d_ff = 16        # Feed-forward dimension\n",
    "seq_length = 5   # Sequence length"
   ]
  },
  {
   "cell_type": "markdown",
   "id": "a067ee8e",
   "metadata": {},
   "source": [
    "We use NumPy for matrix operations.  \n",
    "\n",
    "The hyperparameters define the model size:  \n",
    "`vocab_size` is the range of input numbers,  \n",
    "`d_model` is the embedding size,  \n",
    "`n_heads` splits attention,  \n",
    "`d_ff` is the feed-forward layer size, and  \n",
    "`seq_length` is the input sequence length."
   ]
  },
  {
   "cell_type": "code",
   "execution_count": 11,
   "id": "5c8f8f14",
   "metadata": {},
   "outputs": [
    {
     "name": "stdout",
     "output_type": "stream",
     "text": [
      "Example input: [6 3 7 4 6]\n",
      "Example output: [6 4 7 3 6]\n",
      "\n",
      "Data shape: (100, 5) (100, 5)\n"
     ]
    }
   ],
   "source": [
    "def generate_data(num_samples, seq_length, vocab_size):\n",
    "    \"\"\"Generate random sequences and their reversed versions.\"\"\"\n",
    "    X = np.random.randint(0, vocab_size, (num_samples, seq_length))\n",
    "    y = np.flip(X, axis=1)\n",
    "    return X, y\n",
    "\n",
    "# Generate 100 samples\n",
    "X, y = generate_data(100, seq_length, vocab_size)\n",
    "print(\"Example input:\", X[0])\n",
    "print(\"Example output:\", y[0])\n",
    "\n",
    "print(\"\\nData shape:\", X.shape, y.shape)"
   ]
  },
  {
   "cell_type": "code",
   "execution_count": 12,
   "id": "8673ab22",
   "metadata": {},
   "outputs": [
    {
     "name": "stdout",
     "output_type": "stream",
     "text": [
      "Embedding shape: (1, 5, 8)\n"
     ]
    }
   ],
   "source": [
    "def get_embeddings(X, vocab_size, d_model):\n",
    "    \"\"\"Convert numbers to dense embeddings.\"\"\"\n",
    "    # Random embedding matrix\n",
    "    embedding_matrix = np.random.randn(vocab_size, d_model) * 0.1\n",
    "    # Lookup embeddings for input sequence\n",
    "    return np.array([embedding_matrix[x] for x in X])\n",
    "\n",
    "# Test embeddings\n",
    "X_emb = get_embeddings(X[:1], vocab_size, d_model)\n",
    "print(\"Embedding shape:\", X_emb.shape)  # (1, seq_length, d_model)"
   ]
  },
  {
   "cell_type": "markdown",
   "id": "ee708573",
   "metadata": {},
   "source": [
    "Each number is mapped to a dense vector (embedding) of size `d_model`. In NLP, these are learned word vectors; here, we use a random matrix for simplicity. The output shape is `(batch_size, seq_length, d_model)`."
   ]
  },
  {
   "cell_type": "code",
   "execution_count": 13,
   "id": "b86ad54c",
   "metadata": {},
   "outputs": [
    {
     "name": "stdout",
     "output_type": "stream",
     "text": [
      "Positional encoding shape: (1, 5, 8)\n"
     ]
    }
   ],
   "source": [
    "def positional_encoding(seq_length, d_model):\n",
    "    \"\"\"Add positional information to embeddings.\"\"\"\n",
    "    pos = np.arange(seq_length)[:, np.newaxis]\n",
    "    dim = np.arange(d_model)[np.newaxis, :]\n",
    "    angle = pos / np.power(10000, (2 * (dim // 2)) / d_model)\n",
    "    angle[:, 0::2] = np.sin(angle[:, 0::2])\n",
    "    angle[:, 1::2] = np.cos(angle[:, 1::2])\n",
    "    return angle[np.newaxis, :, :]\n",
    "\n",
    "# Add positional encoding to embeddings\n",
    "pos_enc = positional_encoding(seq_length, d_model)\n",
    "X_emb_with_pos = X_emb + pos_enc\n",
    "print(\"Positional encoding shape:\", pos_enc.shape)"
   ]
  },
  {
   "cell_type": "markdown",
   "id": "ad77ce72",
   "metadata": {},
   "source": [
    "Since Transformers process all tokens simultaneously, we add positional encodings to embeddings to indicate word order. We use sine and cosine functions, as in the original Transformer paper, to create unique position vectors."
   ]
  },
  {
   "cell_type": "code",
   "execution_count": 25,
   "id": "a97ba9ab",
   "metadata": {},
   "outputs": [
    {
     "name": "stdout",
     "output_type": "stream",
     "text": [
      "Attention output shape: (1, 5, 8)\n"
     ]
    }
   ],
   "source": [
    "def scaled_dot_product_attention(Q, K, V):\n",
    "    \"\"\"Compute scaled dot-product attention for single or multi-head inputs.\"\"\"\n",
    "    d_k = Q.shape[-1]\n",
    "    if Q.ndim == 4:  # Multi-head: (batch, n_heads, seq_length, d_k)\n",
    "        scores = np.matmul(Q, K.transpose(0, 1, 3, 2)) / np.sqrt(d_k)\n",
    "    else:  # Single-head: (batch, seq_length, d_model)\n",
    "        scores = np.matmul(Q, K.transpose(0, 2, 1)) / np.sqrt(d_k)\n",
    "    # Softmax over last dimension\n",
    "    weights = np.exp(scores) / np.sum(np.exp(scores), axis=-1, keepdims=True)\n",
    "    output = np.matmul(weights, V)\n",
    "    return output, weights\n",
    "\n",
    "# Test attention\n",
    "Q, K, V = X_emb_with_pos, X_emb_with_pos, X_emb_with_pos\n",
    "attn_output, attn_weights = scaled_dot_product_attention(Q, K, V)\n",
    "print(\"Attention output shape:\", attn_output.shape)"
   ]
  },
  {
   "cell_type": "markdown",
   "id": "b5fb8c59",
   "metadata": {},
   "source": [
    "Self-attention computes how much each token attends to every other token. Queries (`Q`), keys (`K`), and values (`V`) are derived from the input. Scaled dot-product attention normalizes scores by the square root of the key dimension to stabilize gradients."
   ]
  },
  {
   "cell_type": "code",
   "execution_count": 27,
   "id": "40c7bbdd",
   "metadata": {},
   "outputs": [
    {
     "name": "stdout",
     "output_type": "stream",
     "text": [
      "Multi-head attention output shape: (1, 5, 8)\n",
      "Attention weights shape: (1, 2, 5, 5)\n"
     ]
    }
   ],
   "source": [
    "def multi_head_attention(X, n_heads, d_model):\n",
    "    \"\"\"Split embeddings into multiple heads, apply attention, and concatenate.\"\"\"\n",
    "    d_k = d_model // n_heads\n",
    "    # Reshape for multiple heads: (batch, seq_length, d_model) -> (batch, seq_length, n_heads, d_k)\n",
    "    X_heads = X.reshape(X.shape[0], X.shape[1], n_heads, d_k)\n",
    "    # Transpose to (batch, n_heads, seq_length, d_k)\n",
    "    Q = K = V = X_heads.transpose(0, 2, 1, 3)\n",
    "    # Apply attention\n",
    "    attn_output, attn_weights = scaled_dot_product_attention(Q, K, V)\n",
    "    # Concatenate heads: (batch, n_heads, seq_length, d_k) -> (batch, seq_length, n_heads * d_k)\n",
    "    attn_output = attn_output.transpose(0, 2, 1, 3).reshape(X.shape[0], X.shape[1], d_model)\n",
    "    # Linear projection\n",
    "    W_o = np.random.randn(d_model, d_model) * 0.1\n",
    "    output = np.matmul(attn_output, W_o)\n",
    "    return output, attn_weights\n",
    "\n",
    "# Test multi-head attention\n",
    "mha_output, attn_weights = multi_head_attention(X_emb_with_pos, n_heads, d_model)\n",
    "print(\"Multi-head attention output shape:\", mha_output.shape)\n",
    "print(\"Attention weights shape:\", attn_weights.shape)"
   ]
  },
  {
   "cell_type": "markdown",
   "id": "16743afa",
   "metadata": {},
   "source": [
    "Multi-head attention splits the embedding into `n_heads` parts, applies attention independently, and concatenates results. This allows the model to focus on different aspects of the input simultaneously."
   ]
  },
  {
   "cell_type": "code",
   "execution_count": null,
   "id": "f8b853ca",
   "metadata": {},
   "outputs": [
    {
     "name": "stdout",
     "output_type": "stream",
     "text": [
      "Attention weights shape: (1, 2, 5, 5)\n"
     ]
    },
    {
     "data": {
      "image/png": "[encoded data removed]",
      "text/plain": [
       "<Figure size 1000x400 with 3 Axes>"
      ]
     },
     "metadata": {},
     "output_type": "display_data"
    }
   ],
   "source": [
    "import matplotlib.pyplot as plt\n",
    "\n",
    "# Test input\n",
    "test_X = np.array([[1, 2, 3, 4, 5]])\n",
    "test_emb = get_embeddings(test_X, vocab_size, d_model) + positional_encoding(seq_length, d_model)\n",
    "\n",
    "# Get attention weights\n",
    "_, attn_weights = multi_head_attention(test_emb, n_heads, d_model)\n",
    "print(\"Attention weights shape:\", attn_weights.shape)\n",
    "\n",
    "# Plot heatmaps for each head\n",
    "fig, axes = plt.subplots(1, n_heads, figsize=(10, 4))\n",
    "for head in range(n_heads):\n",
    "    # Extract weights for batch=0, head= head\n",
    "    weights = attn_weights[0, head]  # Shape: (seq_length, seq_length)\n",
    "    ax = axes[head]\n",
    "    im = ax.imshow(weights, cmap='hot', interpolation='nearest')\n",
    "    ax.set_title(f'Head {head+1}')\n",
    "    ax.set_xlabel('Key Position')\n",
    "    ax.set_ylabel('Query Position')\n",
    "    ax.set_xticks(np.arange(seq_length))\n",
    "    ax.set_yticks(np.arange(seq_length))\n",
    "    ax.set_xticklabels(np.arange(1, seq_length+1))\n",
    "    ax.set_yticklabels(np.arange(1, seq_length+1))\n",
    "fig.colorbar(im, ax=axes, label='Attention Weight')\n",
    "plt.show()"
   ]
  },
  {
   "cell_type": "code",
   "execution_count": 30,
   "id": "53168254",
   "metadata": {},
   "outputs": [
    {
     "name": "stdout",
     "output_type": "stream",
     "text": [
      "Feed-forward output shape: (1, 5, 8)\n"
     ]
    }
   ],
   "source": [
    "def feed_forward(X, d_model, d_ff):\n",
    "    \"\"\"Apply point-wise feed-forward network.\"\"\"\n",
    "    W1 = np.random.randn(d_model, d_ff) * 0.1\n",
    "    b1 = np.zeros(d_ff)\n",
    "    W2 = np.random.randn(d_ff, d_model) * 0.1\n",
    "    b2 = np.zeros(d_model)\n",
    "    # Linear -> ReLU -> Linear\n",
    "    hidden = np.maximum(0, np.matmul(X, W1) + b1)\n",
    "    output = np.matmul(hidden, W2) + b2\n",
    "    return output\n",
    "\n",
    "# Test feed-forward\n",
    "ff_output = feed_forward(mha_output, d_model, d_ff)\n",
    "print(\"Feed-forward output shape:\", ff_output.shape)"
   ]
  },
  {
   "cell_type": "markdown",
   "id": "ffe9478f",
   "metadata": {},
   "source": [
    "The feed-forward layer applies a two-layer neural network (linear → ReLU → linear) to each token independently."
   ]
  },
  {
   "cell_type": "code",
   "execution_count": 32,
   "id": "de328510",
   "metadata": {},
   "outputs": [
    {
     "name": "stdout",
     "output_type": "stream",
     "text": [
      "Encoder output shape: (1, 5, 8)\n"
     ]
    }
   ],
   "source": [
    "def encoder_layer(X, n_heads, d_model, d_ff):\n",
    "    \"\"\"Combine multi-head attention and feed-forward with residual connections.\"\"\"\n",
    "    attn_out, _ = multi_head_attention(X, n_heads, d_model)  # Ignore weights\n",
    "    X = X + attn_out  # Residual connection\n",
    "    ff_out = feed_forward(X, d_model, d_ff)\n",
    "    X = X + ff_out  # Residual connection\n",
    "    return X\n",
    "\n",
    "# Test encoder\n",
    "enc_output = encoder_layer(X_emb_with_pos, n_heads, d_model, d_ff)\n",
    "print(\"Encoder output shape:\", enc_output.shape)"
   ]
  },
  {
   "cell_type": "markdown",
   "id": "abe94210",
   "metadata": {},
   "source": [
    "The encoder layer combines multi-head attention and feed-forward with residual connections (adding input to output) for better training stability. The output shape remains `(1, 5, 8)` due to residual connections preserving dimensions."
   ]
  },
  {
   "cell_type": "code",
   "execution_count": 33,
   "id": "f1d71967",
   "metadata": {},
   "outputs": [
    {
     "name": "stdout",
     "output_type": "stream",
     "text": [
      "Decoder output shape: (1, 5, 8)\n"
     ]
    }
   ],
   "source": [
    "def decoder_layer(X, enc_output, n_heads, d_model, d_ff):\n",
    "    \"\"\"Simplified decoder with attention over encoder output.\"\"\"\n",
    "    attn_out, _ = multi_head_attention(X, n_heads, d_model)  # Ignore weights\n",
    "    X = X + attn_out\n",
    "    # Cross-attention with encoder output\n",
    "    Q = X\n",
    "    K = V = enc_output\n",
    "    cross_attn_out, _ = multi_head_attention(Q, n_heads, d_model)  # Ignore weights\n",
    "    X = X + cross_attn_out\n",
    "    ff_out = feed_forward(X, d_model, d_ff)\n",
    "    X = X + ff_out\n",
    "    return X\n",
    "\n",
    "# Test decoder\n",
    "dec_input = get_embeddings(y[:1], vocab_size, d_model) + pos_enc\n",
    "dec_output = decoder_layer(dec_input, enc_output, n_heads, d_model, d_ff)\n",
    "print(\"Decoder output shape:\", dec_output.shape)"
   ]
  },
  {
   "cell_type": "markdown",
   "id": "a3d49cca",
   "metadata": {},
   "source": [
    "The decoder performs:  \n",
    "- Self-attention on the target sequence (`X`).\n",
    "- Cross-attention with the encoder's output (`enc_output`).\n",
    "- Feed-forward processing.\n",
    "\n",
    "Residual connections preserve the shape. "
   ]
  },
  {
   "cell_type": "code",
   "execution_count": 34,
   "id": "8173cbad",
   "metadata": {},
   "outputs": [
    {
     "name": "stdout",
     "output_type": "stream",
     "text": [
      "Output probabilities shape: (1, 5, 10)\n"
     ]
    }
   ],
   "source": [
    "def transformer(X, y, vocab_size, d_model, n_heads, d_ff):\n",
    "    \"\"\"Combine encoder and decoder.\"\"\"\n",
    "    # Encoder\n",
    "    X_emb = get_embeddings(X, vocab_size, d_model)\n",
    "    X_emb += positional_encoding(X.shape[1], d_model)\n",
    "    enc_output = encoder_layer(X_emb, n_heads, d_model, d_ff)\n",
    "    \n",
    "    # Decoder\n",
    "    y_emb = get_embeddings(y, vocab_size, d_model)\n",
    "    y_emb += positional_encoding(y.shape[1], d_model)\n",
    "    dec_output = decoder_layer(y_emb, enc_output, n_heads, d_model, d_ff)\n",
    "    \n",
    "    # Output projection\n",
    "    W_out = np.random.randn(d_model, vocab_size) * 0.1\n",
    "    logits = np.matmul(dec_output, W_out)\n",
    "    probs = np.exp(logits) / np.sum(np.exp(logits), axis=-1, keepdims=True)  # Softmax\n",
    "    return probs\n",
    "\n",
    "# Test Transformer\n",
    "probs = transformer(X[:1], y[:1], vocab_size, d_model, n_heads, d_ff)\n",
    "print(\"Output probabilities shape:\", probs.shape)"
   ]
  },
  {
   "cell_type": "markdown",
   "id": "b81f8a80",
   "metadata": {},
   "source": [
    "Combines encoder and decoder to form the full Transformer.  \n",
    "\n",
    "Output shape is `(batch_size, seq_length, vocab_size)` (e.g., `(1, 5, 10)`)"
   ]
  },
  {
   "cell_type": "code",
   "execution_count": 35,
   "id": "4365b85a",
   "metadata": {},
   "outputs": [
    {
     "name": "stdout",
     "output_type": "stream",
     "text": [
      "Epoch 1, Loss: 2.3293\n",
      "Epoch 2, Loss: 2.3568\n",
      "Epoch 3, Loss: 2.3111\n",
      "Epoch 4, Loss: 2.3005\n",
      "Epoch 5, Loss: 2.3364\n",
      "Epoch 6, Loss: 2.2977\n",
      "Epoch 7, Loss: 2.3306\n",
      "Epoch 8, Loss: 2.2973\n",
      "Epoch 9, Loss: 2.3372\n",
      "Epoch 10, Loss: 2.3245\n"
     ]
    }
   ],
   "source": [
    "def train_transformer(X, y, epochs=10):\n",
    "    \"\"\"Train the model with a simple loss function.\"\"\"\n",
    "    for epoch in range(epochs):\n",
    "        probs = transformer(X, y, vocab_size, d_model, n_heads, d_ff)\n",
    "        # Cross-entropy loss (simplified)\n",
    "        loss = -np.mean(np.log(probs[np.arange(y.shape[0])[:, np.newaxis], np.arange(y.shape[1]), y] + 1e-10))\n",
    "        print(f\"Epoch {epoch+1}, Loss: {loss:.4f}\")\n",
    "\n",
    "# Train\n",
    "train_transformer(X, y)"
   ]
  },
  {
   "cell_type": "markdown",
   "id": "e5eb786f",
   "metadata": {},
   "source": [
    "Computes forward pass through the Transformer and calculates a simplified cross-entropy loss. No backpropagation (for simplicity); uses random weights. Prints loss for 10 epochs. Expect random losses due to untrained weights."
   ]
  },
  {
   "cell_type": "code",
   "execution_count": 38,
   "id": "2b44da49",
   "metadata": {},
   "outputs": [
    {
     "name": "stdout",
     "output_type": "stream",
     "text": [
      "Input: [[1 2 3 4 5]]\n",
      "Predicted output: [[7 5 5 5 7]]\n",
      "Output shape: (1, 5)\n"
     ]
    }
   ],
   "source": [
    "def predict(X):\n",
    "    \"\"\"Predict reversed sequence.\"\"\"\n",
    "    y_dummy = np.zeros((X.shape[0], seq_length), dtype=np.int32)  # Dummy target with integer type\n",
    "    probs = transformer(X, y_dummy, vocab_size, d_model, n_heads, d_ff)\n",
    "    return np.argmax(probs, axis=-1)\n",
    "\n",
    "# Test prediction\n",
    "test_X = np.array([[1, 2, 3, 4, 5]])\n",
    "print(\"Input:\", test_X)\n",
    "print(\"Predicted output:\", predict(test_X))\n",
    "print(\"Output shape:\", predict(test_X).shape)"
   ]
  },
  {
   "cell_type": "markdown",
   "id": "165cb42d",
   "metadata": {},
   "source": [
    "The predicted output `[[1 6 3 3 9]]` for the input `[[1 2 3 4 5]]` is expected to be random since the model uses random weights without training, but the correct output shape `(1, 5)` confirms the pipeline works as intended."
   ]
  }
 ],
 "metadata": {
  "kernelspec": {
   "display_name": ".venv (3.12.1)",
   "language": "python",
   "name": "python3"
  },
  "language_info": {
   "codemirror_mode": {
    "name": "ipython",
    "version": 3
   },
   "file_extension": ".py",
   "mimetype": "text/x-python",
   "name": "python",
   "nbconvert_exporter": "python",
   "pygments_lexer": "ipython3",
   "version": "3.12.1"
  }
 },
 "nbformat": 4,
 "nbformat_minor": 5
}
