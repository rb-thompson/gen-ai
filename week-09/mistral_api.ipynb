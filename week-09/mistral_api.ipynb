{
 "cells": [
  {
   "cell_type": "markdown",
   "id": "94ea5eb9",
   "metadata": {},
   "source": [
    "### Review\n",
    "- RNN\n",
    "- Transformers\n",
    "- LLMs\n",
    "- Prompt Engineering\n",
    "\n",
    "**LLMS**: Temperature 0.0-0.2 (Creative vs Analytical)  \n",
    "*NOTE: This only mimics the temperature change in public GPTs.*"
   ]
  },
  {
   "cell_type": "code",
   "execution_count": 2,
   "id": "42fc7bd0",
   "metadata": {},
   "outputs": [
    {
     "name": "stdout",
     "output_type": "stream",
     "text": [
      "Response: \"AI is a branch of computer science that enables machines to perform tasks that typically require human intelligence, such as learning, reasoning, and decision-making, by analyzing data and adapting to new information.\"\n"
     ]
    }
   ],
   "source": [
    "# Mistral API Exercise\n",
    "\n",
    "import os\n",
    "from mistralai import Mistral  # Install via pip if needed: pip install mistralai\n",
    "import dotenv\n",
    "\n",
    "# Load environment variables from .env file\n",
    "dotenv.load_dotenv()\n",
    "\n",
    "# Retrieve API key from environment\n",
    "MISTRAL_API_KEY = os.getenv(\"MISTRAL_API_KEY\")\n",
    "# Just ensure your .env file has: MISTRAL_API_KEY=your_key_here\n",
    "\n",
    "# API Setup Test\n",
    "def test_api_connection():\n",
    "    \"\"\"\n",
    "    Test the Mistral API connection by fetching the model list.\n",
    "    Returns True if successful, False otherwise.\n",
    "    \"\"\"\n",
    "    try:\n",
    "        client = Mistral(api_key=MISTRAL_API_KEY)\n",
    "        models = client.models.list()\n",
    "        print(\"Available models:\", [model.id for model in models])\n",
    "        return True\n",
    "    except Exception as e:\n",
    "        print(\"API connection failed:\", e)\n",
    "        return False\n",
    "\n",
    "# test_api_connection()\n",
    "# Example output: \n",
    "# API connection failed: API error occurred: Status 401 {\"detail\":\"Unauthorized\"}\n",
    "\n",
    "\n",
    "def generate_response(prompt, model=\"mistral-small-latest\", temperature=0.7, max_tokens=200):\n",
    "    \"\"\"\n",
    "    Modular function to generate a response from Mistral.ai.\n",
    "    - prompt: The input prompt.\n",
    "    - model: LLM variant (e.g., 'mistral-small-latest' for basics).\n",
    "    - temperature: Randomness level (0.0: deterministic, 1.0: creative).\n",
    "    - max_tokens: Limits output length.\n",
    "    Returns the generated text.\n",
    "    \"\"\"\n",
    "    client = Mistral(api_key=MISTRAL_API_KEY)\n",
    "    response = client.chat.complete(\n",
    "        model=model,\n",
    "        messages=[{\"role\": \"user\", \"content\": prompt}],\n",
    "        temperature=temperature,\n",
    "        max_tokens=max_tokens\n",
    "    )\n",
    "    return response.choices[0].message.content\n",
    "\n",
    "# Example: Basic prompt\n",
    "basic_prompt = \"Explain AI in one sentence.\"\n",
    "response = generate_response(basic_prompt)\n",
    "print(\"Response:\", response)"
   ]
  },
  {
   "cell_type": "code",
   "execution_count": 3,
   "id": "9a2de459",
   "metadata": {},
   "outputs": [
    {
     "name": "stdout",
     "output_type": "stream",
     "text": [
      "Prompt: Explain rural barriers to healthcare access in the US in one sentence.\n",
      "Response: Rural barriers to healthcare access in the U.S. include limited provider availability, long travel distances, inadequate public transportation, lower insurance coverage, financial constraints, and health workforce shortages, all exacerbated by geographic isolation and underfunded infrastructure.\n",
      "\n",
      "Prompt: Explain urban barriers to healthcare access in the US in one sentence.\n",
      "Response: Urban barriers to healthcare access in the U.S. include high costs, lack of insurance, limited provider availability in low-income areas, transportation challenges, language and cultural barriers, and systemic inequities that disproportionately affect marginalized communities.\n",
      "\n",
      "Prompt: Explain suburban barriers to healthcare access in the US in one sentence.\n",
      "Response: Suburban barriers to healthcare access in the U.S. include limited public transportation, high costs, insurance gaps, provider shortages, and geographic disparities that disproportionately affect low-income, elderly, and minority residents.\n",
      "\n"
     ]
    }
   ],
   "source": [
    "example_prompts = [\n",
    "    \"Explain rural barriers to healthcare access in the US in one sentence.\",\n",
    "    \"Explain urban barriers to healthcare access in the US in one sentence.\",\n",
    "    \"Explain suburban barriers to healthcare access in the US in one sentence.\"\n",
    "]\n",
    "\n",
    "# Generate responses for each example prompt\n",
    "for prompt in example_prompts:\n",
    "    response = generate_response(prompt)\n",
    "    print(f\"Prompt: {prompt}\\nResponse: {response}\\n\")"
   ]
  }
 ],
 "metadata": {
  "kernelspec": {
   "display_name": ".venv (3.12.1)",
   "language": "python",
   "name": "python3"
  },
  "language_info": {
   "codemirror_mode": {
    "name": "ipython",
    "version": 3
   },
   "file_extension": ".py",
   "mimetype": "text/x-python",
   "name": "python",
   "nbconvert_exporter": "python",
   "pygments_lexer": "ipython3",
   "version": "3.12.1"
  }
 },
 "nbformat": 4,
 "nbformat_minor": 5
}
