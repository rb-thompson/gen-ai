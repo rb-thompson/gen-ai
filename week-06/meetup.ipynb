{
 "cells": [
  {
   "cell_type": "markdown",
   "id": "af595b76",
   "metadata": {},
   "source": [
    "### What will we discuss tonight?\n",
    "\n",
    "Patterns of thought; repitition and neuroplasticity. These patterns of data and analysis change the way we're wired, or not.  \n",
    "Rama’s comparing memory patterns to neuroplasticity, likely drawing parallels between how humans learn (adapting neural connections) and how ML models learn (adjusting weights via training).  \n",
    "\n",
    "Either way AI and our learning pathway matters because: \n",
    "\n",
    "- The skills we're learning pay in many different fields\n",
    "- Data science has many positions this course provides a foundation\n",
    "- 95% of the worlds problems can be solved with linear regression and classification\n",
    "- Notable skills: GitHub, Tooling, Projects, NN & Deep Learning, ML, AI\n",
    "\n",
    "Which domain will you choose? Healthcare, Finance, E-commerce, Web?  \n",
    "What is their most important measure?  \n",
    "\n",
    "**KPI** - Key Performance Indicators\n",
    "\n",
    "***\"You're damn ready for data science jobs now.\"*** -RK\n"
   ]
  },
  {
   "cell_type": "code",
   "execution_count": 9,
   "id": "aad691ec",
   "metadata": {},
   "outputs": [],
   "source": [
    "import numpy as np "
   ]
  },
  {
   "cell_type": "code",
   "execution_count": 10,
   "id": "4f8927f3",
   "metadata": {},
   "outputs": [],
   "source": [
    "# Simulated data: Word presence in emails ( 1 = present, 0 = absent )\n",
    "# Features [urgent, free, click, meeting]\n",
    "data = np.array([\n",
    "    [1, 1, 1, 0, 1],  # urgent, free, click, no meeting → spam\n",
    "    [0, 0, 0, 1, 0],  # no urgent, no free, no click, meeting → not spam\n",
    "    [1, 0, 1, 0, 1],  # urgent, no free, click, no meeting → spam\n",
    "    [0, 0, 0, 1, 0],  # no urgent, no free, no click, meeting → not spam\n",
    "    [1, 1, 0, 0, 1],  # urgent, free, no click, no meeting → spam\n",
    "    [0, 0, 1, 1, 0],  # no urgent, no free, click, meeting → not spam\n",
    "])"
   ]
  },
  {
   "cell_type": "code",
   "execution_count": 11,
   "id": "f0f330ca",
   "metadata": {},
   "outputs": [],
   "source": [
    "\n",
    "X = data[:, :-1]  # Features (first 4 columns)\n",
    "y = data[:, -1:] # Labels (last column, keep as column vector)"
   ]
  },
  {
   "cell_type": "code",
   "execution_count": 12,
   "id": "275a83e0",
   "metadata": {},
   "outputs": [
    {
     "name": "stdout",
     "output_type": "stream",
     "text": [
      "Training data:\n",
      "Features (urgent, free, click, meeting): [[1 1 1 0]\n",
      " [0 0 0 1]\n",
      " [1 0 1 0]\n",
      " [0 0 0 1]\n",
      " [1 1 0 0]\n",
      " [0 0 1 1]]\n",
      "Labels (1=spam, 0=not spam): [1 0 1 0 1 0]\n"
     ]
    }
   ],
   "source": [
    "print(\"Training data:\")\n",
    "print(\"Features (urgent, free, click, meeting):\", X)\n",
    "print(\"Labels (1=spam, 0=not spam):\", y.flatten())"
   ]
  },
  {
   "cell_type": "code",
   "execution_count": 13,
   "id": "4ca410fd",
   "metadata": {},
   "outputs": [],
   "source": [
    "# Neural Network Architecture: 4 inputs → 3 hidden neurons → 1 output\n",
    "np.random.seed(42)  # For reproducibility"
   ]
  },
  {
   "cell_type": "code",
   "execution_count": 14,
   "id": "5b59c00f",
   "metadata": {},
   "outputs": [],
   "source": [
    "# Layer 1: Input to Hidden (4 inputs, 3 hidden neurons)\n",
    "weights_hidden = np.random.rand(4, 3) * 0.5\n",
    "bias_hidden = np.random.rand(1, 3) * 0.5\n",
    "\n",
    "# Layer 2: Hidden to Output (3 hidden neurons, 1 output)\n",
    "weights_output = np.random.rand(3, 1) * 0.5\n",
    "bias_output = np.random.rand(1, 1) * 0.5"
   ]
  },
  {
   "cell_type": "code",
   "execution_count": 15,
   "id": "e67101a6",
   "metadata": {},
   "outputs": [],
   "source": [
    "def sigmoid(z):\n",
    "    return 1 / (1 + np.exp(-np.clip(z, -500, 500)))  # Clip to prevent overflow\n",
    "\n",
    "def sigmoid_derivative(z):\n",
    "    return z * (1 - z)"
   ]
  },
  {
   "cell_type": "code",
   "execution_count": 16,
   "id": "e45f7c83",
   "metadata": {},
   "outputs": [
    {
     "name": "stdout",
     "output_type": "stream",
     "text": [
      "\n",
      "Training the neural network...\n"
     ]
    }
   ],
   "source": [
    "learning_rate = 0.5\n",
    "print(\"\\nTraining the neural network...\")"
   ]
  },
  {
   "cell_type": "code",
   "execution_count": null,
   "id": "f1028254",
   "metadata": {},
   "outputs": [
    {
     "name": "stdout",
     "output_type": "stream",
     "text": [
      "Epoch 0, Loss: 0.0004\n",
      "Epoch 100, Loss: 0.0004\n",
      "Epoch 200, Loss: 0.0003\n",
      "Epoch 300, Loss: 0.0003\n",
      "Epoch 400, Loss: 0.0003\n",
      "Epoch 500, Loss: 0.0003\n",
      "Epoch 600, Loss: 0.0002\n",
      "Epoch 700, Loss: 0.0002\n",
      "Epoch 800, Loss: 0.0002\n",
      "Epoch 900, Loss: 0.0002\n"
     ]
    }
   ],
   "source": [
    "# Training loop\n",
    "for epoch in range(1000):\n",
    "    # Forward propagation\n",
    "    # Hidden layer\n",
    "    hidden_input = np.dot(X, weights_hidden) + bias_hidden\n",
    "    hidden_output = sigmoid(hidden_input)\n",
    "    \n",
    "    # Output layer\n",
    "    output_input = np.dot(hidden_output, weights_output) + bias_output\n",
    "    final_output = sigmoid(output_input)\n",
    "    \n",
    "    # Calculate error\n",
    "    error = y - final_output\n",
    "    \n",
    "    # Backward propagation\n",
    "    # Output layer gradients\n",
    "    output_error = error * sigmoid_derivative(final_output)\n",
    "    \n",
    "    # Hidden layer gradients\n",
    "    hidden_error = output_error.dot(weights_output.T) * sigmoid_derivative(hidden_output)\n",
    "    \n",
    "    # Update weights and biases\n",
    "    weights_output += hidden_output.T.dot(output_error) * learning_rate\n",
    "    bias_output += np.sum(output_error, axis=0, keepdims=True) * learning_rate\n",
    "    \n",
    "    weights_hidden += X.T.dot(hidden_error) * learning_rate\n",
    "    bias_hidden += np.sum(hidden_error, axis=0, keepdims=True) * learning_rate\n",
    "    \n",
    "    # Print progress every 100 epochs\n",
    "    if epoch % 100 == 0:\n",
    "        loss = np.mean(error**2)\n",
    "        print(f\"Epoch {epoch}, Loss: {loss:.4f}\")"
   ]
  },
  {
   "cell_type": "code",
   "execution_count": 22,
   "id": "e3364458",
   "metadata": {},
   "outputs": [
    {
     "name": "stdout",
     "output_type": "stream",
     "text": [
      "\n",
      "Training complete!\n"
     ]
    }
   ],
   "source": [
    "print(\"\\nTraining complete!\")"
   ]
  },
  {
   "cell_type": "code",
   "execution_count": 23,
   "id": "54ceae9f",
   "metadata": {},
   "outputs": [
    {
     "name": "stdout",
     "output_type": "stream",
     "text": [
      "\n",
      "Testing on training data:\n"
     ]
    }
   ],
   "source": [
    "# Test the trained network\n",
    "print(\"\\nTesting on training data:\")\n",
    "hidden_output = sigmoid(np.dot(X, weights_hidden) + bias_hidden)\n",
    "final_output = sigmoid(np.dot(hidden_output, weights_output) + bias_output)"
   ]
  },
  {
   "cell_type": "code",
   "execution_count": 24,
   "id": "bc1591f3",
   "metadata": {},
   "outputs": [
    {
     "name": "stdout",
     "output_type": "stream",
     "text": [
      "Email 1: [1 1 1 0] → Actual: 1, Predicted: 0.990 (SPAM)\n",
      "Email 2: [0 0 0 1] → Actual: 0, Predicted: 0.012 (NOT SPAM)\n",
      "Email 3: [1 0 1 0] → Actual: 1, Predicted: 0.983 (SPAM)\n",
      "Email 4: [0 0 0 1] → Actual: 0, Predicted: 0.012 (NOT SPAM)\n",
      "Email 5: [1 1 0 0] → Actual: 1, Predicted: 0.987 (SPAM)\n",
      "Email 6: [0 0 1 1] → Actual: 0, Predicted: 0.017 (NOT SPAM)\n"
     ]
    }
   ],
   "source": [
    "for i in range(len(X)):\n",
    "    features = X[i]\n",
    "    actual = y[i][0]\n",
    "    predicted = final_output[i][0]\n",
    "    prediction = \"SPAM\" if predicted > 0.5 else \"NOT SPAM\"\n",
    "    print(f\"Email {i+1}: {features} → Actual: {actual}, Predicted: {predicted:.3f} ({prediction})\")"
   ]
  },
  {
   "cell_type": "code",
   "execution_count": 25,
   "id": "b006d8e5",
   "metadata": {},
   "outputs": [
    {
     "name": "stdout",
     "output_type": "stream",
     "text": [
      "\n",
      "Testing on new emails:\n",
      "New email 1: [1 1 1 0] → 0.990 (SPAM)\n",
      "New email 2: [0 0 0 1] → 0.012 (NOT SPAM)\n",
      "New email 3: [1 0 0 1] → 0.175 (NOT SPAM)\n"
     ]
    }
   ],
   "source": [
    "# Test on new data\n",
    "print(\"\\nTesting on new emails:\")\n",
    "test_cases = [\n",
    "    [1, 1, 1, 0],  # urgent, free, click, no meeting\n",
    "    [0, 0, 0, 1],  # no urgent, no free, no click, meeting\n",
    "    [1, 0, 0, 1],  # urgent, no free, no click, meeting\n",
    "]\n",
    "\n",
    "for i, test_input in enumerate(test_cases):\n",
    "    test_input = np.array(test_input).reshape(1, -1)\n",
    "    hidden_output = sigmoid(np.dot(test_input, weights_hidden) + bias_hidden)\n",
    "    prediction = sigmoid(np.dot(hidden_output, weights_output) + bias_output)[0][0]\n",
    "    result = \"SPAM\" if prediction > 0.5 else \"NOT SPAM\"\n",
    "    print(f\"New email {i+1}: {test_input[0]} → {prediction:.3f} ({result})\")"
   ]
  }
 ],
 "metadata": {
  "kernelspec": {
   "display_name": ".venv",
   "language": "python",
   "name": "python3"
  },
  "language_info": {
   "codemirror_mode": {
    "name": "ipython",
    "version": 3
   },
   "file_extension": ".py",
   "mimetype": "text/x-python",
   "name": "python",
   "nbconvert_exporter": "python",
   "pygments_lexer": "ipython3",
   "version": "3.12.1"
  }
 },
 "nbformat": 4,
 "nbformat_minor": 5
}
