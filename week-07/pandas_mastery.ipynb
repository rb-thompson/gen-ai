{
 "cells": [
  {
   "cell_type": "markdown",
   "id": "1e61c733",
   "metadata": {},
   "source": [
    "# Pandas Mastery Notebook for Data Science & Machine Learning\n",
    "\n",
    "[![Python](https://img.shields.io/badge/Python-3.7%2B-blue.svg)](https://www.python.org/)\n",
    "[![Pandas](https://img.shields.io/badge/Pandas-Latest-green.svg)](https://pandas.pydata.org/)\n",
    "[![License](https://img.shields.io/badge/License-MIT-yellow.svg)](https://opensource.org/licenses/MIT)\n",
    "\n",
    "## 🗂️ Table of Contents\n",
    "\n",
    "| Section | Topic | Difficulty | Key Concepts |\n",
    "|---------|-------|------------|--------------|\n",
    "| [Section 1](#section-1) | Data Creation & Import/Export | Beginner | DataFrame creation, file I/O |\n",
    "| [Section 2](#section-2) | Data Exploration & Inspection | Beginner | info(), describe(), head(), tail() |\n",
    "| [Section 3](#section-3) | Data Selection & Indexing | Beginner | loc, iloc, boolean indexing |\n",
    "| [Section 4](#section-4) | Data Cleaning & Preprocessing | Intermediate | Missing values, duplicates, data types |\n",
    "| [Section 5](#section-5) | Data Transformation & Manipulation | Intermediate | New columns, sorting, ranking |\n",
    "| [Section 6](#section-6) | GroupBy Operations & Aggregations | Intermediate | groupby(), agg(), transform() |\n",
    "| [Section 7](#section-7) | Merging, Joining & Concatenating | Intermediate | merge(), join(), concat() |\n",
    "| [Section 8](#section-8) | Pivot Tables & Reshaping | Advanced | pivot_table(), melt(), stack() |\n",
    "| [Section 9](#section-9) | Time Series Analysis | Advanced | Date operations, resampling, rolling |\n",
    "| [Section 10](#section-10) | Advanced Operations | Advanced | Window functions, MultiIndex |\n",
    "| [Section 11](#section-11) | Data Visualization | Intermediate | Pandas plotting integration |\n",
    "| [Section 12](#section-12) | ML Preprocessing | Advanced | Feature engineering, scaling |\n",
    "| [Section 13](#section-13) | Performance Optimization | Expert | Memory optimization, efficient operations |\n",
    "| [Section 14](#section-14) | Common Patterns & Tricks | Expert | Advanced techniques, best practices |\n",
    "| [Section 15](#section-15) | Real-World Scenarios | Expert | Complete case studies |\n",
    "| [Section 16](#section-16) | Error Handling & Debugging | All Levels | Common errors and solutions |\n",
    "| [Section 17](#section-17) | Library Integration | Advanced | NumPy, Scikit-learn, Matplotlib |\n"
   ]
  },
  {
   "cell_type": "code",
   "execution_count": 5,
   "id": "8ad45e1b",
   "metadata": {},
   "outputs": [],
   "source": [
    "# SETUP\n",
    "\n",
    "import pandas as pd\n",
    "import numpy as np\n",
    "import matplotlib.pyplot as plt\n",
    "import seaborn as sns\n",
    "from datetime import datetime, timedelta\n",
    "import warnings\n",
    "warnings.filterwarnings('ignore')\n",
    "\n",
    "# Set display options for better output\n",
    "pd.set_option('display.max_columns', None)\n",
    "pd.set_option('display.width', None)\n",
    "pd.set_option('display.max_colwidth', 50)"
   ]
  },
  {
   "cell_type": "code",
   "execution_count": 6,
   "id": "63ef884a",
   "metadata": {},
   "outputs": [],
   "source": [
    "# BUILTIN DATASETS\n",
    "\n",
    "# Iris Dataset from sklearn\n",
    "from sklearn.datasets import load_iris\n",
    "iris_df = pd.DataFrame(load_iris().data, columns=load_iris().feature_names)\n",
    "\n",
    "# Seaborn datasets (instant access)\n",
    "import seaborn as sns\n",
    "tips_df = sns.load_dataset('tips')\n",
    "flights_df = sns.load_dataset('flights')\n",
    "titanic_df = sns.load_dataset('titanic')\n",
    "car_crashes_df = sns.load_dataset('car_crashes')\n",
    "mpg_df = sns.load_dataset('mpg')\n",
    "penguins_df = sns.load_dataset('penguins')"
   ]
  },
  {
   "cell_type": "code",
   "execution_count": 7,
   "id": "4c623c7a",
   "metadata": {},
   "outputs": [
    {
     "name": "stdout",
     "output_type": "stream",
     "text": [
      "\n",
      "1.1 Creating DataFrames\n",
      "Employee DataFrame:\n",
      "      Name  Age      City  Salary Department\n",
      "0    Alice   25  New York   50000         IT\n",
      "1      Bob   30    London   60000    Finance\n",
      "2  Charlie   35     Paris   70000         IT\n",
      "3    Diana   28     Tokyo   55000         HR\n",
      "4      Eve   32    Sydney   65000    Finance\n"
     ]
    }
   ],
   "source": [
    "# ========================================================================\n",
    "# SECTION 1: DATA CREATION AND IMPORT/EXPORT\n",
    "# ========================================================================\n",
    "\n",
    "# 1.1 Creating DataFrames from scratch\n",
    "print(\"\\n1.1 Creating DataFrames\")\n",
    "\n",
    "# Dictionary method\n",
    "data_dict = {\n",
    "    'Name': ['Alice', 'Bob', 'Charlie', 'Diana', 'Eve'],\n",
    "    'Age': [25, 30, 35, 28, 32],\n",
    "    'City': ['New York', 'London', 'Paris', 'Tokyo', 'Sydney'],\n",
    "    'Salary': [50000, 60000, 70000, 55000, 65000],\n",
    "    'Department': ['IT', 'Finance', 'IT', 'HR', 'Finance']\n",
    "}\n",
    "df_employees = pd.DataFrame(data_dict)\n",
    "print(\"Employee DataFrame:\")\n",
    "print(df_employees)"
   ]
  },
  {
   "cell_type": "code",
   "execution_count": 8,
   "id": "e8f83ffa",
   "metadata": {},
   "outputs": [
    {
     "name": "stdout",
     "output_type": "stream",
     "text": [
      "\n",
      "1.2 Creating from lists of lists\n",
      "Products DataFrame:\n",
      "     Product  Quantity  Price\n",
      "0  Product A       100  25.50\n",
      "1  Product B       150  30.00\n",
      "2  Product C        75  18.75\n",
      "3  Product D       200  45.00\n"
     ]
    }
   ],
   "source": [
    "# 1.2 Creating from lists\n",
    "print(\"\\n1.2 Creating from lists of lists\")\n",
    "data_list = [\n",
    "    ['Product A', 100, 25.50],\n",
    "    ['Product B', 150, 30.00],\n",
    "    ['Product C', 75, 18.75],\n",
    "    ['Product D', 200, 45.00]\n",
    "]\n",
    "df_products = pd.DataFrame(data_list, columns=['Product', 'Quantity', 'Price'])\n",
    "print(\"Products DataFrame:\")\n",
    "print(df_products)"
   ]
  },
  {
   "cell_type": "code",
   "execution_count": 9,
   "id": "aed9d34b",
   "metadata": {},
   "outputs": [
    {
     "name": "stdout",
     "output_type": "stream",
     "text": [
      "\n",
      "1.3 Creating Series\n",
      "Temperature Series:\n",
      "Mon    20\n",
      "Tue    25\n",
      "Wed    30\n",
      "Thu    35\n",
      "Fri    40\n",
      "Name: Temperature, dtype: int64\n"
     ]
    }
   ],
   "source": [
    "# 1.3 Creating Series\n",
    "print(\"\\n1.3 Creating Series\")\n",
    "s_temperatures = pd.Series([20, 25, 30, 35, 40], \n",
    "                          index=['Mon', 'Tue', 'Wed', 'Thu', 'Fri'],\n",
    "                          name='Temperature')\n",
    "print(\"Temperature Series:\")\n",
    "print(s_temperatures)"
   ]
  },
  {
   "cell_type": "code",
   "execution_count": 10,
   "id": "5dbf0686",
   "metadata": {},
   "outputs": [
    {
     "name": "stdout",
     "output_type": "stream",
     "text": [
      "\n",
      "1.4 Creating date ranges\n",
      "Date DataFrame:\n",
      "        Date     Value\n",
      "0 2024-01-01 -0.312965\n",
      "1 2024-01-02  0.319146\n",
      "2 2024-01-03 -1.974305\n",
      "3 2024-01-04  0.348562\n",
      "4 2024-01-05 -0.384390\n"
     ]
    }
   ],
   "source": [
    "# 1.4 Date range creation\n",
    "print(\"\\n1.4 Creating date ranges\")\n",
    "date_range = pd.date_range(start='2024-01-01', end='2024-01-10', freq='D')\n",
    "df_dates = pd.DataFrame({'Date': date_range, 'Value': np.random.randn(len(date_range))})\n",
    "print(\"Date DataFrame:\")\n",
    "print(df_dates.head())"
   ]
  },
  {
   "cell_type": "code",
   "execution_count": null,
   "id": "a2aaf203",
   "metadata": {},
   "outputs": [],
   "source": [
    "# 1.5 File operations examples (commented out - requires actual files)\n",
    "print(\"\\n1.5 File I/O Operations (Examples)\")\n",
    "print(\"\"\"\n",
    "# Reading files\n",
    "df = pd.read_csv('data.csv')\n",
    "df = pd.read_excel('data.xlsx', sheet_name='Sheet1')\n",
    "df = pd.read_json('data.json')\n",
    "df = pd.read_sql('SELECT * FROM table', connection)\n",
    "\n",
    "# Writing files\n",
    "df.to_csv('output.csv', index=False)\n",
    "df.to_excel('output.xlsx', index=False, sheet_name='Data')\n",
    "df.to_json('output.json', orient='records')\n",
    "df.to_parquet('output.parquet')\n",
    "\"\"\")"
   ]
  },
  {
   "cell_type": "code",
   "execution_count": 11,
   "id": "8547be35",
   "metadata": {},
   "outputs": [],
   "source": [
    "# Read CSV into a dataframe\n",
    "df_csv = pd.read_csv('data.csv')"
   ]
  },
  {
   "cell_type": "code",
   "execution_count": 12,
   "id": "c6622a4f",
   "metadata": {},
   "outputs": [
    {
     "name": "stdout",
     "output_type": "stream",
     "text": [
      "csv:\n",
      "    version    model   year\n",
      "0      1.4   Cicada   2011\n",
      "1      2.9     Newt   2013\n",
      "2      3.1    Oscar   2018\n"
     ]
    }
   ],
   "source": [
    "# Export to JSON\n",
    "df_csv.to_json('output.json', orient='records')\n",
    "print(\"csv:\\n\", df_csv.head())"
   ]
  },
  {
   "cell_type": "code",
   "execution_count": 13,
   "id": "10f11dd5",
   "metadata": {},
   "outputs": [
    {
     "name": "stdout",
     "output_type": "stream",
     "text": [
      "   version    model   year\n",
      "0      1.4   Cicada   2011\n",
      "1      2.9     Newt   2013\n",
      "2      3.1    Oscar   2018\n"
     ]
    }
   ],
   "source": [
    "# https://medium.com/data-engineering-with-dremio/getting-started-with-data-analytics-using-pyarrow-in-python-ac7a100bc569\n",
    "\n",
    "# Export to Parquet\n",
    "df_csv.to_parquet('output.parquet', engine='fastparquet')\n",
    "\n",
    "# Read parquet into dataframe\n",
    "df_parquet = pd.read_parquet('output.parquet', engine='fastparquet')\n",
    "print(df_parquet.head())"
   ]
  },
  {
   "cell_type": "code",
   "execution_count": 14,
   "id": "3f79b8b1",
   "metadata": {},
   "outputs": [
    {
     "name": "stdout",
     "output_type": "stream",
     "text": [
      "json:\n",
      "    version    model   year\n",
      "0      1.4   Cicada   2011\n",
      "1      2.9     Newt   2013\n",
      "2      3.1    Oscar   2018\n"
     ]
    }
   ],
   "source": [
    "# Read JSON into dataframe\n",
    "df_json = pd.read_json('output.json')\n",
    "print(\"json:\\n\", df_json.head())"
   ]
  },
  {
   "cell_type": "code",
   "execution_count": 15,
   "id": "9aef0111",
   "metadata": {},
   "outputs": [
    {
     "name": "stdout",
     "output_type": "stream",
     "text": [
      "              os        hardware_model  ram  speed\n",
      "0  macOS Ventura        Razer Blade 14   32    4.0\n",
      "1   Ubuntu 24.04        MacBook Air M2   16    4.5\n",
      "2      Debian 12      Surface Laptop 5   32    2.8\n",
      "3   macOS Sonoma  Acer Predator Helios   16    2.8\n",
      "4      Fedora 40        Razer Blade 14   64    4.0\n",
      "5   Ubuntu 22.04      Framework Laptop   32    4.5\n",
      "6      Debian 12           Dell XPS 13   32    4.0\n",
      "7      Fedora 40        MacBook Air M2   64    4.5\n",
      "8   Ubuntu 22.04     Asus ROG Zephyrus   16    2.4\n",
      "9  macOS Ventura        MSI Stealth 16   64    2.8\n"
     ]
    }
   ],
   "source": [
    "# Generate CSV file of popular operating systems and randomized hardware specs\n",
    "import random\n",
    "\n",
    "# Define headers\n",
    "headers = ['os', 'hardware_model', 'ram', 'speed']\n",
    "\n",
    "# Popular operating systems\n",
    "operating_systems = [\n",
    "    'Windows 11', 'Windows 10', 'macOS Ventura', 'macOS Sonoma', 'Ubuntu 22.04',\n",
    "    'Ubuntu 24.04', 'Fedora 40', 'Debian 12', 'Arch Linux', 'Chrome OS'\n",
    "]\n",
    "\n",
    "# Hardware model examples\n",
    "hardware_models = [\n",
    "    'Dell XPS 13', 'HP Spectre x360', 'Lenovo ThinkPad X1', 'MacBook Air M2',\n",
    "    'Asus ROG Zephyrus', 'Acer Predator Helios', 'Surface Laptop 5',\n",
    "    'Framework Laptop', 'MSI Stealth 16', 'Razer Blade 14'\n",
    "]\n",
    "\n",
    "# RAM options (in GB)\n",
    "ram_options = [8, 16, 32, 64]\n",
    "\n",
    "# Speed options (CPU clock speed in GHz)\n",
    "speed_options = [2.4, 2.8, 3.2, 3.6, 4.0, 4.5]\n",
    "\n",
    "# Generate 10 rows of random data\n",
    "os_data = {\n",
    "    'os': [random.choice(operating_systems) for _ in range(10)],\n",
    "    'hardware_model': [random.choice(hardware_models) for _ in range(10)],\n",
    "    'ram': [random.choice(ram_options) for _ in range(10)],\n",
    "    'speed': [random.choice(speed_options) for _ in range(10)]\n",
    "}\n",
    "\n",
    "# Create DataFrame\n",
    "df_stacks = pd.DataFrame(os_data, columns=headers)\n",
    "\n",
    "# Export to CSV\n",
    "df_stacks.to_csv('hardware_specs.csv', index=False)\n",
    "\n",
    "# Display the DataFrame for verification\n",
    "print(df_stacks)"
   ]
  },
  {
   "cell_type": "code",
   "execution_count": 16,
   "id": "b9a73240",
   "metadata": {},
   "outputs": [
    {
     "name": "stdout",
     "output_type": "stream",
     "text": [
      "\n",
      "2.1 Basic DataFrame Information\n",
      "Shape: (5, 5)\n",
      "Columns: ['os', 'hardware_model', 'ram', 'speed']\n",
      "Data types:\n",
      "os                 object\n",
      "hardware_model     object\n",
      "ram                 int64\n",
      "speed             float64\n",
      "dtype: object\n",
      "Memory usage:\n",
      "Index             132\n",
      "os                600\n",
      "hardware_model    640\n",
      "ram                80\n",
      "speed              80\n",
      "dtype: int64\n"
     ]
    }
   ],
   "source": [
    "# ========================================================================\n",
    "# SECTION 2: DATA EXPLORATION AND INSPECTION\n",
    "# ========================================================================\n",
    "\n",
    "# 2.1 Basic Information\n",
    "print(\"\\n2.1 Basic DataFrame Information\")\n",
    "print(f\"Shape: {df_employees.shape}\")\n",
    "print(f\"Columns: {list(df_stacks.columns)}\")\n",
    "print(f\"Data types:\\n{df_stacks.dtypes}\")\n",
    "print(f\"Memory usage:\\n{df_stacks.memory_usage(deep=True)}\")"
   ]
  },
  {
   "cell_type": "code",
   "execution_count": 17,
   "id": "7908aa4e",
   "metadata": {},
   "outputs": [
    {
     "name": "stdout",
     "output_type": "stream",
     "text": [
      "\n",
      "2.2 Statistical Summary\n",
      "             ram      speed\n",
      "count  10.000000  10.000000\n",
      "mean   36.800000   3.630000\n",
      "std    20.026649   0.834066\n",
      "min    16.000000   2.400000\n",
      "25%    20.000000   2.800000\n",
      "50%    32.000000   4.000000\n",
      "75%    56.000000   4.375000\n",
      "max    64.000000   4.500000\n",
      "\n",
      "Info about the DataFrame:\n",
      "<class 'pandas.core.frame.DataFrame'>\n",
      "RangeIndex: 10 entries, 0 to 9\n",
      "Data columns (total 4 columns):\n",
      " #   Column          Non-Null Count  Dtype  \n",
      "---  ------          --------------  -----  \n",
      " 0   os              10 non-null     object \n",
      " 1   hardware_model  10 non-null     object \n",
      " 2   ram             10 non-null     int64  \n",
      " 3   speed           10 non-null     float64\n",
      "dtypes: float64(1), int64(1), object(2)\n",
      "memory usage: 452.0+ bytes\n"
     ]
    }
   ],
   "source": [
    "# 2.2 Statistical summary\n",
    "print(\"\\n2.2 Statistical Summary\")\n",
    "print(df_stacks.describe())\n",
    "print(\"\\nInfo about the DataFrame:\")\n",
    "df_stacks.info()"
   ]
  },
  {
   "cell_type": "code",
   "execution_count": 18,
   "id": "8327026b",
   "metadata": {},
   "outputs": [
    {
     "name": "stdout",
     "output_type": "stream",
     "text": [
      "\n",
      "2.3 Viewing Data\n",
      "First 3 rows:\n",
      "              os    hardware_model  ram  speed\n",
      "0  macOS Ventura    Razer Blade 14   32    4.0\n",
      "1   Ubuntu 24.04    MacBook Air M2   16    4.5\n",
      "2      Debian 12  Surface Laptop 5   32    2.8\n",
      "\n",
      "Last 2 rows:\n",
      "              os     hardware_model  ram  speed\n",
      "8   Ubuntu 22.04  Asus ROG Zephyrus   16    2.4\n",
      "9  macOS Ventura     MSI Stealth 16   64    2.8\n",
      "\n",
      "Random sample (2 rows):\n",
      "              os  hardware_model  ram  speed\n",
      "7      Fedora 40  MacBook Air M2   64    4.5\n",
      "9  macOS Ventura  MSI Stealth 16   64    2.8\n"
     ]
    }
   ],
   "source": [
    "# 2.3 Viewing data\n",
    "print(\"\\n2.3 Viewing Data\")\n",
    "print(\"First 3 rows:\")\n",
    "print(df_stacks.head(3))\n",
    "print(\"\\nLast 2 rows:\")\n",
    "print(df_stacks.tail(2))\n",
    "print(\"\\nRandom sample (2 rows):\")\n",
    "print(df_stacks.sample(2))"
   ]
  },
  {
   "cell_type": "code",
   "execution_count": 19,
   "id": "45737dab",
   "metadata": {},
   "outputs": [
    {
     "name": "stdout",
     "output_type": "stream",
     "text": [
      "\n",
      "2.4 Unique Values and Counts\n",
      "Unique hardware: ['Razer Blade 14' 'MacBook Air M2' 'Surface Laptop 5'\n",
      " 'Acer Predator Helios' 'Framework Laptop' 'Dell XPS 13'\n",
      " 'Asus ROG Zephyrus' 'MSI Stealth 16']\n",
      "Ram counts:\n",
      "ram\n",
      "32    4\n",
      "16    3\n",
      "64    3\n",
      "Name: count, dtype: int64\n",
      "Number of unique operating systems: 6\n"
     ]
    }
   ],
   "source": [
    "# 2.4 Unique values and counts\n",
    "print(\"\\n2.4 Unique Values and Counts\")\n",
    "print(f\"Unique hardware: {df_stacks['hardware_model'].unique()}\")\n",
    "print(f\"Ram counts:\\n{df_stacks['ram'].value_counts()}\")\n",
    "print(f\"Number of unique operating systems: {df_stacks['os'].nunique()}\")"
   ]
  },
  {
   "cell_type": "code",
   "execution_count": 58,
   "id": "b415048a",
   "metadata": {},
   "outputs": [
    {
     "name": "stdout",
     "output_type": "stream",
     "text": [
      "\n",
      "3.1 Column Selection\n",
      "Single column (Series):\n",
      "0          Razer Blade 14\n",
      "1          MacBook Air M2\n",
      "2        Surface Laptop 5\n",
      "3    Acer Predator Helios\n",
      "4          Razer Blade 14\n",
      "5        Framework Laptop\n",
      "6             Dell XPS 13\n",
      "7          MacBook Air M2\n",
      "8       Asus ROG Zephyrus\n",
      "9          MSI Stealth 16\n",
      "Name: hardware_model, dtype: object\n",
      "\n",
      "Multiple columns (DataFrame):\n",
      "              os  ram\n",
      "0  macOS Ventura   32\n",
      "1   Ubuntu 24.04   16\n",
      "2      Debian 12   32\n",
      "3   macOS Sonoma   16\n",
      "4      Fedora 40   64\n",
      "5   Ubuntu 22.04   32\n",
      "6      Debian 12   32\n",
      "7      Fedora 40   64\n",
      "8   Ubuntu 22.04   16\n",
      "9  macOS Ventura   64\n"
     ]
    }
   ],
   "source": [
    "# ========================================================================\n",
    "# SECTION 3: DATA SELECTION AND INDEXING\n",
    "# ========================================================================\n",
    "\n",
    "# 3.1 Column selection\n",
    "print(\"\\n3.1 Column Selection\")\n",
    "print(\"Single column (Series):\")\n",
    "print(df_stacks['hardware_model'])\n",
    "print(\"\\nMultiple columns (DataFrame):\")\n",
    "print(df_stacks[['os', 'ram']])"
   ]
  },
  {
   "cell_type": "code",
   "execution_count": 25,
   "id": "53981d95",
   "metadata": {},
   "outputs": [
    {
     "data": {
      "text/plain": [
       "0    32\n",
       "1    16\n",
       "2    32\n",
       "3    16\n",
       "4    64\n",
       "5    32\n",
       "6    32\n",
       "7    64\n",
       "8    16\n",
       "9    64\n",
       "Name: ram, dtype: int64"
      ]
     },
     "execution_count": 25,
     "metadata": {},
     "output_type": "execute_result"
    }
   ],
   "source": [
    "df_stacks.ram"
   ]
  },
  {
   "cell_type": "code",
   "execution_count": 59,
   "id": "95916779",
   "metadata": {},
   "outputs": [
    {
     "name": "stdout",
     "output_type": "stream",
     "text": [
      "\n",
      "3.2 Row Selection\n",
      "Row by index (iloc):\n",
      "os                 macOS Ventura\n",
      "hardware_model    Razer Blade 14\n",
      "ram                           32\n",
      "speed                        4.0\n",
      "rating                         2\n",
      "Name: 0, dtype: object\n",
      "\n",
      "Multiple rows by index:\n",
      "             os        hardware_model  ram  speed  rating\n",
      "1  Ubuntu 24.04        MacBook Air M2   16    4.5       2\n",
      "2     Debian 12      Surface Laptop 5   32    2.8       1\n",
      "3  macOS Sonoma  Acer Predator Helios   16    2.8       0\n",
      "\n",
      "Row by label (loc):\n",
      "os                       Debian 12\n",
      "hardware_model    Surface Laptop 5\n",
      "ram                             32\n",
      "speed                          2.8\n",
      "rating                           1\n",
      "Name: 2, dtype: object\n"
     ]
    }
   ],
   "source": [
    "# 3.2 Row selection\n",
    "print(\"\\n3.2 Row Selection\")\n",
    "print(\"Row by index (iloc):\")\n",
    "print(df_stacks.iloc[0])\n",
    "print(\"\\nMultiple rows by index:\")\n",
    "print(df_stacks.iloc[1:4])\n",
    "print(\"\\nRow by label (loc):\")\n",
    "print(df_stacks.loc[2])"
   ]
  },
  {
   "cell_type": "code",
   "execution_count": 24,
   "id": "9e180b99",
   "metadata": {},
   "outputs": [
    {
     "data": {
      "text/plain": [
       "'Ubuntu 24.04'"
      ]
     },
     "execution_count": 24,
     "metadata": {},
     "output_type": "execute_result"
    }
   ],
   "source": [
    "df_stacks['os'][1]"
   ]
  },
  {
   "cell_type": "code",
   "execution_count": 26,
   "id": "7f5dcb18",
   "metadata": {},
   "outputs": [
    {
     "data": {
      "text/plain": [
       "os                 macOS Ventura\n",
       "hardware_model    Razer Blade 14\n",
       "ram                           32\n",
       "speed                        4.0\n",
       "Name: 0, dtype: object"
      ]
     },
     "execution_count": 26,
     "metadata": {},
     "output_type": "execute_result"
    }
   ],
   "source": [
    "df_stacks.iloc[0]"
   ]
  },
  {
   "cell_type": "code",
   "execution_count": 27,
   "id": "58f3ac77",
   "metadata": {},
   "outputs": [
    {
     "data": {
      "text/plain": [
       "0    macOS Ventura\n",
       "1     Ubuntu 24.04\n",
       "2        Debian 12\n",
       "3     macOS Sonoma\n",
       "4        Fedora 40\n",
       "5     Ubuntu 22.04\n",
       "6        Debian 12\n",
       "7        Fedora 40\n",
       "8     Ubuntu 22.04\n",
       "9    macOS Ventura\n",
       "Name: os, dtype: object"
      ]
     },
     "execution_count": 27,
     "metadata": {},
     "output_type": "execute_result"
    }
   ],
   "source": [
    "df_stacks.iloc[:, 0]"
   ]
  },
  {
   "cell_type": "code",
   "execution_count": 28,
   "id": "e25cad3e",
   "metadata": {},
   "outputs": [
    {
     "data": {
      "text/plain": [
       "0    macOS Ventura\n",
       "1     Ubuntu 24.04\n",
       "2        Debian 12\n",
       "Name: os, dtype: object"
      ]
     },
     "execution_count": 28,
     "metadata": {},
     "output_type": "execute_result"
    }
   ],
   "source": [
    "df_stacks.iloc[:3, 0]"
   ]
  },
  {
   "cell_type": "code",
   "execution_count": 29,
   "id": "059e8895",
   "metadata": {},
   "outputs": [
    {
     "data": {
      "text/plain": [
       "1    Ubuntu 24.04\n",
       "2       Debian 12\n",
       "Name: os, dtype: object"
      ]
     },
     "execution_count": 29,
     "metadata": {},
     "output_type": "execute_result"
    }
   ],
   "source": [
    "df_stacks.iloc[1:3, 0]"
   ]
  },
  {
   "cell_type": "code",
   "execution_count": 30,
   "id": "70ff0833",
   "metadata": {},
   "outputs": [
    {
     "data": {
      "text/html": [
       "<div>\n",
       "<style scoped>\n",
       "    .dataframe tbody tr th:only-of-type {\n",
       "        vertical-align: middle;\n",
       "    }\n",
       "\n",
       "    .dataframe tbody tr th {\n",
       "        vertical-align: top;\n",
       "    }\n",
       "\n",
       "    .dataframe thead th {\n",
       "        text-align: right;\n",
       "    }\n",
       "</style>\n",
       "<table border=\"1\" class=\"dataframe\">\n",
       "  <thead>\n",
       "    <tr style=\"text-align: right;\">\n",
       "      <th></th>\n",
       "      <th>os</th>\n",
       "      <th>hardware_model</th>\n",
       "      <th>ram</th>\n",
       "      <th>speed</th>\n",
       "    </tr>\n",
       "  </thead>\n",
       "  <tbody>\n",
       "    <tr>\n",
       "      <th>5</th>\n",
       "      <td>Ubuntu 22.04</td>\n",
       "      <td>Framework Laptop</td>\n",
       "      <td>32</td>\n",
       "      <td>4.5</td>\n",
       "    </tr>\n",
       "    <tr>\n",
       "      <th>6</th>\n",
       "      <td>Debian 12</td>\n",
       "      <td>Dell XPS 13</td>\n",
       "      <td>32</td>\n",
       "      <td>4.0</td>\n",
       "    </tr>\n",
       "    <tr>\n",
       "      <th>7</th>\n",
       "      <td>Fedora 40</td>\n",
       "      <td>MacBook Air M2</td>\n",
       "      <td>64</td>\n",
       "      <td>4.5</td>\n",
       "    </tr>\n",
       "    <tr>\n",
       "      <th>8</th>\n",
       "      <td>Ubuntu 22.04</td>\n",
       "      <td>Asus ROG Zephyrus</td>\n",
       "      <td>16</td>\n",
       "      <td>2.4</td>\n",
       "    </tr>\n",
       "    <tr>\n",
       "      <th>9</th>\n",
       "      <td>macOS Ventura</td>\n",
       "      <td>MSI Stealth 16</td>\n",
       "      <td>64</td>\n",
       "      <td>2.8</td>\n",
       "    </tr>\n",
       "  </tbody>\n",
       "</table>\n",
       "</div>"
      ],
      "text/plain": [
       "              os     hardware_model  ram  speed\n",
       "5   Ubuntu 22.04   Framework Laptop   32    4.5\n",
       "6      Debian 12        Dell XPS 13   32    4.0\n",
       "7      Fedora 40     MacBook Air M2   64    4.5\n",
       "8   Ubuntu 22.04  Asus ROG Zephyrus   16    2.4\n",
       "9  macOS Ventura     MSI Stealth 16   64    2.8"
      ]
     },
     "execution_count": 30,
     "metadata": {},
     "output_type": "execute_result"
    }
   ],
   "source": [
    "df_stacks.iloc[-5:]"
   ]
  },
  {
   "cell_type": "code",
   "execution_count": 61,
   "id": "b01342e7",
   "metadata": {},
   "outputs": [
    {
     "name": "stdout",
     "output_type": "stream",
     "text": [
      "\n",
      "3.3 Conditional Selection\n",
      "Setups with RAM >= 32GB:\n",
      "              os    hardware_model  ram  speed  rating\n",
      "0  macOS Ventura    Razer Blade 14   32    4.0       2\n",
      "2      Debian 12  Surface Laptop 5   32    2.8       1\n",
      "4      Fedora 40    Razer Blade 14   64    4.0       0\n",
      "5   Ubuntu 22.04  Framework Laptop   32    4.5       4\n",
      "6      Debian 12       Dell XPS 13   32    4.0       0\n",
      "7      Fedora 40    MacBook Air M2   64    4.5       0\n",
      "9  macOS Ventura    MSI Stealth 16   64    2.8       0\n",
      "\n",
      "Show CPUs:\n",
      "             os        hardware_model  ram  speed  rating\n",
      "1  Ubuntu 24.04        MacBook Air M2   16    4.5       2\n",
      "3  macOS Sonoma  Acer Predator Helios   16    2.8       0\n",
      "8  Ubuntu 22.04     Asus ROG Zephyrus   16    2.4       0\n"
     ]
    }
   ],
   "source": [
    "# 3.3 Conditional selection\n",
    "print(\"\\n3.3 Conditional Selection\")\n",
    "high_memory = df_stacks[df_stacks['ram'] >= 32]\n",
    "print(\"Setups with RAM >= 32GB:\")\n",
    "print(high_memory)\n",
    "\n",
    "slow_cpus = df_stacks[df_stacks['ram'] <= 16]\n",
    "print(\"\\nShow CPUs:\")\n",
    "print(slow_cpus)"
   ]
  },
  {
   "cell_type": "code",
   "execution_count": 62,
   "id": "cde7ae41",
   "metadata": {},
   "outputs": [
    {
     "name": "stdout",
     "output_type": "stream",
     "text": [
      "\n",
      "Young high earners (Age < 30 AND Salary > 50000):\n",
      "    Name  Age   City  Salary Department\n",
      "3  Diana   28  Tokyo   55000         HR\n"
     ]
    }
   ],
   "source": [
    "# Multiple conditions\n",
    "young_high_earners = df_employees[(df_employees['Age'] < 30) & (df_employees['Salary'] > 50000)]\n",
    "print(\"\\nYoung high earners (Age < 30 AND Salary > 50000):\")\n",
    "print(young_high_earners)"
   ]
  },
  {
   "cell_type": "code",
   "execution_count": 31,
   "id": "20803427",
   "metadata": {},
   "outputs": [
    {
     "data": {
      "text/html": [
       "<div>\n",
       "<style scoped>\n",
       "    .dataframe tbody tr th:only-of-type {\n",
       "        vertical-align: middle;\n",
       "    }\n",
       "\n",
       "    .dataframe tbody tr th {\n",
       "        vertical-align: top;\n",
       "    }\n",
       "\n",
       "    .dataframe thead th {\n",
       "        text-align: right;\n",
       "    }\n",
       "</style>\n",
       "<table border=\"1\" class=\"dataframe\">\n",
       "  <thead>\n",
       "    <tr style=\"text-align: right;\">\n",
       "      <th></th>\n",
       "      <th>ram</th>\n",
       "      <th>speed</th>\n",
       "    </tr>\n",
       "  </thead>\n",
       "  <tbody>\n",
       "    <tr>\n",
       "      <th>0</th>\n",
       "      <td>32</td>\n",
       "      <td>4.0</td>\n",
       "    </tr>\n",
       "    <tr>\n",
       "      <th>1</th>\n",
       "      <td>16</td>\n",
       "      <td>4.5</td>\n",
       "    </tr>\n",
       "    <tr>\n",
       "      <th>2</th>\n",
       "      <td>32</td>\n",
       "      <td>2.8</td>\n",
       "    </tr>\n",
       "    <tr>\n",
       "      <th>3</th>\n",
       "      <td>16</td>\n",
       "      <td>2.8</td>\n",
       "    </tr>\n",
       "    <tr>\n",
       "      <th>4</th>\n",
       "      <td>64</td>\n",
       "      <td>4.0</td>\n",
       "    </tr>\n",
       "    <tr>\n",
       "      <th>5</th>\n",
       "      <td>32</td>\n",
       "      <td>4.5</td>\n",
       "    </tr>\n",
       "    <tr>\n",
       "      <th>6</th>\n",
       "      <td>32</td>\n",
       "      <td>4.0</td>\n",
       "    </tr>\n",
       "    <tr>\n",
       "      <th>7</th>\n",
       "      <td>64</td>\n",
       "      <td>4.5</td>\n",
       "    </tr>\n",
       "    <tr>\n",
       "      <th>8</th>\n",
       "      <td>16</td>\n",
       "      <td>2.4</td>\n",
       "    </tr>\n",
       "    <tr>\n",
       "      <th>9</th>\n",
       "      <td>64</td>\n",
       "      <td>2.8</td>\n",
       "    </tr>\n",
       "  </tbody>\n",
       "</table>\n",
       "</div>"
      ],
      "text/plain": [
       "   ram  speed\n",
       "0   32    4.0\n",
       "1   16    4.5\n",
       "2   32    2.8\n",
       "3   16    2.8\n",
       "4   64    4.0\n",
       "5   32    4.5\n",
       "6   32    4.0\n",
       "7   64    4.5\n",
       "8   16    2.4\n",
       "9   64    2.8"
      ]
     },
     "execution_count": 31,
     "metadata": {},
     "output_type": "execute_result"
    }
   ],
   "source": [
    "df_stacks.loc[:, ['ram', 'speed']]"
   ]
  },
  {
   "cell_type": "code",
   "execution_count": 32,
   "id": "ea2c3253",
   "metadata": {},
   "outputs": [
    {
     "data": {
      "text/plain": [
       "0     True\n",
       "1     True\n",
       "2    False\n",
       "3    False\n",
       "4     True\n",
       "5     True\n",
       "6     True\n",
       "7     True\n",
       "8    False\n",
       "9    False\n",
       "Name: speed, dtype: bool"
      ]
     },
     "execution_count": 32,
     "metadata": {},
     "output_type": "execute_result"
    }
   ],
   "source": [
    "df_stacks.speed >= 3"
   ]
  },
  {
   "cell_type": "code",
   "execution_count": 33,
   "id": "c656e51b",
   "metadata": {},
   "outputs": [
    {
     "data": {
      "text/html": [
       "<div>\n",
       "<style scoped>\n",
       "    .dataframe tbody tr th:only-of-type {\n",
       "        vertical-align: middle;\n",
       "    }\n",
       "\n",
       "    .dataframe tbody tr th {\n",
       "        vertical-align: top;\n",
       "    }\n",
       "\n",
       "    .dataframe thead th {\n",
       "        text-align: right;\n",
       "    }\n",
       "</style>\n",
       "<table border=\"1\" class=\"dataframe\">\n",
       "  <thead>\n",
       "    <tr style=\"text-align: right;\">\n",
       "      <th></th>\n",
       "      <th>os</th>\n",
       "      <th>hardware_model</th>\n",
       "      <th>ram</th>\n",
       "      <th>speed</th>\n",
       "    </tr>\n",
       "  </thead>\n",
       "  <tbody>\n",
       "    <tr>\n",
       "      <th>0</th>\n",
       "      <td>macOS Ventura</td>\n",
       "      <td>Razer Blade 14</td>\n",
       "      <td>32</td>\n",
       "      <td>4.0</td>\n",
       "    </tr>\n",
       "    <tr>\n",
       "      <th>1</th>\n",
       "      <td>Ubuntu 24.04</td>\n",
       "      <td>MacBook Air M2</td>\n",
       "      <td>16</td>\n",
       "      <td>4.5</td>\n",
       "    </tr>\n",
       "    <tr>\n",
       "      <th>4</th>\n",
       "      <td>Fedora 40</td>\n",
       "      <td>Razer Blade 14</td>\n",
       "      <td>64</td>\n",
       "      <td>4.0</td>\n",
       "    </tr>\n",
       "    <tr>\n",
       "      <th>5</th>\n",
       "      <td>Ubuntu 22.04</td>\n",
       "      <td>Framework Laptop</td>\n",
       "      <td>32</td>\n",
       "      <td>4.5</td>\n",
       "    </tr>\n",
       "    <tr>\n",
       "      <th>6</th>\n",
       "      <td>Debian 12</td>\n",
       "      <td>Dell XPS 13</td>\n",
       "      <td>32</td>\n",
       "      <td>4.0</td>\n",
       "    </tr>\n",
       "    <tr>\n",
       "      <th>7</th>\n",
       "      <td>Fedora 40</td>\n",
       "      <td>MacBook Air M2</td>\n",
       "      <td>64</td>\n",
       "      <td>4.5</td>\n",
       "    </tr>\n",
       "  </tbody>\n",
       "</table>\n",
       "</div>"
      ],
      "text/plain": [
       "              os    hardware_model  ram  speed\n",
       "0  macOS Ventura    Razer Blade 14   32    4.0\n",
       "1   Ubuntu 24.04    MacBook Air M2   16    4.5\n",
       "4      Fedora 40    Razer Blade 14   64    4.0\n",
       "5   Ubuntu 22.04  Framework Laptop   32    4.5\n",
       "6      Debian 12       Dell XPS 13   32    4.0\n",
       "7      Fedora 40    MacBook Air M2   64    4.5"
      ]
     },
     "execution_count": 33,
     "metadata": {},
     "output_type": "execute_result"
    }
   ],
   "source": [
    "df_stacks.loc[df_stacks.speed >= 3]"
   ]
  },
  {
   "cell_type": "code",
   "execution_count": 34,
   "id": "8631653f",
   "metadata": {},
   "outputs": [
    {
     "data": {
      "text/html": [
       "<div>\n",
       "<style scoped>\n",
       "    .dataframe tbody tr th:only-of-type {\n",
       "        vertical-align: middle;\n",
       "    }\n",
       "\n",
       "    .dataframe tbody tr th {\n",
       "        vertical-align: top;\n",
       "    }\n",
       "\n",
       "    .dataframe thead th {\n",
       "        text-align: right;\n",
       "    }\n",
       "</style>\n",
       "<table border=\"1\" class=\"dataframe\">\n",
       "  <thead>\n",
       "    <tr style=\"text-align: right;\">\n",
       "      <th></th>\n",
       "      <th>os</th>\n",
       "      <th>hardware_model</th>\n",
       "      <th>ram</th>\n",
       "      <th>speed</th>\n",
       "    </tr>\n",
       "  </thead>\n",
       "  <tbody>\n",
       "    <tr>\n",
       "      <th>0</th>\n",
       "      <td>macOS Ventura</td>\n",
       "      <td>Razer Blade 14</td>\n",
       "      <td>32</td>\n",
       "      <td>4.0</td>\n",
       "    </tr>\n",
       "    <tr>\n",
       "      <th>4</th>\n",
       "      <td>Fedora 40</td>\n",
       "      <td>Razer Blade 14</td>\n",
       "      <td>64</td>\n",
       "      <td>4.0</td>\n",
       "    </tr>\n",
       "    <tr>\n",
       "      <th>5</th>\n",
       "      <td>Ubuntu 22.04</td>\n",
       "      <td>Framework Laptop</td>\n",
       "      <td>32</td>\n",
       "      <td>4.5</td>\n",
       "    </tr>\n",
       "    <tr>\n",
       "      <th>6</th>\n",
       "      <td>Debian 12</td>\n",
       "      <td>Dell XPS 13</td>\n",
       "      <td>32</td>\n",
       "      <td>4.0</td>\n",
       "    </tr>\n",
       "    <tr>\n",
       "      <th>7</th>\n",
       "      <td>Fedora 40</td>\n",
       "      <td>MacBook Air M2</td>\n",
       "      <td>64</td>\n",
       "      <td>4.5</td>\n",
       "    </tr>\n",
       "  </tbody>\n",
       "</table>\n",
       "</div>"
      ],
      "text/plain": [
       "              os    hardware_model  ram  speed\n",
       "0  macOS Ventura    Razer Blade 14   32    4.0\n",
       "4      Fedora 40    Razer Blade 14   64    4.0\n",
       "5   Ubuntu 22.04  Framework Laptop   32    4.5\n",
       "6      Debian 12       Dell XPS 13   32    4.0\n",
       "7      Fedora 40    MacBook Air M2   64    4.5"
      ]
     },
     "execution_count": 34,
     "metadata": {},
     "output_type": "execute_result"
    }
   ],
   "source": [
    "df_stacks.loc[(df_stacks.speed >= 3) & (df_stacks.ram >= 32)]"
   ]
  },
  {
   "cell_type": "code",
   "execution_count": 35,
   "id": "06099dcc",
   "metadata": {},
   "outputs": [
    {
     "data": {
      "text/html": [
       "<div>\n",
       "<style scoped>\n",
       "    .dataframe tbody tr th:only-of-type {\n",
       "        vertical-align: middle;\n",
       "    }\n",
       "\n",
       "    .dataframe tbody tr th {\n",
       "        vertical-align: top;\n",
       "    }\n",
       "\n",
       "    .dataframe thead th {\n",
       "        text-align: right;\n",
       "    }\n",
       "</style>\n",
       "<table border=\"1\" class=\"dataframe\">\n",
       "  <thead>\n",
       "    <tr style=\"text-align: right;\">\n",
       "      <th></th>\n",
       "      <th>os</th>\n",
       "      <th>hardware_model</th>\n",
       "      <th>ram</th>\n",
       "      <th>speed</th>\n",
       "    </tr>\n",
       "  </thead>\n",
       "  <tbody>\n",
       "    <tr>\n",
       "      <th>0</th>\n",
       "      <td>macOS Ventura</td>\n",
       "      <td>Razer Blade 14</td>\n",
       "      <td>32</td>\n",
       "      <td>4.0</td>\n",
       "    </tr>\n",
       "    <tr>\n",
       "      <th>1</th>\n",
       "      <td>Ubuntu 24.04</td>\n",
       "      <td>MacBook Air M2</td>\n",
       "      <td>16</td>\n",
       "      <td>4.5</td>\n",
       "    </tr>\n",
       "    <tr>\n",
       "      <th>2</th>\n",
       "      <td>Debian 12</td>\n",
       "      <td>Surface Laptop 5</td>\n",
       "      <td>32</td>\n",
       "      <td>2.8</td>\n",
       "    </tr>\n",
       "    <tr>\n",
       "      <th>4</th>\n",
       "      <td>Fedora 40</td>\n",
       "      <td>Razer Blade 14</td>\n",
       "      <td>64</td>\n",
       "      <td>4.0</td>\n",
       "    </tr>\n",
       "    <tr>\n",
       "      <th>5</th>\n",
       "      <td>Ubuntu 22.04</td>\n",
       "      <td>Framework Laptop</td>\n",
       "      <td>32</td>\n",
       "      <td>4.5</td>\n",
       "    </tr>\n",
       "    <tr>\n",
       "      <th>6</th>\n",
       "      <td>Debian 12</td>\n",
       "      <td>Dell XPS 13</td>\n",
       "      <td>32</td>\n",
       "      <td>4.0</td>\n",
       "    </tr>\n",
       "    <tr>\n",
       "      <th>7</th>\n",
       "      <td>Fedora 40</td>\n",
       "      <td>MacBook Air M2</td>\n",
       "      <td>64</td>\n",
       "      <td>4.5</td>\n",
       "    </tr>\n",
       "    <tr>\n",
       "      <th>9</th>\n",
       "      <td>macOS Ventura</td>\n",
       "      <td>MSI Stealth 16</td>\n",
       "      <td>64</td>\n",
       "      <td>2.8</td>\n",
       "    </tr>\n",
       "  </tbody>\n",
       "</table>\n",
       "</div>"
      ],
      "text/plain": [
       "              os    hardware_model  ram  speed\n",
       "0  macOS Ventura    Razer Blade 14   32    4.0\n",
       "1   Ubuntu 24.04    MacBook Air M2   16    4.5\n",
       "2      Debian 12  Surface Laptop 5   32    2.8\n",
       "4      Fedora 40    Razer Blade 14   64    4.0\n",
       "5   Ubuntu 22.04  Framework Laptop   32    4.5\n",
       "6      Debian 12       Dell XPS 13   32    4.0\n",
       "7      Fedora 40    MacBook Air M2   64    4.5\n",
       "9  macOS Ventura    MSI Stealth 16   64    2.8"
      ]
     },
     "execution_count": 35,
     "metadata": {},
     "output_type": "execute_result"
    }
   ],
   "source": [
    "df_stacks.loc[(df_stacks.speed >= 3) | (df_stacks.ram >= 32)]"
   ]
  },
  {
   "cell_type": "code",
   "execution_count": 37,
   "id": "93359b76",
   "metadata": {},
   "outputs": [
    {
     "data": {
      "text/html": [
       "<div>\n",
       "<style scoped>\n",
       "    .dataframe tbody tr th:only-of-type {\n",
       "        vertical-align: middle;\n",
       "    }\n",
       "\n",
       "    .dataframe tbody tr th {\n",
       "        vertical-align: top;\n",
       "    }\n",
       "\n",
       "    .dataframe thead th {\n",
       "        text-align: right;\n",
       "    }\n",
       "</style>\n",
       "<table border=\"1\" class=\"dataframe\">\n",
       "  <thead>\n",
       "    <tr style=\"text-align: right;\">\n",
       "      <th></th>\n",
       "      <th>os</th>\n",
       "      <th>hardware_model</th>\n",
       "      <th>ram</th>\n",
       "      <th>speed</th>\n",
       "    </tr>\n",
       "  </thead>\n",
       "  <tbody>\n",
       "    <tr>\n",
       "      <th>0</th>\n",
       "      <td>macOS Ventura</td>\n",
       "      <td>Razer Blade 14</td>\n",
       "      <td>32</td>\n",
       "      <td>4.0</td>\n",
       "    </tr>\n",
       "    <tr>\n",
       "      <th>1</th>\n",
       "      <td>Ubuntu 24.04</td>\n",
       "      <td>MacBook Air M2</td>\n",
       "      <td>16</td>\n",
       "      <td>4.5</td>\n",
       "    </tr>\n",
       "    <tr>\n",
       "      <th>9</th>\n",
       "      <td>macOS Ventura</td>\n",
       "      <td>MSI Stealth 16</td>\n",
       "      <td>64</td>\n",
       "      <td>2.8</td>\n",
       "    </tr>\n",
       "  </tbody>\n",
       "</table>\n",
       "</div>"
      ],
      "text/plain": [
       "              os  hardware_model  ram  speed\n",
       "0  macOS Ventura  Razer Blade 14   32    4.0\n",
       "1   Ubuntu 24.04  MacBook Air M2   16    4.5\n",
       "9  macOS Ventura  MSI Stealth 16   64    2.8"
      ]
     },
     "execution_count": 37,
     "metadata": {},
     "output_type": "execute_result"
    }
   ],
   "source": [
    "df_stacks.loc[df_stacks.os.isin(['Ubuntu 24.04', 'macOS Ventura'])]"
   ]
  },
  {
   "cell_type": "code",
   "execution_count": 52,
   "id": "e1b10557",
   "metadata": {},
   "outputs": [
    {
     "data": {
      "text/plain": [
       "0    0\n",
       "1    0\n",
       "2    0\n",
       "3    0\n",
       "4    0\n",
       "5    0\n",
       "6    0\n",
       "7    0\n",
       "8    0\n",
       "9    0\n",
       "Name: rating, dtype: int64"
      ]
     },
     "execution_count": 52,
     "metadata": {},
     "output_type": "execute_result"
    }
   ],
   "source": [
    "df_stacks['rating'] = 0\n",
    "df_stacks['rating']"
   ]
  },
  {
   "cell_type": "code",
   "execution_count": 57,
   "id": "f2dcfee9",
   "metadata": {},
   "outputs": [
    {
     "data": {
      "text/plain": [
       "0    2\n",
       "1    2\n",
       "2    1\n",
       "3    0\n",
       "4    0\n",
       "5    4\n",
       "6    0\n",
       "7    0\n",
       "8    0\n",
       "9    0\n",
       "Name: rating, dtype: int64"
      ]
     },
     "execution_count": 57,
     "metadata": {},
     "output_type": "execute_result"
    }
   ],
   "source": [
    "ratings = [0, 1, 2, 3, 4, 5]\n",
    "\n",
    "for i in df_stacks['rating']:\n",
    "    df_stacks['rating'][i] = random.choice(ratings)\n",
    "\n",
    "df_stacks['rating']"
   ]
  },
  {
   "cell_type": "code",
   "execution_count": 56,
   "id": "c40a0a2e",
   "metadata": {},
   "outputs": [
    {
     "name": "stdout",
     "output_type": "stream",
     "text": [
      "              os        hardware_model  ram  speed  rating\n",
      "0  macOS Ventura        Razer Blade 14   32    4.0       2\n",
      "1   Ubuntu 24.04        MacBook Air M2   16    4.5       2\n",
      "2      Debian 12      Surface Laptop 5   32    2.8       4\n",
      "3   macOS Sonoma  Acer Predator Helios   16    2.8       0\n",
      "4      Fedora 40        Razer Blade 14   64    4.0       5\n",
      "5   Ubuntu 22.04      Framework Laptop   32    4.5       0\n",
      "6      Debian 12           Dell XPS 13   32    4.0       0\n",
      "7      Fedora 40        MacBook Air M2   64    4.5       0\n",
      "8   Ubuntu 22.04     Asus ROG Zephyrus   16    2.4       0\n",
      "9  macOS Ventura        MSI Stealth 16   64    2.8       0\n"
     ]
    }
   ],
   "source": [
    "print(df_stacks)"
   ]
  },
  {
   "cell_type": "code",
   "execution_count": 63,
   "id": "b457921d",
   "metadata": {},
   "outputs": [
    {
     "name": "stdout",
     "output_type": "stream",
     "text": [
      "\n",
      "3.4 Boolean Indexing\n",
      "Employees in New York or London:\n",
      "    Name  Age      City  Salary Department\n",
      "0  Alice   25  New York   50000         IT\n",
      "1    Bob   30    London   60000    Finance\n"
     ]
    }
   ],
   "source": [
    "# 3.4 Boolean indexing\n",
    "print(\"\\n3.4 Boolean Indexing\")\n",
    "mask = df_employees['City'].isin(['New York', 'London'])\n",
    "print(\"Employees in New York or London:\")\n",
    "print(df_employees[mask])"
   ]
  },
  {
   "cell_type": "code",
   "execution_count": 64,
   "id": "b13f16a3",
   "metadata": {},
   "outputs": [
    {
     "name": "stdout",
     "output_type": "stream",
     "text": [
      "\n",
      "3.5 Query Method\n",
      "Query result (Age > 30 and Department == 'Finance'):\n",
      "  Name  Age    City  Salary Department\n",
      "4  Eve   32  Sydney   65000    Finance\n"
     ]
    }
   ],
   "source": [
    "# 3.5 Query method\n",
    "print(\"\\n3.5 Query Method\")\n",
    "result = df_employees.query(\"Age > 30 and Department == 'Finance'\")\n",
    "print(\"Query result (Age > 30 and Department == 'Finance'):\")\n",
    "print(result)"
   ]
  },
  {
   "cell_type": "code",
   "execution_count": null,
   "id": "f86676c2",
   "metadata": {},
   "outputs": [],
   "source": [
    "# ========================================================================\n",
    "# SECTION 4: DATA CLEANING AND PREPROCESSING\n",
    "# ========================================================================\n",
    "\n"
   ]
  }
 ],
 "metadata": {
  "kernelspec": {
   "display_name": ".venv (3.12.1)",
   "language": "python",
   "name": "python3"
  },
  "language_info": {
   "codemirror_mode": {
    "name": "ipython",
    "version": 3
   },
   "file_extension": ".py",
   "mimetype": "text/x-python",
   "name": "python",
   "nbconvert_exporter": "python",
   "pygments_lexer": "ipython3",
   "version": "3.12.1"
  }
 },
 "nbformat": 4,
 "nbformat_minor": 5
}
