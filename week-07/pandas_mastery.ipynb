{
 "cells": [
  {
   "cell_type": "markdown",
   "id": "1e61c733",
   "metadata": {},
   "source": [
    "# Pandas Mastery Notebook for Data Science & Machine Learning\n",
    "\n",
    "[![Python](https://img.shields.io/badge/Python-3.7%2B-blue.svg)](https://www.python.org/)\n",
    "[![Pandas](https://img.shields.io/badge/Pandas-Latest-green.svg)](https://pandas.pydata.org/)\n",
    "[![License](https://img.shields.io/badge/License-MIT-yellow.svg)](https://opensource.org/licenses/MIT)\n",
    "\n",
    "## 🗂️ Table of Contents\n",
    "\n",
    "| Section | Topic | Difficulty | Key Concepts |\n",
    "|---------|-------|------------|--------------|\n",
    "| [Section 1](#section-1) | Data Creation & Import/Export | Beginner | DataFrame creation, file I/O |\n",
    "| [Section 2](#section-2) | Data Exploration & Inspection | Beginner | info(), describe(), head(), tail() |\n",
    "| [Section 3](#section-3) | Data Selection & Indexing | Beginner | loc, iloc, boolean indexing |\n",
    "| [Section 4](#section-4) | Data Cleaning & Preprocessing | Intermediate | Missing values, duplicates, data types |\n",
    "| [Section 5](#section-5) | Data Transformation & Manipulation | Intermediate | New columns, sorting, ranking |\n",
    "| [Section 6](#section-6) | GroupBy Operations & Aggregations | Intermediate | groupby(), agg(), transform() |\n",
    "| [Section 7](#section-7) | Merging, Joining & Concatenating | Intermediate | merge(), join(), concat() |\n",
    "| [Section 8](#section-8) | Pivot Tables & Reshaping | Advanced | pivot_table(), melt(), stack() |\n",
    "| [Section 9](#section-9) | Time Series Analysis | Advanced | Date operations, resampling, rolling |\n",
    "| [Section 10](#section-10) | Advanced Operations | Advanced | Window functions, MultiIndex |\n",
    "| [Section 11](#section-11) | Data Visualization | Intermediate | Pandas plotting integration |\n",
    "| [Section 12](#section-12) | ML Preprocessing | Advanced | Feature engineering, scaling |\n",
    "| [Section 13](#section-13) | Performance Optimization | Expert | Memory optimization, efficient operations |\n",
    "| [Section 14](#section-14) | Common Patterns & Tricks | Expert | Advanced techniques, best practices |\n",
    "| [Section 15](#section-15) | Real-World Scenarios | Expert | Complete case studies |\n",
    "| [Section 16](#section-16) | Error Handling & Debugging | All Levels | Common errors and solutions |\n",
    "| [Section 17](#section-17) | Library Integration | Advanced | NumPy, Scikit-learn, Matplotlib |\n"
   ]
  },
  {
   "cell_type": "code",
   "execution_count": 5,
   "id": "8ad45e1b",
   "metadata": {},
   "outputs": [],
   "source": [
    "# SETUP\n",
    "\n",
    "import pandas as pd\n",
    "import numpy as np\n",
    "import matplotlib.pyplot as plt\n",
    "import seaborn as sns\n",
    "from datetime import datetime, timedelta\n",
    "import warnings\n",
    "warnings.filterwarnings('ignore')\n",
    "\n",
    "# Set display options for better output\n",
    "pd.set_option('display.max_columns', None)\n",
    "pd.set_option('display.width', None)\n",
    "pd.set_option('display.max_colwidth', 50)"
   ]
  },
  {
   "cell_type": "code",
   "execution_count": 6,
   "id": "63ef884a",
   "metadata": {},
   "outputs": [],
   "source": [
    "# BUILTIN DATASETS\n",
    "\n",
    "# Iris Dataset from sklearn\n",
    "from sklearn.datasets import load_iris\n",
    "iris_df = pd.DataFrame(load_iris().data, columns=load_iris().feature_names)\n",
    "\n",
    "# Seaborn datasets (instant access)\n",
    "import seaborn as sns\n",
    "tips_df = sns.load_dataset('tips')\n",
    "flights_df = sns.load_dataset('flights')\n",
    "titanic_df = sns.load_dataset('titanic')\n",
    "car_crashes_df = sns.load_dataset('car_crashes')\n",
    "mpg_df = sns.load_dataset('mpg')\n",
    "penguins_df = sns.load_dataset('penguins')"
   ]
  },
  {
   "cell_type": "code",
   "execution_count": 7,
   "id": "4c623c7a",
   "metadata": {},
   "outputs": [
    {
     "name": "stdout",
     "output_type": "stream",
     "text": [
      "\n",
      "1.1 Creating DataFrames\n",
      "Employee DataFrame:\n",
      "      Name  Age      City  Salary Department\n",
      "0    Alice   25  New York   50000         IT\n",
      "1      Bob   30    London   60000    Finance\n",
      "2  Charlie   35     Paris   70000         IT\n",
      "3    Diana   28     Tokyo   55000         HR\n",
      "4      Eve   32    Sydney   65000    Finance\n"
     ]
    }
   ],
   "source": [
    "# ========================================================================\n",
    "# SECTION 1: DATA CREATION AND IMPORT/EXPORT\n",
    "# ========================================================================\n",
    "\n",
    "# 1.1 Creating DataFrames from scratch\n",
    "print(\"\\n1.1 Creating DataFrames\")\n",
    "\n",
    "# Dictionary method\n",
    "data_dict = {\n",
    "    'Name': ['Alice', 'Bob', 'Charlie', 'Diana', 'Eve'],\n",
    "    'Age': [25, 30, 35, 28, 32],\n",
    "    'City': ['New York', 'London', 'Paris', 'Tokyo', 'Sydney'],\n",
    "    'Salary': [50000, 60000, 70000, 55000, 65000],\n",
    "    'Department': ['IT', 'Finance', 'IT', 'HR', 'Finance']\n",
    "}\n",
    "df_employees = pd.DataFrame(data_dict)\n",
    "print(\"Employee DataFrame:\")\n",
    "print(df_employees)"
   ]
  },
  {
   "cell_type": "code",
   "execution_count": 8,
   "id": "e8f83ffa",
   "metadata": {},
   "outputs": [
    {
     "name": "stdout",
     "output_type": "stream",
     "text": [
      "\n",
      "1.2 Creating from lists of lists\n",
      "Products DataFrame:\n",
      "     Product  Quantity  Price\n",
      "0  Product A       100  25.50\n",
      "1  Product B       150  30.00\n",
      "2  Product C        75  18.75\n",
      "3  Product D       200  45.00\n"
     ]
    }
   ],
   "source": [
    "# 1.2 Creating from lists\n",
    "print(\"\\n1.2 Creating from lists of lists\")\n",
    "data_list = [\n",
    "    ['Product A', 100, 25.50],\n",
    "    ['Product B', 150, 30.00],\n",
    "    ['Product C', 75, 18.75],\n",
    "    ['Product D', 200, 45.00]\n",
    "]\n",
    "df_products = pd.DataFrame(data_list, columns=['Product', 'Quantity', 'Price'])\n",
    "print(\"Products DataFrame:\")\n",
    "print(df_products)"
   ]
  },
  {
   "cell_type": "code",
   "execution_count": 9,
   "id": "aed9d34b",
   "metadata": {},
   "outputs": [
    {
     "name": "stdout",
     "output_type": "stream",
     "text": [
      "\n",
      "1.3 Creating Series\n",
      "Temperature Series:\n",
      "Mon    20\n",
      "Tue    25\n",
      "Wed    30\n",
      "Thu    35\n",
      "Fri    40\n",
      "Name: Temperature, dtype: int64\n"
     ]
    }
   ],
   "source": [
    "# 1.3 Creating Series\n",
    "print(\"\\n1.3 Creating Series\")\n",
    "s_temperatures = pd.Series([20, 25, 30, 35, 40], \n",
    "                          index=['Mon', 'Tue', 'Wed', 'Thu', 'Fri'],\n",
    "                          name='Temperature')\n",
    "print(\"Temperature Series:\")\n",
    "print(s_temperatures)"
   ]
  },
  {
   "cell_type": "code",
   "execution_count": 10,
   "id": "5dbf0686",
   "metadata": {},
   "outputs": [
    {
     "name": "stdout",
     "output_type": "stream",
     "text": [
      "\n",
      "1.4 Creating date ranges\n",
      "Date DataFrame:\n",
      "        Date     Value\n",
      "0 2024-01-01 -0.312965\n",
      "1 2024-01-02  0.319146\n",
      "2 2024-01-03 -1.974305\n",
      "3 2024-01-04  0.348562\n",
      "4 2024-01-05 -0.384390\n"
     ]
    }
   ],
   "source": [
    "# 1.4 Date range creation\n",
    "print(\"\\n1.4 Creating date ranges\")\n",
    "date_range = pd.date_range(start='2024-01-01', end='2024-01-10', freq='D')\n",
    "df_dates = pd.DataFrame({'Date': date_range, 'Value': np.random.randn(len(date_range))})\n",
    "print(\"Date DataFrame:\")\n",
    "print(df_dates.head())"
   ]
  },
  {
   "cell_type": "code",
   "execution_count": null,
   "id": "a2aaf203",
   "metadata": {},
   "outputs": [],
   "source": [
    "# 1.5 File operations examples (commented out - requires actual files)\n",
    "print(\"\\n1.5 File I/O Operations (Examples)\")\n",
    "print(\"\"\"\n",
    "# Reading files\n",
    "df = pd.read_csv('data.csv')\n",
    "df = pd.read_excel('data.xlsx', sheet_name='Sheet1')\n",
    "df = pd.read_json('data.json')\n",
    "df = pd.read_sql('SELECT * FROM table', connection)\n",
    "\n",
    "# Writing files\n",
    "df.to_csv('output.csv', index=False)\n",
    "df.to_excel('output.xlsx', index=False, sheet_name='Data')\n",
    "df.to_json('output.json', orient='records')\n",
    "df.to_parquet('output.parquet')\n",
    "\"\"\")"
   ]
  },
  {
   "cell_type": "code",
   "execution_count": 11,
   "id": "8547be35",
   "metadata": {},
   "outputs": [],
   "source": [
    "# Read CSV into a dataframe\n",
    "df_csv = pd.read_csv('data.csv')"
   ]
  },
  {
   "cell_type": "code",
   "execution_count": 12,
   "id": "c6622a4f",
   "metadata": {},
   "outputs": [
    {
     "name": "stdout",
     "output_type": "stream",
     "text": [
      "csv:\n",
      "    version    model   year\n",
      "0      1.4   Cicada   2011\n",
      "1      2.9     Newt   2013\n",
      "2      3.1    Oscar   2018\n"
     ]
    }
   ],
   "source": [
    "# Export to JSON\n",
    "df_csv.to_json('output.json', orient='records')\n",
    "print(\"csv:\\n\", df_csv.head())"
   ]
  },
  {
   "cell_type": "code",
   "execution_count": 13,
   "id": "10f11dd5",
   "metadata": {},
   "outputs": [
    {
     "name": "stdout",
     "output_type": "stream",
     "text": [
      "   version    model   year\n",
      "0      1.4   Cicada   2011\n",
      "1      2.9     Newt   2013\n",
      "2      3.1    Oscar   2018\n"
     ]
    }
   ],
   "source": [
    "# https://medium.com/data-engineering-with-dremio/getting-started-with-data-analytics-using-pyarrow-in-python-ac7a100bc569\n",
    "\n",
    "# Export to Parquet\n",
    "df_csv.to_parquet('output.parquet', engine='fastparquet')\n",
    "\n",
    "# Read parquet into dataframe\n",
    "df_parquet = pd.read_parquet('output.parquet', engine='fastparquet')\n",
    "print(df_parquet.head())"
   ]
  },
  {
   "cell_type": "code",
   "execution_count": 14,
   "id": "3f79b8b1",
   "metadata": {},
   "outputs": [
    {
     "name": "stdout",
     "output_type": "stream",
     "text": [
      "json:\n",
      "    version    model   year\n",
      "0      1.4   Cicada   2011\n",
      "1      2.9     Newt   2013\n",
      "2      3.1    Oscar   2018\n"
     ]
    }
   ],
   "source": [
    "# Read JSON into dataframe\n",
    "df_json = pd.read_json('output.json')\n",
    "print(\"json:\\n\", df_json.head())"
   ]
  },
  {
   "cell_type": "code",
   "execution_count": 15,
   "id": "9aef0111",
   "metadata": {},
   "outputs": [
    {
     "name": "stdout",
     "output_type": "stream",
     "text": [
      "              os        hardware_model  ram  speed\n",
      "0  macOS Ventura        Razer Blade 14   32    4.0\n",
      "1   Ubuntu 24.04        MacBook Air M2   16    4.5\n",
      "2      Debian 12      Surface Laptop 5   32    2.8\n",
      "3   macOS Sonoma  Acer Predator Helios   16    2.8\n",
      "4      Fedora 40        Razer Blade 14   64    4.0\n",
      "5   Ubuntu 22.04      Framework Laptop   32    4.5\n",
      "6      Debian 12           Dell XPS 13   32    4.0\n",
      "7      Fedora 40        MacBook Air M2   64    4.5\n",
      "8   Ubuntu 22.04     Asus ROG Zephyrus   16    2.4\n",
      "9  macOS Ventura        MSI Stealth 16   64    2.8\n"
     ]
    }
   ],
   "source": [
    "# Generate CSV file of popular operating systems and randomized hardware specs\n",
    "import random\n",
    "\n",
    "# Define headers\n",
    "headers = ['os', 'hardware_model', 'ram', 'speed']\n",
    "\n",
    "# Popular operating systems\n",
    "operating_systems = [\n",
    "    'Windows 11', 'Windows 10', 'macOS Ventura', 'macOS Sonoma', 'Ubuntu 22.04',\n",
    "    'Ubuntu 24.04', 'Fedora 40', 'Debian 12', 'Arch Linux', 'Chrome OS'\n",
    "]\n",
    "\n",
    "# Hardware model examples\n",
    "hardware_models = [\n",
    "    'Dell XPS 13', 'HP Spectre x360', 'Lenovo ThinkPad X1', 'MacBook Air M2',\n",
    "    'Asus ROG Zephyrus', 'Acer Predator Helios', 'Surface Laptop 5',\n",
    "    'Framework Laptop', 'MSI Stealth 16', 'Razer Blade 14'\n",
    "]\n",
    "\n",
    "# RAM options (in GB)\n",
    "ram_options = [8, 16, 32, 64]\n",
    "\n",
    "# Speed options (CPU clock speed in GHz)\n",
    "speed_options = [2.4, 2.8, 3.2, 3.6, 4.0, 4.5]\n",
    "\n",
    "# Generate 10 rows of random data\n",
    "os_data = {\n",
    "    'os': [random.choice(operating_systems) for _ in range(10)],\n",
    "    'hardware_model': [random.choice(hardware_models) for _ in range(10)],\n",
    "    'ram': [random.choice(ram_options) for _ in range(10)],\n",
    "    'speed': [random.choice(speed_options) for _ in range(10)]\n",
    "}\n",
    "\n",
    "# Create DataFrame\n",
    "df_stacks = pd.DataFrame(os_data, columns=headers)\n",
    "\n",
    "# Export to CSV\n",
    "df_stacks.to_csv('hardware_specs.csv', index=False)\n",
    "\n",
    "# Display the DataFrame for verification\n",
    "print(df_stacks)"
   ]
  },
  {
   "cell_type": "code",
   "execution_count": 16,
   "id": "b9a73240",
   "metadata": {},
   "outputs": [
    {
     "name": "stdout",
     "output_type": "stream",
     "text": [
      "\n",
      "2.1 Basic DataFrame Information\n",
      "Shape: (5, 5)\n",
      "Columns: ['os', 'hardware_model', 'ram', 'speed']\n",
      "Data types:\n",
      "os                 object\n",
      "hardware_model     object\n",
      "ram                 int64\n",
      "speed             float64\n",
      "dtype: object\n",
      "Memory usage:\n",
      "Index             132\n",
      "os                600\n",
      "hardware_model    640\n",
      "ram                80\n",
      "speed              80\n",
      "dtype: int64\n"
     ]
    }
   ],
   "source": [
    "# ========================================================================\n",
    "# SECTION 2: DATA EXPLORATION AND INSPECTION\n",
    "# ========================================================================\n",
    "\n",
    "# 2.1 Basic Information\n",
    "print(\"\\n2.1 Basic DataFrame Information\")\n",
    "print(f\"Shape: {df_employees.shape}\")\n",
    "print(f\"Columns: {list(df_stacks.columns)}\")\n",
    "print(f\"Data types:\\n{df_stacks.dtypes}\")\n",
    "print(f\"Memory usage:\\n{df_stacks.memory_usage(deep=True)}\")"
   ]
  },
  {
   "cell_type": "code",
   "execution_count": 17,
   "id": "7908aa4e",
   "metadata": {},
   "outputs": [
    {
     "name": "stdout",
     "output_type": "stream",
     "text": [
      "\n",
      "2.2 Statistical Summary\n",
      "             ram      speed\n",
      "count  10.000000  10.000000\n",
      "mean   36.800000   3.630000\n",
      "std    20.026649   0.834066\n",
      "min    16.000000   2.400000\n",
      "25%    20.000000   2.800000\n",
      "50%    32.000000   4.000000\n",
      "75%    56.000000   4.375000\n",
      "max    64.000000   4.500000\n",
      "\n",
      "Info about the DataFrame:\n",
      "<class 'pandas.core.frame.DataFrame'>\n",
      "RangeIndex: 10 entries, 0 to 9\n",
      "Data columns (total 4 columns):\n",
      " #   Column          Non-Null Count  Dtype  \n",
      "---  ------          --------------  -----  \n",
      " 0   os              10 non-null     object \n",
      " 1   hardware_model  10 non-null     object \n",
      " 2   ram             10 non-null     int64  \n",
      " 3   speed           10 non-null     float64\n",
      "dtypes: float64(1), int64(1), object(2)\n",
      "memory usage: 452.0+ bytes\n"
     ]
    }
   ],
   "source": [
    "# 2.2 Statistical summary\n",
    "print(\"\\n2.2 Statistical Summary\")\n",
    "print(df_stacks.describe())\n",
    "print(\"\\nInfo about the DataFrame:\")\n",
    "df_stacks.info()"
   ]
  },
  {
   "cell_type": "code",
   "execution_count": 18,
   "id": "8327026b",
   "metadata": {},
   "outputs": [
    {
     "name": "stdout",
     "output_type": "stream",
     "text": [
      "\n",
      "2.3 Viewing Data\n",
      "First 3 rows:\n",
      "              os    hardware_model  ram  speed\n",
      "0  macOS Ventura    Razer Blade 14   32    4.0\n",
      "1   Ubuntu 24.04    MacBook Air M2   16    4.5\n",
      "2      Debian 12  Surface Laptop 5   32    2.8\n",
      "\n",
      "Last 2 rows:\n",
      "              os     hardware_model  ram  speed\n",
      "8   Ubuntu 22.04  Asus ROG Zephyrus   16    2.4\n",
      "9  macOS Ventura     MSI Stealth 16   64    2.8\n",
      "\n",
      "Random sample (2 rows):\n",
      "              os  hardware_model  ram  speed\n",
      "7      Fedora 40  MacBook Air M2   64    4.5\n",
      "9  macOS Ventura  MSI Stealth 16   64    2.8\n"
     ]
    }
   ],
   "source": [
    "# 2.3 Viewing data\n",
    "print(\"\\n2.3 Viewing Data\")\n",
    "print(\"First 3 rows:\")\n",
    "print(df_stacks.head(3))\n",
    "print(\"\\nLast 2 rows:\")\n",
    "print(df_stacks.tail(2))\n",
    "print(\"\\nRandom sample (2 rows):\")\n",
    "print(df_stacks.sample(2))"
   ]
  },
  {
   "cell_type": "code",
   "execution_count": 19,
   "id": "45737dab",
   "metadata": {},
   "outputs": [
    {
     "name": "stdout",
     "output_type": "stream",
     "text": [
      "\n",
      "2.4 Unique Values and Counts\n",
      "Unique hardware: ['Razer Blade 14' 'MacBook Air M2' 'Surface Laptop 5'\n",
      " 'Acer Predator Helios' 'Framework Laptop' 'Dell XPS 13'\n",
      " 'Asus ROG Zephyrus' 'MSI Stealth 16']\n",
      "Ram counts:\n",
      "ram\n",
      "32    4\n",
      "16    3\n",
      "64    3\n",
      "Name: count, dtype: int64\n",
      "Number of unique operating systems: 6\n"
     ]
    }
   ],
   "source": [
    "# 2.4 Unique values and counts\n",
    "print(\"\\n2.4 Unique Values and Counts\")\n",
    "print(f\"Unique hardware: {df_stacks['hardware_model'].unique()}\")\n",
    "print(f\"Ram counts:\\n{df_stacks['ram'].value_counts()}\")\n",
    "print(f\"Number of unique operating systems: {df_stacks['os'].nunique()}\")"
   ]
  },
  {
   "cell_type": "code",
   "execution_count": 58,
   "id": "b415048a",
   "metadata": {},
   "outputs": [
    {
     "name": "stdout",
     "output_type": "stream",
     "text": [
      "\n",
      "3.1 Column Selection\n",
      "Single column (Series):\n",
      "0          Razer Blade 14\n",
      "1          MacBook Air M2\n",
      "2        Surface Laptop 5\n",
      "3    Acer Predator Helios\n",
      "4          Razer Blade 14\n",
      "5        Framework Laptop\n",
      "6             Dell XPS 13\n",
      "7          MacBook Air M2\n",
      "8       Asus ROG Zephyrus\n",
      "9          MSI Stealth 16\n",
      "Name: hardware_model, dtype: object\n",
      "\n",
      "Multiple columns (DataFrame):\n",
      "              os  ram\n",
      "0  macOS Ventura   32\n",
      "1   Ubuntu 24.04   16\n",
      "2      Debian 12   32\n",
      "3   macOS Sonoma   16\n",
      "4      Fedora 40   64\n",
      "5   Ubuntu 22.04   32\n",
      "6      Debian 12   32\n",
      "7      Fedora 40   64\n",
      "8   Ubuntu 22.04   16\n",
      "9  macOS Ventura   64\n"
     ]
    }
   ],
   "source": [
    "# ========================================================================\n",
    "# SECTION 3: DATA SELECTION AND INDEXING\n",
    "# ========================================================================\n",
    "\n",
    "# 3.1 Column selection\n",
    "print(\"\\n3.1 Column Selection\")\n",
    "print(\"Single column (Series):\")\n",
    "print(df_stacks['hardware_model'])\n",
    "print(\"\\nMultiple columns (DataFrame):\")\n",
    "print(df_stacks[['os', 'ram']])"
   ]
  },
  {
   "cell_type": "code",
   "execution_count": 25,
   "id": "53981d95",
   "metadata": {},
   "outputs": [
    {
     "data": {
      "text/plain": [
       "0    32\n",
       "1    16\n",
       "2    32\n",
       "3    16\n",
       "4    64\n",
       "5    32\n",
       "6    32\n",
       "7    64\n",
       "8    16\n",
       "9    64\n",
       "Name: ram, dtype: int64"
      ]
     },
     "execution_count": 25,
     "metadata": {},
     "output_type": "execute_result"
    }
   ],
   "source": [
    "df_stacks.ram"
   ]
  },
  {
   "cell_type": "code",
   "execution_count": 59,
   "id": "95916779",
   "metadata": {},
   "outputs": [
    {
     "name": "stdout",
     "output_type": "stream",
     "text": [
      "\n",
      "3.2 Row Selection\n",
      "Row by index (iloc):\n",
      "os                 macOS Ventura\n",
      "hardware_model    Razer Blade 14\n",
      "ram                           32\n",
      "speed                        4.0\n",
      "rating                         2\n",
      "Name: 0, dtype: object\n",
      "\n",
      "Multiple rows by index:\n",
      "             os        hardware_model  ram  speed  rating\n",
      "1  Ubuntu 24.04        MacBook Air M2   16    4.5       2\n",
      "2     Debian 12      Surface Laptop 5   32    2.8       1\n",
      "3  macOS Sonoma  Acer Predator Helios   16    2.8       0\n",
      "\n",
      "Row by label (loc):\n",
      "os                       Debian 12\n",
      "hardware_model    Surface Laptop 5\n",
      "ram                             32\n",
      "speed                          2.8\n",
      "rating                           1\n",
      "Name: 2, dtype: object\n"
     ]
    }
   ],
   "source": [
    "# 3.2 Row selection\n",
    "print(\"\\n3.2 Row Selection\")\n",
    "print(\"Row by index (iloc):\")\n",
    "print(df_stacks.iloc[0])\n",
    "print(\"\\nMultiple rows by index:\")\n",
    "print(df_stacks.iloc[1:4])\n",
    "print(\"\\nRow by label (loc):\")\n",
    "print(df_stacks.loc[2])"
   ]
  },
  {
   "cell_type": "code",
   "execution_count": 24,
   "id": "9e180b99",
   "metadata": {},
   "outputs": [
    {
     "data": {
      "text/plain": [
       "'Ubuntu 24.04'"
      ]
     },
     "execution_count": 24,
     "metadata": {},
     "output_type": "execute_result"
    }
   ],
   "source": [
    "df_stacks['os'][1]"
   ]
  },
  {
   "cell_type": "code",
   "execution_count": 26,
   "id": "7f5dcb18",
   "metadata": {},
   "outputs": [
    {
     "data": {
      "text/plain": [
       "os                 macOS Ventura\n",
       "hardware_model    Razer Blade 14\n",
       "ram                           32\n",
       "speed                        4.0\n",
       "Name: 0, dtype: object"
      ]
     },
     "execution_count": 26,
     "metadata": {},
     "output_type": "execute_result"
    }
   ],
   "source": [
    "df_stacks.iloc[0]"
   ]
  },
  {
   "cell_type": "code",
   "execution_count": 27,
   "id": "58f3ac77",
   "metadata": {},
   "outputs": [
    {
     "data": {
      "text/plain": [
       "0    macOS Ventura\n",
       "1     Ubuntu 24.04\n",
       "2        Debian 12\n",
       "3     macOS Sonoma\n",
       "4        Fedora 40\n",
       "5     Ubuntu 22.04\n",
       "6        Debian 12\n",
       "7        Fedora 40\n",
       "8     Ubuntu 22.04\n",
       "9    macOS Ventura\n",
       "Name: os, dtype: object"
      ]
     },
     "execution_count": 27,
     "metadata": {},
     "output_type": "execute_result"
    }
   ],
   "source": [
    "df_stacks.iloc[:, 0]"
   ]
  },
  {
   "cell_type": "code",
   "execution_count": 28,
   "id": "e25cad3e",
   "metadata": {},
   "outputs": [
    {
     "data": {
      "text/plain": [
       "0    macOS Ventura\n",
       "1     Ubuntu 24.04\n",
       "2        Debian 12\n",
       "Name: os, dtype: object"
      ]
     },
     "execution_count": 28,
     "metadata": {},
     "output_type": "execute_result"
    }
   ],
   "source": [
    "df_stacks.iloc[:3, 0]"
   ]
  },
  {
   "cell_type": "code",
   "execution_count": 29,
   "id": "059e8895",
   "metadata": {},
   "outputs": [
    {
     "data": {
      "text/plain": [
       "1    Ubuntu 24.04\n",
       "2       Debian 12\n",
       "Name: os, dtype: object"
      ]
     },
     "execution_count": 29,
     "metadata": {},
     "output_type": "execute_result"
    }
   ],
   "source": [
    "df_stacks.iloc[1:3, 0]"
   ]
  },
  {
   "cell_type": "code",
   "execution_count": 30,
   "id": "70ff0833",
   "metadata": {},
   "outputs": [
    {
     "data": {
      "text/html": [
       "<div>\n",
       "<style scoped>\n",
       "    .dataframe tbody tr th:only-of-type {\n",
       "        vertical-align: middle;\n",
       "    }\n",
       "\n",
       "    .dataframe tbody tr th {\n",
       "        vertical-align: top;\n",
       "    }\n",
       "\n",
       "    .dataframe thead th {\n",
       "        text-align: right;\n",
       "    }\n",
       "</style>\n",
       "<table border=\"1\" class=\"dataframe\">\n",
       "  <thead>\n",
       "    <tr style=\"text-align: right;\">\n",
       "      <th></th>\n",
       "      <th>os</th>\n",
       "      <th>hardware_model</th>\n",
       "      <th>ram</th>\n",
       "      <th>speed</th>\n",
       "    </tr>\n",
       "  </thead>\n",
       "  <tbody>\n",
       "    <tr>\n",
       "      <th>5</th>\n",
       "      <td>Ubuntu 22.04</td>\n",
       "      <td>Framework Laptop</td>\n",
       "      <td>32</td>\n",
       "      <td>4.5</td>\n",
       "    </tr>\n",
       "    <tr>\n",
       "      <th>6</th>\n",
       "      <td>Debian 12</td>\n",
       "      <td>Dell XPS 13</td>\n",
       "      <td>32</td>\n",
       "      <td>4.0</td>\n",
       "    </tr>\n",
       "    <tr>\n",
       "      <th>7</th>\n",
       "      <td>Fedora 40</td>\n",
       "      <td>MacBook Air M2</td>\n",
       "      <td>64</td>\n",
       "      <td>4.5</td>\n",
       "    </tr>\n",
       "    <tr>\n",
       "      <th>8</th>\n",
       "      <td>Ubuntu 22.04</td>\n",
       "      <td>Asus ROG Zephyrus</td>\n",
       "      <td>16</td>\n",
       "      <td>2.4</td>\n",
       "    </tr>\n",
       "    <tr>\n",
       "      <th>9</th>\n",
       "      <td>macOS Ventura</td>\n",
       "      <td>MSI Stealth 16</td>\n",
       "      <td>64</td>\n",
       "      <td>2.8</td>\n",
       "    </tr>\n",
       "  </tbody>\n",
       "</table>\n",
       "</div>"
      ],
      "text/plain": [
       "              os     hardware_model  ram  speed\n",
       "5   Ubuntu 22.04   Framework Laptop   32    4.5\n",
       "6      Debian 12        Dell XPS 13   32    4.0\n",
       "7      Fedora 40     MacBook Air M2   64    4.5\n",
       "8   Ubuntu 22.04  Asus ROG Zephyrus   16    2.4\n",
       "9  macOS Ventura     MSI Stealth 16   64    2.8"
      ]
     },
     "execution_count": 30,
     "metadata": {},
     "output_type": "execute_result"
    }
   ],
   "source": [
    "df_stacks.iloc[-5:]"
   ]
  },
  {
   "cell_type": "code",
   "execution_count": 61,
   "id": "b01342e7",
   "metadata": {},
   "outputs": [
    {
     "name": "stdout",
     "output_type": "stream",
     "text": [
      "\n",
      "3.3 Conditional Selection\n",
      "Setups with RAM >= 32GB:\n",
      "              os    hardware_model  ram  speed  rating\n",
      "0  macOS Ventura    Razer Blade 14   32    4.0       2\n",
      "2      Debian 12  Surface Laptop 5   32    2.8       1\n",
      "4      Fedora 40    Razer Blade 14   64    4.0       0\n",
      "5   Ubuntu 22.04  Framework Laptop   32    4.5       4\n",
      "6      Debian 12       Dell XPS 13   32    4.0       0\n",
      "7      Fedora 40    MacBook Air M2   64    4.5       0\n",
      "9  macOS Ventura    MSI Stealth 16   64    2.8       0\n",
      "\n",
      "Show CPUs:\n",
      "             os        hardware_model  ram  speed  rating\n",
      "1  Ubuntu 24.04        MacBook Air M2   16    4.5       2\n",
      "3  macOS Sonoma  Acer Predator Helios   16    2.8       0\n",
      "8  Ubuntu 22.04     Asus ROG Zephyrus   16    2.4       0\n"
     ]
    }
   ],
   "source": [
    "# 3.3 Conditional selection\n",
    "print(\"\\n3.3 Conditional Selection\")\n",
    "high_memory = df_stacks[df_stacks['ram'] >= 32]\n",
    "print(\"Setups with RAM >= 32GB:\")\n",
    "print(high_memory)\n",
    "\n",
    "slow_cpus = df_stacks[df_stacks['ram'] <= 16]\n",
    "print(\"\\nShow CPUs:\")\n",
    "print(slow_cpus)"
   ]
  },
  {
   "cell_type": "code",
   "execution_count": 62,
   "id": "cde7ae41",
   "metadata": {},
   "outputs": [
    {
     "name": "stdout",
     "output_type": "stream",
     "text": [
      "\n",
      "Young high earners (Age < 30 AND Salary > 50000):\n",
      "    Name  Age   City  Salary Department\n",
      "3  Diana   28  Tokyo   55000         HR\n"
     ]
    }
   ],
   "source": [
    "# Multiple conditions\n",
    "young_high_earners = df_employees[(df_employees['Age'] < 30) & (df_employees['Salary'] > 50000)]\n",
    "print(\"\\nYoung high earners (Age < 30 AND Salary > 50000):\")\n",
    "print(young_high_earners)"
   ]
  },
  {
   "cell_type": "code",
   "execution_count": 31,
   "id": "20803427",
   "metadata": {},
   "outputs": [
    {
     "data": {
      "text/html": [
       "<div>\n",
       "<style scoped>\n",
       "    .dataframe tbody tr th:only-of-type {\n",
       "        vertical-align: middle;\n",
       "    }\n",
       "\n",
       "    .dataframe tbody tr th {\n",
       "        vertical-align: top;\n",
       "    }\n",
       "\n",
       "    .dataframe thead th {\n",
       "        text-align: right;\n",
       "    }\n",
       "</style>\n",
       "<table border=\"1\" class=\"dataframe\">\n",
       "  <thead>\n",
       "    <tr style=\"text-align: right;\">\n",
       "      <th></th>\n",
       "      <th>ram</th>\n",
       "      <th>speed</th>\n",
       "    </tr>\n",
       "  </thead>\n",
       "  <tbody>\n",
       "    <tr>\n",
       "      <th>0</th>\n",
       "      <td>32</td>\n",
       "      <td>4.0</td>\n",
       "    </tr>\n",
       "    <tr>\n",
       "      <th>1</th>\n",
       "      <td>16</td>\n",
       "      <td>4.5</td>\n",
       "    </tr>\n",
       "    <tr>\n",
       "      <th>2</th>\n",
       "      <td>32</td>\n",
       "      <td>2.8</td>\n",
       "    </tr>\n",
       "    <tr>\n",
       "      <th>3</th>\n",
       "      <td>16</td>\n",
       "      <td>2.8</td>\n",
       "    </tr>\n",
       "    <tr>\n",
       "      <th>4</th>\n",
       "      <td>64</td>\n",
       "      <td>4.0</td>\n",
       "    </tr>\n",
       "    <tr>\n",
       "      <th>5</th>\n",
       "      <td>32</td>\n",
       "      <td>4.5</td>\n",
       "    </tr>\n",
       "    <tr>\n",
       "      <th>6</th>\n",
       "      <td>32</td>\n",
       "      <td>4.0</td>\n",
       "    </tr>\n",
       "    <tr>\n",
       "      <th>7</th>\n",
       "      <td>64</td>\n",
       "      <td>4.5</td>\n",
       "    </tr>\n",
       "    <tr>\n",
       "      <th>8</th>\n",
       "      <td>16</td>\n",
       "      <td>2.4</td>\n",
       "    </tr>\n",
       "    <tr>\n",
       "      <th>9</th>\n",
       "      <td>64</td>\n",
       "      <td>2.8</td>\n",
       "    </tr>\n",
       "  </tbody>\n",
       "</table>\n",
       "</div>"
      ],
      "text/plain": [
       "   ram  speed\n",
       "0   32    4.0\n",
       "1   16    4.5\n",
       "2   32    2.8\n",
       "3   16    2.8\n",
       "4   64    4.0\n",
       "5   32    4.5\n",
       "6   32    4.0\n",
       "7   64    4.5\n",
       "8   16    2.4\n",
       "9   64    2.8"
      ]
     },
     "execution_count": 31,
     "metadata": {},
     "output_type": "execute_result"
    }
   ],
   "source": [
    "df_stacks.loc[:, ['ram', 'speed']]"
   ]
  },
  {
   "cell_type": "code",
   "execution_count": 32,
   "id": "ea2c3253",
   "metadata": {},
   "outputs": [
    {
     "data": {
      "text/plain": [
       "0     True\n",
       "1     True\n",
       "2    False\n",
       "3    False\n",
       "4     True\n",
       "5     True\n",
       "6     True\n",
       "7     True\n",
       "8    False\n",
       "9    False\n",
       "Name: speed, dtype: bool"
      ]
     },
     "execution_count": 32,
     "metadata": {},
     "output_type": "execute_result"
    }
   ],
   "source": [
    "df_stacks.speed >= 3"
   ]
  },
  {
   "cell_type": "code",
   "execution_count": 33,
   "id": "c656e51b",
   "metadata": {},
   "outputs": [
    {
     "data": {
      "text/html": [
       "<div>\n",
       "<style scoped>\n",
       "    .dataframe tbody tr th:only-of-type {\n",
       "        vertical-align: middle;\n",
       "    }\n",
       "\n",
       "    .dataframe tbody tr th {\n",
       "        vertical-align: top;\n",
       "    }\n",
       "\n",
       "    .dataframe thead th {\n",
       "        text-align: right;\n",
       "    }\n",
       "</style>\n",
       "<table border=\"1\" class=\"dataframe\">\n",
       "  <thead>\n",
       "    <tr style=\"text-align: right;\">\n",
       "      <th></th>\n",
       "      <th>os</th>\n",
       "      <th>hardware_model</th>\n",
       "      <th>ram</th>\n",
       "      <th>speed</th>\n",
       "    </tr>\n",
       "  </thead>\n",
       "  <tbody>\n",
       "    <tr>\n",
       "      <th>0</th>\n",
       "      <td>macOS Ventura</td>\n",
       "      <td>Razer Blade 14</td>\n",
       "      <td>32</td>\n",
       "      <td>4.0</td>\n",
       "    </tr>\n",
       "    <tr>\n",
       "      <th>1</th>\n",
       "      <td>Ubuntu 24.04</td>\n",
       "      <td>MacBook Air M2</td>\n",
       "      <td>16</td>\n",
       "      <td>4.5</td>\n",
       "    </tr>\n",
       "    <tr>\n",
       "      <th>4</th>\n",
       "      <td>Fedora 40</td>\n",
       "      <td>Razer Blade 14</td>\n",
       "      <td>64</td>\n",
       "      <td>4.0</td>\n",
       "    </tr>\n",
       "    <tr>\n",
       "      <th>5</th>\n",
       "      <td>Ubuntu 22.04</td>\n",
       "      <td>Framework Laptop</td>\n",
       "      <td>32</td>\n",
       "      <td>4.5</td>\n",
       "    </tr>\n",
       "    <tr>\n",
       "      <th>6</th>\n",
       "      <td>Debian 12</td>\n",
       "      <td>Dell XPS 13</td>\n",
       "      <td>32</td>\n",
       "      <td>4.0</td>\n",
       "    </tr>\n",
       "    <tr>\n",
       "      <th>7</th>\n",
       "      <td>Fedora 40</td>\n",
       "      <td>MacBook Air M2</td>\n",
       "      <td>64</td>\n",
       "      <td>4.5</td>\n",
       "    </tr>\n",
       "  </tbody>\n",
       "</table>\n",
       "</div>"
      ],
      "text/plain": [
       "              os    hardware_model  ram  speed\n",
       "0  macOS Ventura    Razer Blade 14   32    4.0\n",
       "1   Ubuntu 24.04    MacBook Air M2   16    4.5\n",
       "4      Fedora 40    Razer Blade 14   64    4.0\n",
       "5   Ubuntu 22.04  Framework Laptop   32    4.5\n",
       "6      Debian 12       Dell XPS 13   32    4.0\n",
       "7      Fedora 40    MacBook Air M2   64    4.5"
      ]
     },
     "execution_count": 33,
     "metadata": {},
     "output_type": "execute_result"
    }
   ],
   "source": [
    "df_stacks.loc[df_stacks.speed >= 3]"
   ]
  },
  {
   "cell_type": "code",
   "execution_count": 34,
   "id": "8631653f",
   "metadata": {},
   "outputs": [
    {
     "data": {
      "text/html": [
       "<div>\n",
       "<style scoped>\n",
       "    .dataframe tbody tr th:only-of-type {\n",
       "        vertical-align: middle;\n",
       "    }\n",
       "\n",
       "    .dataframe tbody tr th {\n",
       "        vertical-align: top;\n",
       "    }\n",
       "\n",
       "    .dataframe thead th {\n",
       "        text-align: right;\n",
       "    }\n",
       "</style>\n",
       "<table border=\"1\" class=\"dataframe\">\n",
       "  <thead>\n",
       "    <tr style=\"text-align: right;\">\n",
       "      <th></th>\n",
       "      <th>os</th>\n",
       "      <th>hardware_model</th>\n",
       "      <th>ram</th>\n",
       "      <th>speed</th>\n",
       "    </tr>\n",
       "  </thead>\n",
       "  <tbody>\n",
       "    <tr>\n",
       "      <th>0</th>\n",
       "      <td>macOS Ventura</td>\n",
       "      <td>Razer Blade 14</td>\n",
       "      <td>32</td>\n",
       "      <td>4.0</td>\n",
       "    </tr>\n",
       "    <tr>\n",
       "      <th>4</th>\n",
       "      <td>Fedora 40</td>\n",
       "      <td>Razer Blade 14</td>\n",
       "      <td>64</td>\n",
       "      <td>4.0</td>\n",
       "    </tr>\n",
       "    <tr>\n",
       "      <th>5</th>\n",
       "      <td>Ubuntu 22.04</td>\n",
       "      <td>Framework Laptop</td>\n",
       "      <td>32</td>\n",
       "      <td>4.5</td>\n",
       "    </tr>\n",
       "    <tr>\n",
       "      <th>6</th>\n",
       "      <td>Debian 12</td>\n",
       "      <td>Dell XPS 13</td>\n",
       "      <td>32</td>\n",
       "      <td>4.0</td>\n",
       "    </tr>\n",
       "    <tr>\n",
       "      <th>7</th>\n",
       "      <td>Fedora 40</td>\n",
       "      <td>MacBook Air M2</td>\n",
       "      <td>64</td>\n",
       "      <td>4.5</td>\n",
       "    </tr>\n",
       "  </tbody>\n",
       "</table>\n",
       "</div>"
      ],
      "text/plain": [
       "              os    hardware_model  ram  speed\n",
       "0  macOS Ventura    Razer Blade 14   32    4.0\n",
       "4      Fedora 40    Razer Blade 14   64    4.0\n",
       "5   Ubuntu 22.04  Framework Laptop   32    4.5\n",
       "6      Debian 12       Dell XPS 13   32    4.0\n",
       "7      Fedora 40    MacBook Air M2   64    4.5"
      ]
     },
     "execution_count": 34,
     "metadata": {},
     "output_type": "execute_result"
    }
   ],
   "source": [
    "df_stacks.loc[(df_stacks.speed >= 3) & (df_stacks.ram >= 32)]"
   ]
  },
  {
   "cell_type": "code",
   "execution_count": 35,
   "id": "06099dcc",
   "metadata": {},
   "outputs": [
    {
     "data": {
      "text/html": [
       "<div>\n",
       "<style scoped>\n",
       "    .dataframe tbody tr th:only-of-type {\n",
       "        vertical-align: middle;\n",
       "    }\n",
       "\n",
       "    .dataframe tbody tr th {\n",
       "        vertical-align: top;\n",
       "    }\n",
       "\n",
       "    .dataframe thead th {\n",
       "        text-align: right;\n",
       "    }\n",
       "</style>\n",
       "<table border=\"1\" class=\"dataframe\">\n",
       "  <thead>\n",
       "    <tr style=\"text-align: right;\">\n",
       "      <th></th>\n",
       "      <th>os</th>\n",
       "      <th>hardware_model</th>\n",
       "      <th>ram</th>\n",
       "      <th>speed</th>\n",
       "    </tr>\n",
       "  </thead>\n",
       "  <tbody>\n",
       "    <tr>\n",
       "      <th>0</th>\n",
       "      <td>macOS Ventura</td>\n",
       "      <td>Razer Blade 14</td>\n",
       "      <td>32</td>\n",
       "      <td>4.0</td>\n",
       "    </tr>\n",
       "    <tr>\n",
       "      <th>1</th>\n",
       "      <td>Ubuntu 24.04</td>\n",
       "      <td>MacBook Air M2</td>\n",
       "      <td>16</td>\n",
       "      <td>4.5</td>\n",
       "    </tr>\n",
       "    <tr>\n",
       "      <th>2</th>\n",
       "      <td>Debian 12</td>\n",
       "      <td>Surface Laptop 5</td>\n",
       "      <td>32</td>\n",
       "      <td>2.8</td>\n",
       "    </tr>\n",
       "    <tr>\n",
       "      <th>4</th>\n",
       "      <td>Fedora 40</td>\n",
       "      <td>Razer Blade 14</td>\n",
       "      <td>64</td>\n",
       "      <td>4.0</td>\n",
       "    </tr>\n",
       "    <tr>\n",
       "      <th>5</th>\n",
       "      <td>Ubuntu 22.04</td>\n",
       "      <td>Framework Laptop</td>\n",
       "      <td>32</td>\n",
       "      <td>4.5</td>\n",
       "    </tr>\n",
       "    <tr>\n",
       "      <th>6</th>\n",
       "      <td>Debian 12</td>\n",
       "      <td>Dell XPS 13</td>\n",
       "      <td>32</td>\n",
       "      <td>4.0</td>\n",
       "    </tr>\n",
       "    <tr>\n",
       "      <th>7</th>\n",
       "      <td>Fedora 40</td>\n",
       "      <td>MacBook Air M2</td>\n",
       "      <td>64</td>\n",
       "      <td>4.5</td>\n",
       "    </tr>\n",
       "    <tr>\n",
       "      <th>9</th>\n",
       "      <td>macOS Ventura</td>\n",
       "      <td>MSI Stealth 16</td>\n",
       "      <td>64</td>\n",
       "      <td>2.8</td>\n",
       "    </tr>\n",
       "  </tbody>\n",
       "</table>\n",
       "</div>"
      ],
      "text/plain": [
       "              os    hardware_model  ram  speed\n",
       "0  macOS Ventura    Razer Blade 14   32    4.0\n",
       "1   Ubuntu 24.04    MacBook Air M2   16    4.5\n",
       "2      Debian 12  Surface Laptop 5   32    2.8\n",
       "4      Fedora 40    Razer Blade 14   64    4.0\n",
       "5   Ubuntu 22.04  Framework Laptop   32    4.5\n",
       "6      Debian 12       Dell XPS 13   32    4.0\n",
       "7      Fedora 40    MacBook Air M2   64    4.5\n",
       "9  macOS Ventura    MSI Stealth 16   64    2.8"
      ]
     },
     "execution_count": 35,
     "metadata": {},
     "output_type": "execute_result"
    }
   ],
   "source": [
    "df_stacks.loc[(df_stacks.speed >= 3) | (df_stacks.ram >= 32)]"
   ]
  },
  {
   "cell_type": "code",
   "execution_count": 37,
   "id": "93359b76",
   "metadata": {},
   "outputs": [
    {
     "data": {
      "text/html": [
       "<div>\n",
       "<style scoped>\n",
       "    .dataframe tbody tr th:only-of-type {\n",
       "        vertical-align: middle;\n",
       "    }\n",
       "\n",
       "    .dataframe tbody tr th {\n",
       "        vertical-align: top;\n",
       "    }\n",
       "\n",
       "    .dataframe thead th {\n",
       "        text-align: right;\n",
       "    }\n",
       "</style>\n",
       "<table border=\"1\" class=\"dataframe\">\n",
       "  <thead>\n",
       "    <tr style=\"text-align: right;\">\n",
       "      <th></th>\n",
       "      <th>os</th>\n",
       "      <th>hardware_model</th>\n",
       "      <th>ram</th>\n",
       "      <th>speed</th>\n",
       "    </tr>\n",
       "  </thead>\n",
       "  <tbody>\n",
       "    <tr>\n",
       "      <th>0</th>\n",
       "      <td>macOS Ventura</td>\n",
       "      <td>Razer Blade 14</td>\n",
       "      <td>32</td>\n",
       "      <td>4.0</td>\n",
       "    </tr>\n",
       "    <tr>\n",
       "      <th>1</th>\n",
       "      <td>Ubuntu 24.04</td>\n",
       "      <td>MacBook Air M2</td>\n",
       "      <td>16</td>\n",
       "      <td>4.5</td>\n",
       "    </tr>\n",
       "    <tr>\n",
       "      <th>9</th>\n",
       "      <td>macOS Ventura</td>\n",
       "      <td>MSI Stealth 16</td>\n",
       "      <td>64</td>\n",
       "      <td>2.8</td>\n",
       "    </tr>\n",
       "  </tbody>\n",
       "</table>\n",
       "</div>"
      ],
      "text/plain": [
       "              os  hardware_model  ram  speed\n",
       "0  macOS Ventura  Razer Blade 14   32    4.0\n",
       "1   Ubuntu 24.04  MacBook Air M2   16    4.5\n",
       "9  macOS Ventura  MSI Stealth 16   64    2.8"
      ]
     },
     "execution_count": 37,
     "metadata": {},
     "output_type": "execute_result"
    }
   ],
   "source": [
    "df_stacks.loc[df_stacks.os.isin(['Ubuntu 24.04', 'macOS Ventura'])]"
   ]
  },
  {
   "cell_type": "code",
   "execution_count": 52,
   "id": "e1b10557",
   "metadata": {},
   "outputs": [
    {
     "data": {
      "text/plain": [
       "0    0\n",
       "1    0\n",
       "2    0\n",
       "3    0\n",
       "4    0\n",
       "5    0\n",
       "6    0\n",
       "7    0\n",
       "8    0\n",
       "9    0\n",
       "Name: rating, dtype: int64"
      ]
     },
     "execution_count": 52,
     "metadata": {},
     "output_type": "execute_result"
    }
   ],
   "source": [
    "df_stacks['rating'] = 0\n",
    "df_stacks['rating']"
   ]
  },
  {
   "cell_type": "code",
   "execution_count": 57,
   "id": "f2dcfee9",
   "metadata": {},
   "outputs": [
    {
     "data": {
      "text/plain": [
       "0    2\n",
       "1    2\n",
       "2    1\n",
       "3    0\n",
       "4    0\n",
       "5    4\n",
       "6    0\n",
       "7    0\n",
       "8    0\n",
       "9    0\n",
       "Name: rating, dtype: int64"
      ]
     },
     "execution_count": 57,
     "metadata": {},
     "output_type": "execute_result"
    }
   ],
   "source": [
    "ratings = [0, 1, 2, 3, 4, 5]\n",
    "\n",
    "for i in df_stacks['rating']:\n",
    "    df_stacks['rating'][i] = random.choice(ratings)\n",
    "\n",
    "df_stacks['rating']"
   ]
  },
  {
   "cell_type": "code",
   "execution_count": 56,
   "id": "c40a0a2e",
   "metadata": {},
   "outputs": [
    {
     "name": "stdout",
     "output_type": "stream",
     "text": [
      "              os        hardware_model  ram  speed  rating\n",
      "0  macOS Ventura        Razer Blade 14   32    4.0       2\n",
      "1   Ubuntu 24.04        MacBook Air M2   16    4.5       2\n",
      "2      Debian 12      Surface Laptop 5   32    2.8       4\n",
      "3   macOS Sonoma  Acer Predator Helios   16    2.8       0\n",
      "4      Fedora 40        Razer Blade 14   64    4.0       5\n",
      "5   Ubuntu 22.04      Framework Laptop   32    4.5       0\n",
      "6      Debian 12           Dell XPS 13   32    4.0       0\n",
      "7      Fedora 40        MacBook Air M2   64    4.5       0\n",
      "8   Ubuntu 22.04     Asus ROG Zephyrus   16    2.4       0\n",
      "9  macOS Ventura        MSI Stealth 16   64    2.8       0\n"
     ]
    }
   ],
   "source": [
    "print(df_stacks)"
   ]
  },
  {
   "cell_type": "code",
   "execution_count": 63,
   "id": "b457921d",
   "metadata": {},
   "outputs": [
    {
     "name": "stdout",
     "output_type": "stream",
     "text": [
      "\n",
      "3.4 Boolean Indexing\n",
      "Employees in New York or London:\n",
      "    Name  Age      City  Salary Department\n",
      "0  Alice   25  New York   50000         IT\n",
      "1    Bob   30    London   60000    Finance\n"
     ]
    }
   ],
   "source": [
    "# 3.4 Boolean indexing\n",
    "print(\"\\n3.4 Boolean Indexing\")\n",
    "mask = df_employees['City'].isin(['New York', 'London'])\n",
    "print(\"Employees in New York or London:\")\n",
    "print(df_employees[mask])"
   ]
  },
  {
   "cell_type": "code",
   "execution_count": 64,
   "id": "b13f16a3",
   "metadata": {},
   "outputs": [
    {
     "name": "stdout",
     "output_type": "stream",
     "text": [
      "\n",
      "3.5 Query Method\n",
      "Query result (Age > 30 and Department == 'Finance'):\n",
      "  Name  Age    City  Salary Department\n",
      "4  Eve   32  Sydney   65000    Finance\n"
     ]
    }
   ],
   "source": [
    "# 3.5 Query method\n",
    "print(\"\\n3.5 Query Method\")\n",
    "result = df_employees.query(\"Age > 30 and Department == 'Finance'\")\n",
    "print(\"Query result (Age > 30 and Department == 'Finance'):\")\n",
    "print(result)"
   ]
  },
  {
   "cell_type": "code",
   "execution_count": 65,
   "id": "f86676c2",
   "metadata": {},
   "outputs": [
    {
     "name": "stdout",
     "output_type": "stream",
     "text": [
      "\n",
      "4.1 Handling Missing Values\n",
      "DataFrame with missing values:\n",
      "     A    B    C  D\n",
      "0  1.0  NaN  1.0  a\n",
      "1  2.0  2.0  2.0  b\n",
      "2  NaN  3.0  3.0  c\n",
      "3  4.0  4.0  NaN  d\n",
      "4  5.0  NaN  5.0  e\n"
     ]
    }
   ],
   "source": [
    "# ========================================================================\n",
    "# SECTION 4: DATA CLEANING AND PREPROCESSING\n",
    "# ========================================================================\n",
    "\n",
    "# 4.1 Creating sample data with missing values\n",
    "print(\"\\n4.1 Handling Missing Values\")\n",
    "df_dirty = pd.DataFrame({\n",
    "    'A': [1, 2, np.nan, 4, 5],\n",
    "    'B': [np.nan, 2, 3, 4, np.nan],\n",
    "    'C': [1, 2, 3, np.nan, 5],\n",
    "    'D': ['a', 'b', 'c', 'd', 'e']\n",
    "})\n",
    "print(\"DataFrame with missing values:\")\n",
    "print(df_dirty)"
   ]
  },
  {
   "cell_type": "code",
   "execution_count": 66,
   "id": "691c1364",
   "metadata": {},
   "outputs": [
    {
     "name": "stdout",
     "output_type": "stream",
     "text": [
      "\n",
      "Missing values count:\n",
      "A    1\n",
      "B    2\n",
      "C    1\n",
      "D    0\n",
      "dtype: int64\n",
      "Total missing values: 4\n"
     ]
    }
   ],
   "source": [
    "# Check for missing values\n",
    "print(f\"\\nMissing values count:\\n{df_dirty.isnull().sum()}\")\n",
    "print(f\"Total missing values: {df_dirty.isnull().sum().sum()}\")"
   ]
  },
  {
   "cell_type": "code",
   "execution_count": 68,
   "id": "f2b1d244",
   "metadata": {},
   "outputs": [
    {
     "name": "stdout",
     "output_type": "stream",
     "text": [
      "\n",
      "After dropping rows with any missing values:\n",
      "     A    B    C  D\n",
      "1  2.0  2.0  2.0  b\n",
      "\n",
      "After dropping columns with any missing values:\n",
      "   D\n",
      "0  a\n",
      "1  b\n",
      "2  c\n",
      "3  d\n",
      "4  e\n"
     ]
    }
   ],
   "source": [
    "# Drop missing values\n",
    "print(\"\\nAfter dropping rows with any missing values:\")\n",
    "print(df_dirty.dropna())\n",
    "\n",
    "print(\"\\nAfter dropping columns with any missing values:\")\n",
    "print(df_dirty.dropna(axis=1))"
   ]
  },
  {
   "cell_type": "code",
   "execution_count": 70,
   "id": "b9549a01",
   "metadata": {},
   "outputs": [
    {
     "name": "stdout",
     "output_type": "stream",
     "text": [
      "\n",
      "Filling missing values with 0:\n",
      "     A    B    C  D\n",
      "0  1.0  0.0  1.0  a\n",
      "1  2.0  2.0  2.0  b\n",
      "2  0.0  3.0  3.0  c\n",
      "3  4.0  4.0  0.0  d\n",
      "4  5.0  0.0  5.0  e\n",
      "\n",
      "Forward fill:\n",
      "     A    B    C  D\n",
      "0  1.0  NaN  1.0  a\n",
      "1  2.0  2.0  2.0  b\n",
      "2  2.0  3.0  3.0  c\n",
      "3  4.0  4.0  3.0  d\n",
      "4  5.0  4.0  5.0  e\n"
     ]
    }
   ],
   "source": [
    "# Fill missing values\n",
    "print(\"\\nFilling missing values with 0:\")\n",
    "print(df_dirty.fillna(0))\n",
    "\n",
    "print(\"\\nForward fill:\")\n",
    "print(df_dirty.fillna(method='ffill'))"
   ]
  },
  {
   "cell_type": "code",
   "execution_count": 71,
   "id": "765a5c40",
   "metadata": {},
   "outputs": [
    {
     "name": "stdout",
     "output_type": "stream",
     "text": [
      "\n",
      "Filling with column mean (numeric columns only):\n",
      "     A    B     C  D\n",
      "0  1.0  3.0  1.00  a\n",
      "1  2.0  2.0  2.00  b\n",
      "2  3.0  3.0  3.00  c\n",
      "3  4.0  4.0  2.75  d\n",
      "4  5.0  3.0  5.00  e\n"
     ]
    }
   ],
   "source": [
    "print(\"\\nFilling with column mean (numeric columns only):\")\n",
    "# Fix: Only calculate mean for numeric columns\n",
    "numeric_cols = df_dirty.select_dtypes(include=[np.number]).columns\n",
    "df_filled = df_dirty.copy()\n",
    "df_filled[numeric_cols] = df_filled[numeric_cols].fillna(df_dirty[numeric_cols].mean())\n",
    "print(df_filled)"
   ]
  },
  {
   "cell_type": "code",
   "execution_count": 72,
   "id": "080c32e7",
   "metadata": {},
   "outputs": [
    {
     "name": "stdout",
     "output_type": "stream",
     "text": [
      "\n",
      "Smart filling (different strategies for different data types):\n",
      "     A    B     C  D\n",
      "0  1.0  3.0  1.00  a\n",
      "1  2.0  2.0  2.00  b\n",
      "2  3.0  3.0  3.00  c\n",
      "3  4.0  4.0  2.75  d\n",
      "4  5.0  3.0  5.00  e\n"
     ]
    }
   ],
   "source": [
    "# Alternative approach - fill each column appropriately\n",
    "print(\"\\nSmart filling (different strategies for different data types):\")\n",
    "df_smart_filled = df_dirty.copy()\n",
    "# Fill numeric columns with mean\n",
    "numeric_columns = df_smart_filled.select_dtypes(include=[np.number]).columns\n",
    "df_smart_filled[numeric_columns] = df_smart_filled[numeric_columns].fillna(df_smart_filled[numeric_columns].mean())\n",
    "# Fill categorical/string columns with mode or a default value\n",
    "categorical_columns = df_smart_filled.select_dtypes(include=['object']).columns\n",
    "for col in categorical_columns:\n",
    "    df_smart_filled[col] = df_smart_filled[col].fillna(df_smart_filled[col].mode()[0] if not df_smart_filled[col].mode().empty else 'Unknown')\n",
    "print(df_smart_filled)"
   ]
  },
  {
   "cell_type": "code",
   "execution_count": 79,
   "id": "90064655",
   "metadata": {},
   "outputs": [
    {
     "name": "stdout",
     "output_type": "stream",
     "text": [
      "\n",
      "4.2 Handling Duplicates\n",
      "DataFrame with duplicates:\n",
      "      Name  Age      City\n",
      "0    Alice   25  New York\n",
      "1      Bob   30    London\n",
      "2    Alice   25  New York\n",
      "3  Charlie   35     Paris\n"
     ]
    }
   ],
   "source": [
    "# 4.2 Duplicates\n",
    "print(\"\\n4.2 Handling Duplicates\")\n",
    "df_with_dupes = pd.DataFrame({\n",
    "    'Name': ['Alice', 'Bob', 'Alice', 'Charlie'],\n",
    "    'Age': [25, 30, 25, 35],\n",
    "    'City': ['New York', 'London', 'New York', 'Paris']\n",
    "})\n",
    "print(\"DataFrame with duplicates:\")\n",
    "print(df_with_dupes)"
   ]
  },
  {
   "cell_type": "code",
   "execution_count": 80,
   "id": "40bd8ae0",
   "metadata": {},
   "outputs": [
    {
     "name": "stdout",
     "output_type": "stream",
     "text": [
      "\n",
      "Duplicate rows: 1\n",
      "After removing duplicates:\n",
      "      Name  Age      City\n",
      "0    Alice   25  New York\n",
      "1      Bob   30    London\n",
      "3  Charlie   35     Paris\n"
     ]
    }
   ],
   "source": [
    "print(f\"\\nDuplicate rows: {df_with_dupes.duplicated().sum()}\")\n",
    "print(\"After removing duplicates:\")\n",
    "print(df_with_dupes.drop_duplicates())"
   ]
  },
  {
   "cell_type": "code",
   "execution_count": 81,
   "id": "935844d7",
   "metadata": {},
   "outputs": [
    {
     "name": "stdout",
     "output_type": "stream",
     "text": [
      "\n",
      "4.3 Data Type Conversion\n",
      "Original data types:\n",
      "Numbers       object\n",
      "Dates         object\n",
      "Categories    object\n",
      "dtype: object\n"
     ]
    }
   ],
   "source": [
    "# 4.3 Data type conversion\n",
    "print(\"\\n4.3 Data Type Conversion\")\n",
    "df_convert = pd.DataFrame({\n",
    "    'Numbers': ['1', '2', '3', '4'],\n",
    "    'Dates': ['2024-01-01', '2024-01-02', '2024-01-03', '2024-01-04'],\n",
    "    'Categories': ['A', 'B', 'A', 'C']\n",
    "})\n",
    "print(\"Original data types:\")\n",
    "print(df_convert.dtypes)"
   ]
  },
  {
   "cell_type": "code",
   "execution_count": 82,
   "id": "8d0afbd8",
   "metadata": {},
   "outputs": [
    {
     "name": "stdout",
     "output_type": "stream",
     "text": [
      "\n",
      "After conversion:\n",
      "Numbers                int64\n",
      "Dates         datetime64[ns]\n",
      "Categories          category\n",
      "dtype: object\n"
     ]
    }
   ],
   "source": [
    "# Convert data types\n",
    "df_convert['Numbers'] = pd.to_numeric(df_convert['Numbers'])\n",
    "df_convert['Dates'] = pd.to_datetime(df_convert['Dates'])\n",
    "df_convert['Categories'] = df_convert['Categories'].astype('category')\n",
    "\n",
    "print(\"\\nAfter conversion:\")\n",
    "print(df_convert.dtypes)"
   ]
  },
  {
   "cell_type": "code",
   "execution_count": 83,
   "id": "481f227c",
   "metadata": {},
   "outputs": [
    {
     "name": "stdout",
     "output_type": "stream",
     "text": [
      "\n",
      "4.4 String Operations\n",
      "Original text:\n",
      "                  Text\n",
      "0    Hello Milky Way  \n",
      "1          FREE pandas\n",
      "2        Data Worship!\n",
      "3    machine pondering\n",
      "\n",
      "After string operations:\n",
      "                  Text            Cleaned  Length  Contains_Data\n",
      "0    Hello Milky Way      Hello Milky Way      19          False\n",
      "1          FREE pandas        Free Pandas      11          False\n",
      "2        Data Worship!      Data Worship!      13           True\n",
      "3    machine pondering  Machine Pondering      17          False\n"
     ]
    }
   ],
   "source": [
    "# 4.4 String operations\n",
    "print(\"\\n4.4 String Operations\")\n",
    "df_text = pd.DataFrame({'Text': ['  Hello Milky Way  ', 'FREE pandas', 'Data Worship!', 'machine pondering']})\n",
    "print(\"Original text:\")\n",
    "print(df_text)\n",
    "\n",
    "# String cleaning\n",
    "df_text['Cleaned'] = df_text['Text'].str.strip().str.lower().str.title()\n",
    "df_text['Length'] = df_text['Text'].str.len()\n",
    "df_text['Contains_Data'] = df_text['Text'].str.contains('Data', case=False)\n",
    "print(\"\\nAfter string operations:\")\n",
    "print(df_text)"
   ]
  },
  {
   "cell_type": "code",
   "execution_count": 89,
   "id": "95791412",
   "metadata": {},
   "outputs": [
    {
     "name": "stdout",
     "output_type": "stream",
     "text": [
      "\n",
      "5.1 Adding New Columns\n",
      "DataFrame with new columns:\n",
      "              os        hardware_model  ram  speed  rating Rating_Category  \\\n",
      "0  macOS Ventura        Razer Blade 14   32    4.0       2             Low   \n",
      "1   Ubuntu 24.04        MacBook Air M2   16    4.5       2             Low   \n",
      "2      Debian 12      Surface Laptop 5   32    2.8       1             Low   \n",
      "3   macOS Sonoma  Acer Predator Helios   16    2.8       0             Low   \n",
      "4      Fedora 40        Razer Blade 14   64    4.0       0             Low   \n",
      "5   Ubuntu 22.04      Framework Laptop   32    4.5       4          Medium   \n",
      "6      Debian 12           Dell XPS 13   32    4.0       0             Low   \n",
      "7      Fedora 40        MacBook Air M2   64    4.5       0             Low   \n",
      "8   Ubuntu 22.04     Asus ROG Zephyrus   16    2.4       0             Low   \n",
      "9  macOS Ventura        MSI Stealth 16   64    2.8       0             Low   \n",
      "\n",
      "   CPU_Speed RAM_Group  \n",
      "0        4.0    Better  \n",
      "1        4.5   Average  \n",
      "2        2.8    Better  \n",
      "3        2.8   Average  \n",
      "4        4.0      Best  \n",
      "5        4.5    Better  \n",
      "6        4.0    Better  \n",
      "7        4.5      Best  \n",
      "8        2.4   Average  \n",
      "9        2.8      Best  \n"
     ]
    }
   ],
   "source": [
    "# ========================================================================\n",
    "# SECTION 5: DATA TRANSFORMATION AND MANIPULATION\n",
    "# ========================================================================\n",
    "\n",
    "# 5.1 Adding new columns\n",
    "print(\"\\n5.1 Adding New Columns\")\n",
    "df_stacks_copy = df_stacks.copy()\n",
    "df_stacks_copy['Rating_Category'] = df_stacks_copy['rating'].apply(\n",
    "    lambda x: 'High' if x > 4 else 'Medium' if x > 2 else 'Low'\n",
    ")\n",
    "df_stacks_copy['CPU_Speed'] = df_stacks_copy['speed'].values\n",
    "df_stacks_copy['RAM_Group'] = pd.cut(df_stacks_copy['ram'], \n",
    "                                       bins=[8, 16, 32, 64], \n",
    "                                       labels=['Average', 'Better', 'Best'])\n",
    "print(\"DataFrame with new columns:\")\n",
    "print(df_stacks_copy)"
   ]
  },
  {
   "cell_type": "code",
   "execution_count": 91,
   "id": "1d60a66a",
   "metadata": {},
   "outputs": [
    {
     "name": "stdout",
     "output_type": "stream",
     "text": [
      "\n",
      "5.2 Renaming Columns and Indices\n",
      "Renamed columns:\n",
      "['Operating_System', 'Hardware_Model', 'Memory', 'CPU_Speed', 'Overall_Rating']\n"
     ]
    }
   ],
   "source": [
    "# 5.2 Renaming columns and indices\n",
    "print(\"\\n5.2 Renaming Columns and Indices\")\n",
    "df_renamed = df_stacks.rename(columns={\n",
    "    'os': 'Operating_System', \n",
    "    'speed': 'CPU_Speed',\n",
    "    'hardware_model': 'Hardware_Model',\n",
    "    'ram': 'Memory',\n",
    "    'rating': 'Overall_Rating'\n",
    "    })\n",
    "print(\"Renamed columns:\")\n",
    "print(df_renamed.columns.tolist())"
   ]
  },
  {
   "cell_type": "code",
   "execution_count": 93,
   "id": "d9533768",
   "metadata": {},
   "outputs": [
    {
     "name": "stdout",
     "output_type": "stream",
     "text": [
      "\n",
      "5.3 Sorting Data\n",
      "Sorted by CPU Speed (ascending):\n",
      "  Operating_System        Hardware_Model  Memory  CPU_Speed  Overall_Rating\n",
      "8     Ubuntu 22.04     Asus ROG Zephyrus      16        2.4               0\n",
      "3     macOS Sonoma  Acer Predator Helios      16        2.8               0\n",
      "9    macOS Ventura        MSI Stealth 16      64        2.8               0\n",
      "2        Debian 12      Surface Laptop 5      32        2.8               1\n",
      "6        Debian 12           Dell XPS 13      32        4.0               0\n",
      "4        Fedora 40        Razer Blade 14      64        4.0               0\n",
      "0    macOS Ventura        Razer Blade 14      32        4.0               2\n",
      "1     Ubuntu 24.04        MacBook Air M2      16        4.5               2\n",
      "7        Fedora 40        MacBook Air M2      64        4.5               0\n",
      "5     Ubuntu 22.04      Framework Laptop      32        4.5               4\n"
     ]
    }
   ],
   "source": [
    "# 5.3 Sorting\n",
    "print(\"\\n5.3 Sorting Data\")\n",
    "print(\"Sorted by CPU Speed (ascending):\")\n",
    "print(df_renamed.sort_values('CPU_Speed'))"
   ]
  },
  {
   "cell_type": "code",
   "execution_count": 96,
   "id": "71828895",
   "metadata": {},
   "outputs": [
    {
     "name": "stdout",
     "output_type": "stream",
     "text": [
      "\n",
      "Sorted by Overall Rating (descending), then by CPU Speed (ascending):\n",
      "  Operating_System        Hardware_Model  Memory  CPU_Speed  Overall_Rating\n",
      "5     Ubuntu 22.04      Framework Laptop      32        4.5               4\n",
      "0    macOS Ventura        Razer Blade 14      32        4.0               2\n",
      "1     Ubuntu 24.04        MacBook Air M2      16        4.5               2\n",
      "2        Debian 12      Surface Laptop 5      32        2.8               1\n",
      "8     Ubuntu 22.04     Asus ROG Zephyrus      16        2.4               0\n",
      "3     macOS Sonoma  Acer Predator Helios      16        2.8               0\n",
      "9    macOS Ventura        MSI Stealth 16      64        2.8               0\n",
      "4        Fedora 40        Razer Blade 14      64        4.0               0\n",
      "6        Debian 12           Dell XPS 13      32        4.0               0\n",
      "7        Fedora 40        MacBook Air M2      64        4.5               0\n"
     ]
    }
   ],
   "source": [
    "print(\"\\nSorted by Overall Rating (descending), then by CPU Speed (ascending):\")\n",
    "print(df_renamed.sort_values(['Overall_Rating', 'CPU_Speed'], ascending=[False, True]))"
   ]
  },
  {
   "cell_type": "code",
   "execution_count": 98,
   "id": "259250d0",
   "metadata": {},
   "outputs": [
    {
     "name": "stdout",
     "output_type": "stream",
     "text": [
      "\n",
      "5.4 Ranking\n",
      "With memory rankings:\n",
      "         Hardware_Model  Memory  Memory_Rank  Overall_Rating\n",
      "0        Razer Blade 14      32          5.5               2\n",
      "1        MacBook Air M2      16          9.0               2\n",
      "2      Surface Laptop 5      32          5.5               1\n",
      "3  Acer Predator Helios      16          9.0               0\n",
      "4        Razer Blade 14      64          2.0               0\n",
      "5      Framework Laptop      32          5.5               4\n",
      "6           Dell XPS 13      32          5.5               0\n",
      "7        MacBook Air M2      64          2.0               0\n",
      "8     Asus ROG Zephyrus      16          9.0               0\n",
      "9        MSI Stealth 16      64          2.0               0\n"
     ]
    }
   ],
   "source": [
    "# 5.4 Ranking\n",
    "print(\"\\n5.4 Ranking\")\n",
    "df_renamed['Memory_Rank'] = df_renamed['Memory'].rank(ascending=False)\n",
    "print(\"With memory rankings:\")\n",
    "print(df_renamed[['Hardware_Model', 'Memory', 'Memory_Rank', 'Overall_Rating']])"
   ]
  },
  {
   "cell_type": "code",
   "execution_count": 100,
   "id": "c9e5ea9c",
   "metadata": {},
   "outputs": [
    {
     "name": "stdout",
     "output_type": "stream",
     "text": [
      "\n",
      "6.1 Basic GroupBy Operations\n",
      "Average salary by department:\n",
      "Department\n",
      "Finance    62500.0\n",
      "HR         55000.0\n",
      "IT         60000.0\n",
      "Name: Salary, dtype: float64\n"
     ]
    }
   ],
   "source": [
    "# ========================================================================\n",
    "# SECTION 6: GROUPBY OPERATIONS AND AGGREGATIONS\n",
    "# ========================================================================\n",
    "\n",
    "# 6.1 Basic groupby\n",
    "print(\"\\n6.1 Basic GroupBy Operations\")\n",
    "dept_groups = df_employees.groupby('Department')\n",
    "print(\"Average salary by department:\")\n",
    "print(dept_groups['Salary'].mean())"
   ]
  },
  {
   "cell_type": "code",
   "execution_count": 101,
   "id": "3317da63",
   "metadata": {},
   "outputs": [
    {
     "name": "stdout",
     "output_type": "stream",
     "text": [
      "\n",
      "Multiple aggregations:\n",
      "             Salary                 Age      \n",
      "               mean    max    min  mean count\n",
      "Department                                   \n",
      "Finance     62500.0  65000  60000  31.0     2\n",
      "HR          55000.0  55000  55000  28.0     1\n",
      "IT          60000.0  70000  50000  30.0     2\n"
     ]
    }
   ],
   "source": [
    "print(\"\\nMultiple aggregations:\")\n",
    "print(dept_groups.agg({\n",
    "    'Salary': ['mean', 'max', 'min'],\n",
    "    'Age': ['mean', 'count']\n",
    "}))"
   ]
  },
  {
   "cell_type": "code",
   "execution_count": 103,
   "id": "fab132ae",
   "metadata": {},
   "outputs": [
    {
     "name": "stdout",
     "output_type": "stream",
     "text": [
      "\n",
      "6.2 Complex Aggregations\n",
      "Sample sales data:\n",
      "        Date Product Region  Sales  Quantity\n",
      "0 2024-01-01       A  South    744        19\n",
      "1 2024-01-02       A  South    900         3\n",
      "2 2024-01-03       C   East    533         5\n",
      "3 2024-01-04       A   West    323         5\n",
      "4 2024-01-05       A   East    576        18\n"
     ]
    }
   ],
   "source": [
    "# 6.2 Creating more complex sample data\n",
    "print(\"\\n6.2 Complex Aggregations\")\n",
    "sales_data = pd.DataFrame({\n",
    "    'Date': pd.date_range('2024-01-01', periods=100, freq='D'),\n",
    "    'Product': np.random.choice(['A', 'B', 'C'], 100),\n",
    "    'Region': np.random.choice(['North', 'South', 'East', 'West'], 100),\n",
    "    'Sales': np.random.randint(100, 1000, 100),\n",
    "    'Quantity': np.random.randint(1, 20, 100)\n",
    "})\n",
    "\n",
    "print(\"Sample sales data:\")\n",
    "print(sales_data.head())"
   ]
  },
  {
   "cell_type": "code",
   "execution_count": 104,
   "id": "0ab371c6",
   "metadata": {},
   "outputs": [
    {
     "name": "stdout",
     "output_type": "stream",
     "text": [
      "\n",
      "Sales by Product and Region:\n",
      "Region   East  North  South  West\n",
      "Product                          \n",
      "A        4341   2351   3400  6135\n",
      "B        1422   4541   4736  7998\n",
      "C        2992   3701   6546  8044\n"
     ]
    }
   ],
   "source": [
    "# Multiple groupby\n",
    "print(\"\\nSales by Product and Region:\")\n",
    "product_region_sales = sales_data.groupby(['Product', 'Region'])['Sales'].sum().unstack()\n",
    "print(product_region_sales)"
   ]
  },
  {
   "cell_type": "code",
   "execution_count": 105,
   "id": "d2a9e389",
   "metadata": {},
   "outputs": [
    {
     "name": "stdout",
     "output_type": "stream",
     "text": [
      "\n",
      "6.3 Custom Aggregation Functions\n",
      "Custom aggregations:\n",
      "         Sales                        Quantity          \n",
      "           sum        mean range_calc      sum       std\n",
      "Product                                                 \n",
      "A        16227  491.727273        850      313  5.852997\n",
      "B        18697  584.281250        893      318  5.411681\n",
      "C        21283  608.085714        872      306  5.521844\n"
     ]
    }
   ],
   "source": [
    "# 6.3 Custom aggregation functions\n",
    "print(\"\\n6.3 Custom Aggregation Functions\")\n",
    "def range_calc(x):\n",
    "    return x.max() - x.min()\n",
    "\n",
    "custom_agg = sales_data.groupby('Product').agg({\n",
    "    'Sales': ['sum', 'mean', range_calc],\n",
    "    'Quantity': ['sum', 'std']\n",
    "})\n",
    "print(\"Custom aggregations:\")\n",
    "print(custom_agg)"
   ]
  },
  {
   "cell_type": "code",
   "execution_count": 106,
   "id": "4ba52f7a",
   "metadata": {},
   "outputs": [
    {
     "name": "stdout",
     "output_type": "stream",
     "text": [
      "\n",
      "6.4 Transform and Apply\n",
      "Sales with Z-scores by product:\n",
      "  Product  Sales  Sales_Zscore\n",
      "0       A    744      1.012725\n",
      "1       A    900      1.638973\n",
      "2       C    533     -0.269006\n",
      "3       A    323     -0.677340\n",
      "4       A    576      0.338305\n",
      "5       B    650      0.223276\n",
      "6       A    220     -1.090824\n",
      "7       C    127     -1.723563\n",
      "8       C    947      1.214212\n",
      "9       C    131     -1.709232\n"
     ]
    }
   ],
   "source": [
    "# 6.4 Transform and apply\n",
    "print(\"\\n6.4 Transform and Apply\")\n",
    "sales_data['Sales_Zscore'] = sales_data.groupby('Product')['Sales'].transform(\n",
    "    lambda x: (x - x.mean()) / x.std()\n",
    ")\n",
    "print(\"Sales with Z-scores by product:\")\n",
    "print(sales_data[['Product', 'Sales', 'Sales_Zscore']].head(10))"
   ]
  },
  {
   "cell_type": "code",
   "execution_count": 110,
   "id": "9247c3ca",
   "metadata": {},
   "outputs": [
    {
     "name": "stdout",
     "output_type": "stream",
     "text": [
      "\n",
      "7.1 Sample Data for Merging\n",
      "Customers:\n",
      "   CustomerID   Name City\n",
      "0           1   田中 桜   東京\n",
      "1           2   佐藤 浩   大阪\n",
      "2           3  山田 愛子   京都\n",
      "3           4  中村 健司   福岡\n",
      "4           5  鈴木 由美   札幌\n",
      "\n",
      "Orders:\n",
      "   OrderID  CustomerID     Product  Amount\n",
      "0      101           1      Laptop  120000\n",
      "1      102           2       Mouse    3000\n",
      "2      103           2    Keyboard    8000\n",
      "3      104           3     Monitor   35000\n",
      "4      105           4      Tablet   60000\n",
      "5      106           6  Smartphone   90000\n"
     ]
    }
   ],
   "source": [
    "# ========================================================================\n",
    "# SECTION 7: MERGING, JOINING, AND CONCATENATING\n",
    "# ========================================================================\n",
    "\n",
    "# 7.1 Creating sample datasets for merging\n",
    "print(\"\\n7.1 Sample Data for Merging\")\n",
    "df_customers = pd.DataFrame({\n",
    "    'CustomerID': [1, 2, 3, 4, 5],\n",
    "    'Name': ['田中 桜', '佐藤 浩', '山田 愛子', '中村 健司', '鈴木 由美'],\n",
    "    'City': ['東京', '大阪', '京都', '福岡', '札幌']\n",
    "})\n",
    "\n",
    "df_orders = pd.DataFrame({\n",
    "    'OrderID': [101, 102, 103, 104, 105, 106],\n",
    "    'CustomerID': [1, 2, 2, 3, 4, 6],  # Note: CustomerID 6 doesn't exist in customers\n",
    "    'Product': ['Laptop', 'Mouse', 'Keyboard', 'Monitor', 'Tablet', 'Smartphone'],\n",
    "    'Amount': [120000, 3000, 8000, 35000, 60000, 90000]\n",
    "})\n",
    "\n",
    "print(\"Customers:\")\n",
    "print(df_customers)\n",
    "print(\"\\nOrders:\")\n",
    "print(df_orders)"
   ]
  },
  {
   "cell_type": "code",
   "execution_count": 111,
   "id": "167765ff",
   "metadata": {},
   "outputs": [
    {
     "name": "stdout",
     "output_type": "stream",
     "text": [
      "\n",
      "7.2 Different Types of Joins\n",
      "Inner Join:\n",
      "   CustomerID   Name City  OrderID   Product  Amount\n",
      "0           1   田中 桜   東京      101    Laptop  120000\n",
      "1           2   佐藤 浩   大阪      102     Mouse    3000\n",
      "2           2   佐藤 浩   大阪      103  Keyboard    8000\n",
      "3           3  山田 愛子   京都      104   Monitor   35000\n",
      "4           4  中村 健司   福岡      105    Tablet   60000\n",
      "\n",
      "Left Join:\n",
      "   CustomerID   Name City  OrderID   Product    Amount\n",
      "0           1   田中 桜   東京    101.0    Laptop  120000.0\n",
      "1           2   佐藤 浩   大阪    102.0     Mouse    3000.0\n",
      "2           2   佐藤 浩   大阪    103.0  Keyboard    8000.0\n",
      "3           3  山田 愛子   京都    104.0   Monitor   35000.0\n",
      "4           4  中村 健司   福岡    105.0    Tablet   60000.0\n",
      "5           5  鈴木 由美   札幌      NaN       NaN       NaN\n",
      "\n",
      "Right Join:\n",
      "   CustomerID   Name City  OrderID     Product  Amount\n",
      "0           1   田中 桜   東京      101      Laptop  120000\n",
      "1           2   佐藤 浩   大阪      102       Mouse    3000\n",
      "2           2   佐藤 浩   大阪      103    Keyboard    8000\n",
      "3           3  山田 愛子   京都      104     Monitor   35000\n",
      "4           4  中村 健司   福岡      105      Tablet   60000\n",
      "5           6    NaN  NaN      106  Smartphone   90000\n",
      "\n",
      "Outer Join:\n",
      "   CustomerID   Name City  OrderID     Product    Amount\n",
      "0           1   田中 桜   東京    101.0      Laptop  120000.0\n",
      "1           2   佐藤 浩   大阪    102.0       Mouse    3000.0\n",
      "2           2   佐藤 浩   大阪    103.0    Keyboard    8000.0\n",
      "3           3  山田 愛子   京都    104.0     Monitor   35000.0\n",
      "4           4  中村 健司   福岡    105.0      Tablet   60000.0\n",
      "5           5  鈴木 由美   札幌      NaN         NaN       NaN\n",
      "6           6    NaN  NaN    106.0  Smartphone   90000.0\n"
     ]
    }
   ],
   "source": [
    "# 7.2 Different types of joins\n",
    "print(\"\\n7.2 Different Types of Joins\")\n",
    "\n",
    "# Inner join\n",
    "inner_join = pd.merge(df_customers, df_orders, on='CustomerID', how='inner')\n",
    "print(\"Inner Join:\")\n",
    "print(inner_join)\n",
    "\n",
    "# Left join\n",
    "left_join = pd.merge(df_customers, df_orders, on='CustomerID', how='left')\n",
    "print(\"\\nLeft Join:\")\n",
    "print(left_join)\n",
    "\n",
    "# Right join\n",
    "right_join = pd.merge(df_customers, df_orders, on='CustomerID', how='right')\n",
    "print(\"\\nRight Join:\")\n",
    "print(right_join)\n",
    "\n",
    "# Outer join\n",
    "outer_join = pd.merge(df_customers, df_orders, on='CustomerID', how='outer')\n",
    "print(\"\\nOuter Join:\")\n",
    "print(outer_join)"
   ]
  },
  {
   "cell_type": "code",
   "execution_count": 113,
   "id": "95e51907",
   "metadata": {},
   "outputs": [
    {
     "name": "stdout",
     "output_type": "stream",
     "text": [
      "\n",
      "7.3 Concatenating DataFrames\n",
      "Vertical concatenation:\n",
      "   A  B\n",
      "0  🐀  🐅\n",
      "1  🐂  🐇\n",
      "2  🐉  🐎\n",
      "3  🐍  🐏\n",
      "\n",
      "Horizontal concatenation:\n",
      "   A  B  C  D\n",
      "0  🐀  🐅  🐒  🐶\n",
      "1  🐂  🐇  🐓  🐗\n"
     ]
    }
   ],
   "source": [
    "# 7.3 Concatenating DataFrames\n",
    "print(\"\\n7.3 Concatenating DataFrames\")\n",
    "df1 = pd.DataFrame({'A': ['🐀', '🐂'], 'B': ['🐅', '🐇']})\n",
    "df2 = pd.DataFrame({'A': ['🐉','🐍'], 'B': ['🐎', '🐏']})\n",
    "df3 = pd.DataFrame({'C': ['🐒', '🐓'], 'D': ['🐶', '🐗']})\n",
    "\n",
    "print(\"Vertical concatenation:\")\n",
    "print(pd.concat([df1, df2], ignore_index=True))\n",
    "\n",
    "print(\"\\nHorizontal concatenation:\")\n",
    "print(pd.concat([df1, df3], axis=1))"
   ]
  },
  {
   "cell_type": "code",
   "execution_count": 114,
   "id": "ce8d3b30",
   "metadata": {},
   "outputs": [
    {
     "name": "stdout",
     "output_type": "stream",
     "text": [
      "\n",
      "8.1 Pivot Tables\n",
      "Pivot table (Sales by Product and Region):\n",
      "Region   East  North  South  West\n",
      "Product                          \n",
      "A        4341   2351   3400  6135\n",
      "B        1422   4541   4736  7998\n",
      "C        2992   3701   6546  8044\n"
     ]
    }
   ],
   "source": [
    "# ========================================================================\n",
    "# SECTION 8: PIVOT TABLES AND RESHAPING\n",
    "# ========================================================================\n",
    "\n",
    "# 8.1 Pivot tables\n",
    "print(\"\\n8.1 Pivot Tables\")\n",
    "pivot_table = sales_data.pivot_table(\n",
    "    values='Sales',\n",
    "    index='Product',\n",
    "    columns='Region',\n",
    "    aggfunc='sum',\n",
    "    fill_value=0\n",
    ")\n",
    "print(\"Pivot table (Sales by Product and Region):\")\n",
    "print(pivot_table)"
   ]
  },
  {
   "cell_type": "code",
   "execution_count": 115,
   "id": "3a3b0f14",
   "metadata": {},
   "outputs": [
    {
     "name": "stdout",
     "output_type": "stream",
     "text": [
      "\n",
      "8.2 Melting Data\n",
      "Wide format:\n",
      "   ID  Jan  Feb  Mar\n",
      "0   1  100  110  120\n",
      "1   2  200  190  210\n",
      "2   3  150  160  140\n",
      "\n",
      "Long format (melted):\n",
      "   ID Month  Sales\n",
      "0   1   Jan    100\n",
      "1   2   Jan    200\n",
      "2   3   Jan    150\n",
      "3   1   Feb    110\n",
      "4   2   Feb    190\n",
      "5   3   Feb    160\n",
      "6   1   Mar    120\n",
      "7   2   Mar    210\n",
      "8   3   Mar    140\n"
     ]
    }
   ],
   "source": [
    "# 8.2 Melting (wide to long)\n",
    "print(\"\\n8.2 Melting Data\")\n",
    "wide_data = pd.DataFrame({\n",
    "    'ID': [1, 2, 3],\n",
    "    'Jan': [100, 200, 150],\n",
    "    'Feb': [110, 190, 160],\n",
    "    'Mar': [120, 210, 140]\n",
    "})\n",
    "print(\"Wide format:\")\n",
    "print(wide_data)\n",
    "\n",
    "long_data = pd.melt(wide_data, id_vars=['ID'], var_name='Month', value_name='Sales')\n",
    "print(\"\\nLong format (melted):\")\n",
    "print(long_data)"
   ]
  },
  {
   "cell_type": "code",
   "execution_count": 116,
   "id": "075528ab",
   "metadata": {},
   "outputs": [
    {
     "name": "stdout",
     "output_type": "stream",
     "text": [
      "\n",
      "8.3 Stacking and Unstacking\n",
      "Creating sample MultiIndex data without duplicates:\n",
      "MultiIndex Series (with unique index):\n",
      "Product  Region  ID\n",
      "A        South   0     744\n",
      "                 1     900\n",
      "C        East    2     533\n",
      "A        West    3     323\n",
      "         East    4     576\n",
      "B        North   5     650\n",
      "A        North   6     220\n",
      "C        East    7     127\n",
      "         North   8     947\n",
      "         South   9     131\n",
      "Name: Sales, dtype: int32\n",
      "\n",
      "Unstacked (to DataFrame):\n",
      "Region       East  North  South   West\n",
      "Product ID                            \n",
      "A       0     NaN    NaN  744.0    NaN\n",
      "        1     NaN    NaN  900.0    NaN\n",
      "        3     NaN    NaN    NaN  323.0\n",
      "        4   576.0    NaN    NaN    NaN\n",
      "        6     NaN  220.0    NaN    NaN\n"
     ]
    }
   ],
   "source": [
    "# 8.3 Stacking and unstacking\n",
    "print(\"\\n8.3 Stacking and Unstacking\")\n",
    "\n",
    "# Fix: Create MultiIndex without duplicates by using reset_index and adding a unique identifier\n",
    "print(\"Creating sample MultiIndex data without duplicates:\")\n",
    "sample_multi_data = sales_data.head(20).copy().reset_index(drop=True)\n",
    "sample_multi_data['ID'] = range(len(sample_multi_data))  # Add unique identifier\n",
    "multi_index_df = sample_multi_data.set_index(['Product', 'Region', 'ID'])['Sales']\n",
    "print(\"MultiIndex Series (with unique index):\")\n",
    "print(multi_index_df.head(10))\n",
    "\n",
    "print(\"\\nUnstacked (to DataFrame):\")\n",
    "unstacked_result = multi_index_df.unstack(level='Region')\n",
    "print(unstacked_result.head())"
   ]
  },
  {
   "cell_type": "code",
   "execution_count": 117,
   "id": "25b50fc8",
   "metadata": {},
   "outputs": [
    {
     "name": "stdout",
     "output_type": "stream",
     "text": [
      "\n",
      "8.3.1 Alternative: Handling Duplicates by Aggregating\n",
      "Aggregated sales (no duplicates):\n",
      "Product  Region\n",
      "A        East      4341\n",
      "         North     2351\n",
      "         South     3400\n",
      "         West      6135\n",
      "B        East      1422\n",
      "         North     4541\n",
      "         South     4736\n",
      "         West      7998\n",
      "C        East      2992\n",
      "         North     3701\n",
      "Name: Sales, dtype: int32\n",
      "\n",
      "Unstacked aggregated data:\n",
      "Region   East  North  South  West\n",
      "Product                          \n",
      "A        4341   2351   3400  6135\n",
      "B        1422   4541   4736  7998\n",
      "C        2992   3701   6546  8044\n"
     ]
    }
   ],
   "source": [
    "# Alternative approach: Aggregate duplicates before unstacking\n",
    "print(\"\\n8.3.1 Alternative: Handling Duplicates by Aggregating\")\n",
    "# Group by Product and Region, then sum the sales to remove duplicates\n",
    "aggregated_sales = sales_data.groupby(['Product', 'Region'])['Sales'].sum()\n",
    "print(\"Aggregated sales (no duplicates):\")\n",
    "print(aggregated_sales.head(10))\n",
    "\n",
    "print(\"\\nUnstacked aggregated data:\")\n",
    "unstacked_aggregated = aggregated_sales.unstack(fill_value=0)\n",
    "print(unstacked_aggregated)"
   ]
  },
  {
   "cell_type": "code",
   "execution_count": 118,
   "id": "ec6049d5",
   "metadata": {},
   "outputs": [
    {
     "name": "stdout",
     "output_type": "stream",
     "text": [
      "\n",
      "8.3.2 Stacking Example\n",
      "Original DataFrame:\n",
      "   A  B  C\n",
      "X  1  4  7\n",
      "Y  2  5  8\n",
      "Z  3  6  9\n",
      "\n",
      "Stacked (DataFrame to Series):\n",
      "X  A    1\n",
      "   B    4\n",
      "   C    7\n",
      "Y  A    2\n",
      "   B    5\n",
      "   C    8\n",
      "Z  A    3\n",
      "   B    6\n",
      "   C    9\n",
      "dtype: int64\n",
      "\n",
      "Unstacked back to DataFrame:\n",
      "   A  B  C\n",
      "X  1  4  7\n",
      "Y  2  5  8\n",
      "Z  3  6  9\n"
     ]
    }
   ],
   "source": [
    "# 8.3.2 Stacking example\n",
    "print(\"\\n8.3.2 Stacking Example\")\n",
    "# Create a simple DataFrame to demonstrate stacking\n",
    "stack_demo = pd.DataFrame({\n",
    "    'A': [1, 2, 3],\n",
    "    'B': [4, 5, 6],\n",
    "    'C': [7, 8, 9]\n",
    "}, index=['X', 'Y', 'Z'])\n",
    "\n",
    "print(\"Original DataFrame:\")\n",
    "print(stack_demo)\n",
    "\n",
    "stacked = stack_demo.stack()\n",
    "print(\"\\nStacked (DataFrame to Series):\")\n",
    "print(stacked)\n",
    "\n",
    "print(\"\\nUnstacked back to DataFrame:\")\n",
    "print(stacked.unstack())"
   ]
  },
  {
   "cell_type": "code",
   "execution_count": 119,
   "id": "7d24c849",
   "metadata": {},
   "outputs": [
    {
     "name": "stdout",
     "output_type": "stream",
     "text": [
      "\n",
      "8.3.3 MultiIndex Operations with Time Series\n",
      "Time series MultiIndex:\n",
      "Date        Product  Region\n",
      "2024-01-01  A        North     182\n",
      "                     South     180\n",
      "            B        North     572\n",
      "                     South     269\n",
      "2024-01-02  A        North     196\n",
      "                     South     842\n",
      "            B        North     917\n",
      "                     South     986\n",
      "Name: Sales, dtype: int64\n",
      "\n",
      "Unstack by Region:\n",
      "Region              North  South\n",
      "Date       Product              \n",
      "2024-01-01 A          182    180\n",
      "           B          572    269\n",
      "2024-01-02 A          196    842\n",
      "           B          917    986\n",
      "2024-01-03 A          705    717\n",
      "\n",
      "Unstack by Product:\n",
      "Product              A    B\n",
      "Date       Region          \n",
      "2024-01-01 North   182  572\n",
      "           South   180  269\n",
      "2024-01-02 North   196  917\n",
      "           South   842  986\n",
      "2024-01-03 North   705  838\n"
     ]
    }
   ],
   "source": [
    "# 8.3.3 Working with real MultiIndex data\n",
    "print(\"\\n8.3.3 MultiIndex Operations with Time Series\")\n",
    "# Create a proper time series MultiIndex example\n",
    "dates = pd.date_range('2024-01-01', periods=10, freq='D')\n",
    "products = ['A', 'B']\n",
    "regions = ['North', 'South']\n",
    "\n",
    "# Create combinations without duplicates\n",
    "time_series_data = []\n",
    "for date in dates[:5]:  # Use fewer dates to avoid too much output\n",
    "    for product in products:\n",
    "        for region in regions:\n",
    "            time_series_data.append({\n",
    "                'Date': date,\n",
    "                'Product': product,\n",
    "                'Region': region,\n",
    "                'Sales': np.random.randint(100, 1000)\n",
    "            })\n",
    "\n",
    "ts_df = pd.DataFrame(time_series_data)\n",
    "ts_multiindex = ts_df.set_index(['Date', 'Product', 'Region'])['Sales']\n",
    "\n",
    "print(\"Time series MultiIndex:\")\n",
    "print(ts_multiindex.head(8))\n",
    "\n",
    "print(\"\\nUnstack by Region:\")\n",
    "ts_unstacked = ts_multiindex.unstack(level='Region')\n",
    "print(ts_unstacked.head())\n",
    "\n",
    "print(\"\\nUnstack by Product:\")\n",
    "ts_unstacked_product = ts_multiindex.unstack(level='Product')\n",
    "print(ts_unstacked_product.head())"
   ]
  },
  {
   "cell_type": "code",
   "execution_count": 120,
   "id": "b40fa8b1",
   "metadata": {},
   "outputs": [
    {
     "name": "stdout",
     "output_type": "stream",
     "text": [
      "\n",
      "9.1 Time Series Data Creation\n",
      "Time series data (first 10 rows):\n",
      "                 Value  Volume\n",
      "Date                          \n",
      "2025-01-01  100.740777     192\n",
      "2025-01-02   99.599545     129\n",
      "2025-01-03  100.871823     162\n",
      "2025-01-04  100.376143     198\n",
      "2025-01-05   98.927502     161\n",
      "2025-01-06   97.750639     181\n",
      "2025-01-07   97.678452     117\n",
      "2025-01-08   98.466658      56\n",
      "2025-01-09   98.273863     177\n",
      "2025-01-10   99.537931     159\n"
     ]
    }
   ],
   "source": [
    "# ========================================================================\n",
    "# SECTION 9: TIME SERIES ANALYSIS\n",
    "# ========================================================================\n",
    "\n",
    "# 9.1 Creating time series data\n",
    "print(\"\\n9.1 Time Series Data Creation\")\n",
    "dates = pd.date_range('2025-01-01', periods=365, freq='D')\n",
    "ts_data = pd.DataFrame({\n",
    "    'Date': dates,\n",
    "    'Value': np.random.randn(365).cumsum() + 100,\n",
    "    'Volume': np.random.randint(50, 200, 365)\n",
    "})\n",
    "ts_data.set_index('Date', inplace=True)\n",
    "print(\"Time series data (first 10 rows):\")\n",
    "print(ts_data.head(10))"
   ]
  },
  {
   "cell_type": "code",
   "execution_count": 121,
   "id": "32509105",
   "metadata": {},
   "outputs": [
    {
     "name": "stdout",
     "output_type": "stream",
     "text": [
      "\n",
      "9.2 Date/Time Operations\n",
      "With date components:\n",
      "                 Value  Volume  Year  Month  DayOfWeek  IsWeekend\n",
      "Date                                                             \n",
      "2025-01-01  100.740777     192  2025      1          2      False\n",
      "2025-01-02   99.599545     129  2025      1          3      False\n",
      "2025-01-03  100.871823     162  2025      1          4      False\n",
      "2025-01-04  100.376143     198  2025      1          5       True\n",
      "2025-01-05   98.927502     161  2025      1          6       True\n"
     ]
    }
   ],
   "source": [
    "# 9.2 Date/time operations\n",
    "print(\"\\n9.2 Date/Time Operations\")\n",
    "ts_data['Year'] = ts_data.index.year\n",
    "ts_data['Month'] = ts_data.index.month\n",
    "ts_data['DayOfWeek'] = ts_data.index.dayofweek\n",
    "ts_data['IsWeekend'] = ts_data.index.dayofweek >= 5\n",
    "\n",
    "print(\"With date components:\")\n",
    "print(ts_data.head())"
   ]
  },
  {
   "cell_type": "code",
   "execution_count": 122,
   "id": "c360bc39",
   "metadata": {},
   "outputs": [
    {
     "name": "stdout",
     "output_type": "stream",
     "text": [
      "\n",
      "9.3 Resampling\n",
      "Monthly averages:\n",
      "Date\n",
      "2025-01-31    100.271507\n",
      "2025-02-28    100.055368\n",
      "2025-03-31     95.076172\n",
      "2025-04-30     93.839720\n",
      "2025-05-31     98.645305\n",
      "Freq: ME, Name: Value, dtype: float64\n",
      "\n",
      "Weekly volume sums:\n",
      "Date\n",
      "2025-01-05    842\n",
      "2025-01-12    906\n",
      "2025-01-19    843\n",
      "2025-01-26    877\n",
      "2025-02-02    878\n",
      "Freq: W-SUN, Name: Volume, dtype: int32\n"
     ]
    }
   ],
   "source": [
    "# 9.3 Resampling\n",
    "print(\"\\n9.3 Resampling\")\n",
    "monthly_avg = ts_data.resample('M')['Value'].mean()\n",
    "print(\"Monthly averages:\")\n",
    "print(monthly_avg.head())\n",
    "\n",
    "weekly_sum = ts_data.resample('W')['Volume'].sum()\n",
    "print(\"\\nWeekly volume sums:\")\n",
    "print(weekly_sum.head())"
   ]
  },
  {
   "cell_type": "code",
   "execution_count": 123,
   "id": "776f1db9",
   "metadata": {},
   "outputs": [
    {
     "name": "stdout",
     "output_type": "stream",
     "text": [
      "\n",
      "9.4 Rolling Operations\n",
      "With rolling statistics:\n",
      "                 Value   Value_MA7  Value_MA30  Value_Std7\n",
      "Date                                                      \n",
      "2025-01-01  100.740777         NaN         NaN         NaN\n",
      "2025-01-02   99.599545         NaN         NaN         NaN\n",
      "2025-01-03  100.871823         NaN         NaN         NaN\n",
      "2025-01-04  100.376143         NaN         NaN         NaN\n",
      "2025-01-05   98.927502         NaN         NaN         NaN\n",
      "2025-01-06   97.750639         NaN         NaN         NaN\n",
      "2025-01-07   97.678452   99.420697         NaN    1.345424\n",
      "2025-01-08   98.466658   99.095823         NaN    1.244305\n",
      "2025-01-09   98.273863   98.906440         NaN    1.255693\n",
      "2025-01-10   99.537931   98.715884         NaN    0.978303\n",
      "2025-01-11   98.138847   98.396270         NaN    0.658775\n",
      "2025-01-12   98.678579   98.360710         NaN    0.631472\n",
      "2025-01-13   98.959564   98.533413         NaN    0.601415\n",
      "2025-01-14  100.389588   98.920718         NaN    0.799436\n",
      "2025-01-15  100.868191   99.263795         NaN    1.048583\n",
      "2025-01-16  101.538823   99.730217         NaN    1.242987\n",
      "2025-01-17  102.421246  100.142120         NaN    1.596199\n",
      "2025-01-18  101.804131  100.665732         NaN    1.421097\n",
      "2025-01-19  101.897615  101.125594         NaN    1.169441\n",
      "2025-01-20  101.257758  101.453907         NaN    0.680294\n",
      "2025-01-21  101.350268  101.591147         NaN    0.503806\n",
      "2025-01-22  100.212712  101.497508         NaN    0.687867\n",
      "2025-01-23  100.912235  101.407995         NaN    0.721539\n",
      "2025-01-24  100.261067  101.099398         NaN    0.676493\n",
      "2025-01-25  101.921595  101.116179         NaN    0.698002\n",
      "2025-01-26  101.311810  101.032492         NaN    0.619388\n",
      "2025-01-27  100.208114  100.882543         NaN    0.679866\n",
      "2025-01-28  100.813146  100.805811         NaN    0.647835\n",
      "2025-01-29  100.279044  100.815287         NaN    0.638126\n",
      "2025-01-30  101.239446  100.862032  100.222904    0.658084\n",
      "2025-01-31  101.729620  101.071825  100.255865    0.668569\n",
      "2025-02-01  102.098925  101.097158  100.339178    0.708312\n",
      "2025-02-02  102.376703  101.249285  100.389340    0.860174\n",
      "2025-02-03  102.043375  101.511465  100.444915    0.764283\n",
      "2025-02-04  102.250907  101.716860  100.555695    0.738081\n"
     ]
    }
   ],
   "source": [
    "# 9.4 Rolling operations\n",
    "print(\"\\n9.4 Rolling Operations\")\n",
    "ts_data['Value_MA7'] = ts_data['Value'].rolling(window=7).mean()\n",
    "ts_data['Value_MA30'] = ts_data['Value'].rolling(window=30).mean()\n",
    "ts_data['Value_Std7'] = ts_data['Value'].rolling(window=7).std()\n",
    "\n",
    "print(\"With rolling statistics:\")\n",
    "print(ts_data[['Value', 'Value_MA7', 'Value_MA30', 'Value_Std7']].head(35))"
   ]
  },
  {
   "cell_type": "code",
   "execution_count": 124,
   "id": "c1cfe083",
   "metadata": {},
   "outputs": [
    {
     "name": "stdout",
     "output_type": "stream",
     "text": [
      "\n",
      "10.1 Window Functions\n",
      "Window functions:\n",
      "  Group  Value  Cumulative_Sum  Rank  Pct_Change\n",
      "0     A     10              10   1.0         NaN\n",
      "1     A     20              30   2.0    1.000000\n",
      "2     A     30              60   3.0    0.500000\n",
      "3     B     15              15   1.0         NaN\n",
      "4     B     25              40   2.0    0.666667\n",
      "5     B     35              75   3.0    0.400000\n"
     ]
    }
   ],
   "source": [
    "\n",
    "# ========================================================================\n",
    "# SECTION 10: ADVANCED OPERATIONS\n",
    "# ========================================================================\n",
    "\n",
    "# 10.1 Window functions\n",
    "print(\"\\n10.1 Window Functions\")\n",
    "df_window = pd.DataFrame({\n",
    "    'Group': ['A', 'A', 'A', 'B', 'B', 'B'],\n",
    "    'Value': [10, 20, 30, 15, 25, 35]\n",
    "})\n",
    "\n",
    "df_window['Cumulative_Sum'] = df_window.groupby('Group')['Value'].cumsum()\n",
    "df_window['Rank'] = df_window.groupby('Group')['Value'].rank()\n",
    "df_window['Pct_Change'] = df_window.groupby('Group')['Value'].pct_change()\n",
    "\n",
    "print(\"Window functions:\")\n",
    "print(df_window)"
   ]
  },
  {
   "cell_type": "code",
   "execution_count": 125,
   "id": "1895c57a",
   "metadata": {},
   "outputs": [
    {
     "name": "stdout",
     "output_type": "stream",
     "text": [
      "\n",
      "10.2 Categorical Data (Metal Grades)\n",
      "Ordered categorical data (Metal Grades):\n",
      "    Grade  Score\n",
      "5   A5052     65\n",
      "2   A6061     78\n",
      "6   A6061     80\n",
      "3  SUS430     82\n",
      "1  SUS316     88\n",
      "4  SUS316     87\n",
      "0  SUS304     95\n",
      "7  SUS304     94\n"
     ]
    }
   ],
   "source": [
    "# 10.2 Working with categorical data\n",
    "print(\"\\n10.2 Categorical Data (Metal Grades)\")\n",
    "df_cat = pd.DataFrame({\n",
    "    'Grade': ['SUS304', 'SUS316', 'A6061', 'SUS430', 'SUS316', 'A5052', 'A6061', 'SUS304'],\n",
    "    'Score': [95, 88, 78, 82, 87, 65, 80, 94]\n",
    "})\n",
    "\n",
    "# Convert to categorical with order (based on quality, e.g., corrosion resistance or strength)\n",
    "df_cat['Grade'] = pd.Categorical(df_cat['Grade'], \n",
    "                                categories=['A5052', 'A6061', 'SUS430', 'SUS316', 'SUS304'], \n",
    "                                ordered=True)\n",
    "print(\"Ordered categorical data (Metal Grades):\")\n",
    "print(df_cat.sort_values('Grade'))"
   ]
  },
  {
   "cell_type": "code",
   "execution_count": 126,
   "id": "bc179635",
   "metadata": {},
   "outputs": [
    {
     "name": "stdout",
     "output_type": "stream",
     "text": [
      "\n",
      "10.3 MultiIndex Operations\n",
      "MultiIndex DataFrame:\n",
      "                Value1    Value2\n",
      "First Second                    \n",
      "A     X       0.362838  1.669642\n",
      "      Y      -0.759684 -0.461479\n",
      "B     X       0.818090 -0.887085\n",
      "      Y       1.152942  1.096239\n",
      "\n",
      "Accessing level 'A':\n",
      "          Value1    Value2\n",
      "Second                    \n",
      "X       0.362838  1.669642\n",
      "Y      -0.759684 -0.461479\n"
     ]
    }
   ],
   "source": [
    "# 10.3 MultiIndex operations\n",
    "print(\"\\n10.3 MultiIndex Operations\")\n",
    "arrays = [\n",
    "    ['A', 'A', 'B', 'B'],\n",
    "    ['X', 'Y', 'X', 'Y']\n",
    "]\n",
    "tuples = list(zip(*arrays))\n",
    "index = pd.MultiIndex.from_tuples(tuples, names=['First', 'Second'])\n",
    "\n",
    "df_multi = pd.DataFrame(np.random.randn(4, 2), index=index, columns=['Value1', 'Value2'])\n",
    "print(\"MultiIndex DataFrame:\")\n",
    "print(df_multi)\n",
    "\n",
    "print(\"\\nAccessing level 'A':\")\n",
    "print(df_multi.loc['A'])"
   ]
  },
  {
   "cell_type": "code",
   "execution_count": 127,
   "id": "d1eeab9a",
   "metadata": {},
   "outputs": [
    {
     "name": "stdout",
     "output_type": "stream",
     "text": [
      "\n",
      "10.4 Performance Optimization Examples\n",
      "\n",
      "# Use vectorized operations instead of loops\n",
      "df['new_col'] = df['col1'] * df['col2']  # Good\n",
      "# df['new_col'] = df.apply(lambda x: x['col1'] * x['col2'], axis=1)  # Slower\n",
      "\n",
      "# Use loc/iloc for specific indexing\n",
      "df.loc[df['col'] > 5, 'new_col'] = 'High'  # Good\n",
      "\n",
      "# Use query for complex filtering\n",
      "df.query('col1 > 5 and col2 < 10')  # Often faster than boolean indexing\n",
      "\n",
      "# Use categorical for repeated string data\n",
      "df['category'] = df['category'].astype('category')\n",
      "\n",
      "# Use appropriate data types\n",
      "df['int_col'] = df['int_col'].astype('int32')  # Instead of int64 if possible\n",
      "\n"
     ]
    }
   ],
   "source": [
    "# 10.4 Performance optimization tips\n",
    "print(\"\\n10.4 Performance Optimization Examples\")\n",
    "print(\"\"\"\n",
    "# Use vectorized operations instead of loops\n",
    "df['new_col'] = df['col1'] * df['col2']  # Good\n",
    "# df['new_col'] = df.apply(lambda x: x['col1'] * x['col2'], axis=1)  # Slower\n",
    "\n",
    "# Use loc/iloc for specific indexing\n",
    "df.loc[df['col'] > 5, 'new_col'] = 'High'  # Good\n",
    "\n",
    "# Use query for complex filtering\n",
    "df.query('col1 > 5 and col2 < 10')  # Often faster than boolean indexing\n",
    "\n",
    "# Use categorical for repeated string data\n",
    "df['category'] = df['category'].astype('category')\n",
    "\n",
    "# Use appropriate data types\n",
    "df['int_col'] = df['int_col'].astype('int32')  # Instead of int64 if possible\n",
    "\"\"\")"
   ]
  },
  {
   "cell_type": "code",
   "execution_count": 128,
   "id": "25e156eb",
   "metadata": {},
   "outputs": [
    {
     "data": {
      "text/plain": [
       "<Axes: title={'center': 'Sales'}>"
      ]
     },
     "execution_count": 128,
     "metadata": {},
     "output_type": "execute_result"
    },
    {
     "data": {
      "image/png": "[encoded data removed]",
      "text/plain": [
       "<Figure size 640x480 with 1 Axes>"
      ]
     },
     "metadata": {},
     "output_type": "display_data"
    },
    {
     "data": {
      "image/png": "[encoded data removed]",
      "text/plain": [
       "<Figure size 640x480 with 2 Axes>"
      ]
     },
     "metadata": {},
     "output_type": "display_data"
    }
   ],
   "source": [
    "# 11.1 Basic Plotting Examples\n",
    "\n",
    "# Line plot\n",
    "#plot_data.plot(x='x', y=['y1', 'y2'], kind='line', title='Line Plot')\n",
    "\n",
    "# Bar plot\n",
    "df_employees.plot(x='Name', y='Salary', kind='bar', title='Salary by Employee')\n",
    "\n",
    "# Histogram\n",
    "df_employees['Age'].plot(kind='hist', bins=10, title='Age Distribution')\n",
    "\n",
    "# Box plot\n",
    "sales_data.boxplot(column='Sales', by='Product')\n",
    "\n",
    "# Scatter plot\n",
    "# plot_data.plot(x='y1', y='y2', kind='scatter', title='Scatter Plot')\n",
    "\n",
    "# Correlation heatmap (using seaborn)\n",
    "import seaborn as sns\n",
    "numeric_data = df_employees.select_dtypes(include=[np.number])\n",
    "sns.heatmap(numeric_data.corr(), annot=True)"
   ]
  },
  {
   "cell_type": "code",
   "execution_count": 129,
   "id": "50b98a7f",
   "metadata": {},
   "outputs": [
    {
     "name": "stdout",
     "output_type": "stream",
     "text": [
      "\n",
      "12.1 Feature Engineering (AI Model Characteristics)\n",
      "AI Model Data:\n",
      "   ModelSize_MB  TrainingTime_Hrs  DatasetSize_GB  Accuracy\n",
      "0           100                 2               1      0.85\n",
      "1           500                 5               5      0.88\n",
      "2          1000                 8              10      0.90\n",
      "3          2000                12              20      0.92\n",
      "4          5000                15              50      0.94\n",
      "5         10000                20             100      0.95\n"
     ]
    }
   ],
   "source": [
    "# ========================================================================\n",
    "# SECTION 12: MACHINE LEARNING PREPROCESSING WITH PANDAS\n",
    "# ========================================================================\n",
    "\n",
    "# 12.1 Feature Engineering\n",
    "print(\"\\n12.1 Feature Engineering (AI Model Characteristics)\")\n",
    "\n",
    "ml_data = pd.DataFrame({\n",
    "    'ModelSize_MB': [100, 500, 1000, 2000, 5000, 10000],  # Model size in megabytes\n",
    "    'TrainingTime_Hrs': [2, 5, 8, 12, 15, 20],           # Training time in hours\n",
    "    'DatasetSize_GB': [1, 5, 10, 20, 50, 100],           # Dataset size in gigabytes\n",
    "    'Accuracy': [0.85, 0.88, 0.90, 0.92, 0.94, 0.95]     # Model accuracy (0 to 1)\n",
    "})\n",
    "\n",
    "print(\"AI Model Data:\")\n",
    "print(ml_data)"
   ]
  },
  {
   "cell_type": "code",
   "execution_count": 131,
   "id": "fe5da53b",
   "metadata": {},
   "outputs": [
    {
     "name": "stdout",
     "output_type": "stream",
     "text": [
      "Feature engineered AI model data:\n",
      "   ModelSize_MB  TrainingTime_Hrs  DatasetSize_GB  Accuracy  \\\n",
      "0           100                 2               1      0.85   \n",
      "1           500                 5               5      0.88   \n",
      "2          1000                 8              10      0.90   \n",
      "3          2000                12              20      0.92   \n",
      "4          5000                15              50      0.94   \n",
      "5         10000                20             100      0.95   \n",
      "\n",
      "   SizePerTrainingHour PerformanceGroup DataSizeGroup  DataSize_Small  \\\n",
      "0            50.000000             Good         Small            True   \n",
      "1           100.000000           Better         Small            True   \n",
      "2           125.000000           Better        Medium           False   \n",
      "3           166.666667           Better        Medium           False   \n",
      "4           333.333333             Best         Large           False   \n",
      "5           500.000000             Best         Large           False   \n",
      "\n",
      "   DataSize_Medium  DataSize_Large  \n",
      "0            False           False  \n",
      "1            False           False  \n",
      "2             True           False  \n",
      "3             True           False  \n",
      "4            False            True  \n",
      "5            False            True  \n"
     ]
    }
   ],
   "source": [
    "# Create new features\n",
    "ml_data['SizePerTrainingHour'] = ml_data['ModelSize_MB'] / ml_data['TrainingTime_Hrs']  # Model size per training hour\n",
    "ml_data['PerformanceGroup'] = pd.cut(ml_data['Accuracy'], \n",
    "                                     bins=[0, 0.87, 0.92, 1.0], \n",
    "                                     labels=['Good', 'Better', 'Best'])  # Categorize accuracy\n",
    "\n",
    "# One-hot encoding for DatasetSize_GB (binned for categorical)\n",
    "ml_data['DataSizeGroup'] = pd.cut(ml_data['DatasetSize_GB'], \n",
    "                                  bins=[0, 5, 20, 100], \n",
    "                                  labels=['Small', 'Medium', 'Large'])\n",
    "data_dummies = pd.get_dummies(ml_data['DataSizeGroup'], prefix='DataSize')\n",
    "ml_data = pd.concat([ml_data, data_dummies], axis=1)\n",
    "\n",
    "print(\"Feature engineered AI model data:\")\n",
    "print(ml_data)"
   ]
  },
  {
   "cell_type": "code",
   "execution_count": 133,
   "id": "e2964f41",
   "metadata": {},
   "outputs": [
    {
     "name": "stdout",
     "output_type": "stream",
     "text": [
      "\n",
      "12.2 Train-Test Split Preparation (AI Model Characteristics)\n",
      "Training features (encoded):\n",
      "   ModelSize_MB  TrainingTime_Hrs  DatasetSize_GB  SizePerTrainingHour  \\\n",
      "5         10000                20             100           500.000000   \n",
      "2          1000                 8              10           125.000000   \n",
      "4          5000                15              50           333.333333   \n",
      "3          2000                12              20           166.666667   \n",
      "\n",
      "   DataSize_Small  DataSize_Medium  DataSize_Large  \n",
      "5           False            False            True  \n",
      "2           False             True           False  \n",
      "4           False            False            True  \n",
      "3           False             True           False  \n",
      "\n",
      "Test features (encoded):\n",
      "   ModelSize_MB  TrainingTime_Hrs  DatasetSize_GB  SizePerTrainingHour  \\\n",
      "0           100                 2               1                 50.0   \n",
      "1           500                 5               5                100.0   \n",
      "\n",
      "   DataSize_Small  DataSize_Medium  DataSize_Large  \n",
      "0            True            False           False  \n",
      "1            True            False           False  \n",
      "\n",
      "Training target:\n",
      "5    0.95\n",
      "2    0.90\n",
      "4    0.94\n",
      "3    0.92\n",
      "Name: Accuracy, dtype: float64\n",
      "\n",
      "Test target:\n",
      "0    0.85\n",
      "1    0.88\n",
      "Name: Accuracy, dtype: float64\n"
     ]
    }
   ],
   "source": [
    "# 12.2 Train-Test Split Preparation (AI Model Characteristics)\n",
    "print(\"\\n12.2 Train-Test Split Preparation (AI Model Characteristics)\")\n",
    "from sklearn.model_selection import train_test_split\n",
    "\n",
    "# Create DataFrame with AI model characteristics (from 12.1 alternative version)\n",
    "ml_data = pd.DataFrame({\n",
    "    'ModelSize_MB': [100, 500, 1000, 2000, 5000, 10000],\n",
    "    'TrainingTime_Hrs': [2, 5, 8, 12, 15, 20],\n",
    "    'DatasetSize_GB': [1, 5, 10, 20, 50, 100],\n",
    "    'Accuracy': [0.85, 0.88, 0.90, 0.92, 0.94, 0.95]\n",
    "})\n",
    "\n",
    "# Create DataFrame with AI model characteristics (from 12.1 alternative version)\n",
    "ml_data = pd.DataFrame({\n",
    "    'ModelSize_MB': [100, 500, 1000, 2000, 5000, 10000],\n",
    "    'TrainingTime_Hrs': [2, 5, 8, 12, 15, 20],\n",
    "    'DatasetSize_GB': [1, 5, 10, 20, 50, 100],\n",
    "    'Accuracy': [0.85, 0.88, 0.90, 0.92, 0.94, 0.95]\n",
    "})\n",
    "\n",
    "# Feature engineering (from 12.1)\n",
    "ml_data['SizePerTrainingHour'] = ml_data['ModelSize_MB'] / ml_data['TrainingTime_Hrs']  # Model efficiency\n",
    "ml_data['PerformanceGroup'] = pd.cut(ml_data['Accuracy'], \n",
    "                                     bins=[0, 0.87, 0.92, 1.0], \n",
    "                                     labels=['Good', 'Better', 'Best'])  # Categorize accuracy\n",
    "ml_data['DataSizeGroup'] = pd.cut(ml_data['DatasetSize_GB'], \n",
    "                                  bins=[0, 5, 20, 100], \n",
    "                                  labels=['Small', 'Medium', 'Large'])\n",
    "data_dummies = pd.get_dummies(ml_data['DataSizeGroup'], prefix='DataSize')\n",
    "ml_data = pd.concat([ml_data, data_dummies], axis=1)\n",
    "\n",
    "# Separate features and target (Accuracy as target)\n",
    "X = ml_data.drop(['Accuracy', 'PerformanceGroup', 'DataSizeGroup'], axis=1)  # Features (exclude categorical for simplicity)\n",
    "y = ml_data['Accuracy']  # Target\n",
    "\n",
    "# Split the data\n",
    "X_train, X_test, y_train, y_test = train_test_split(X, y, test_size=0.2, random_state=42)\n",
    "\n",
    "# Handle categorical variables (encode dummy columns)\n",
    "X_train_encoded = pd.get_dummies(X_train)\n",
    "X_test_encoded = pd.get_dummies(X_test)\n",
    "\n",
    "# Ensure both sets have same columns\n",
    "X_train_encoded, X_test_encoded = X_train_encoded.align(X_test_encoded, join='left', axis=1, fill_value=0)\n",
    "\n",
    "print(\"Training features (encoded):\")\n",
    "print(X_train_encoded)\n",
    "print(\"\\nTest features (encoded):\")\n",
    "print(X_test_encoded)\n",
    "print(\"\\nTraining target:\")\n",
    "print(y_train)\n",
    "print(\"\\nTest target:\")\n",
    "print(y_test)"
   ]
  },
  {
   "cell_type": "code",
   "execution_count": 134,
   "id": "7d43c07c",
   "metadata": {},
   "outputs": [
    {
     "name": "stdout",
     "output_type": "stream",
     "text": [
      "\n",
      "12.3 Scaling and Normalization\n",
      "Original vs Scaled data:\n",
      "Original:\n",
      "   TrainingTime_Hrs  ModelSize_MB  DatasetSize_GB\n",
      "0                 2           100               1\n",
      "1                 5           500               5\n",
      "2                 8          1000              10\n",
      "3                12          2000              20\n",
      "4                15          5000              50\n",
      "\n",
      "Scaled:\n",
      "   TrainingTime_Hrs  ModelSize_MB  DatasetSize_GB\n",
      "0         -1.372053     -0.862439       -0.862439\n",
      "1         -0.878114     -0.747447       -0.747447\n",
      "2         -0.384175     -0.603708       -0.603708\n",
      "3          0.274411     -0.316228       -0.316228\n",
      "4          0.768350      0.546212        0.546212\n"
     ]
    }
   ],
   "source": [
    "# 12.3 Scaling and normalization\n",
    "print(\"\\n12.3 Scaling and Normalization\")\n",
    "from sklearn.preprocessing import StandardScaler, MinMaxScaler\n",
    "\n",
    "# Demonstrate scaling\n",
    "scaler = StandardScaler()\n",
    "numeric_cols = ['TrainingTime_Hrs', 'ModelSize_MB', 'DatasetSize_GB']\n",
    "ml_data_scaled = ml_data.copy()\n",
    "ml_data_scaled[numeric_cols] = scaler.fit_transform(ml_data[numeric_cols])\n",
    "\n",
    "print(\"Original vs Scaled data:\")\n",
    "print(\"Original:\")\n",
    "print(ml_data[numeric_cols].head())\n",
    "print(\"\\nScaled:\")\n",
    "print(ml_data_scaled[numeric_cols].head())"
   ]
  },
  {
   "cell_type": "code",
   "execution_count": null,
   "id": "5f3eb9f7",
   "metadata": {},
   "outputs": [
    {
     "name": "stdout",
     "output_type": "stream",
     "text": [
      "\n",
      "# Check memory usage\n",
      "df.info(memory_usage='deep')\n",
      "\n",
      "# Optimize data types\n",
      "df['int_col'] = df['int_col'].astype('int32')  # If values fit\n",
      "df['float_col'] = df['float_col'].astype('float32')  # If precision allows\n",
      "df['string_col'] = df['string_col'].astype('category')  # For repeated strings\n",
      "\n",
      "# Use sparse arrays for mostly zero data\n",
      "df['sparse_col'] = df['mostly_zero_col'].astype(pd.SparseDtype(\"float\", 0.0))\n",
      "\n",
      "<class 'pandas.core.frame.DataFrame'>\n",
      "RangeIndex: 6 entries, 0 to 5\n",
      "Data columns (total 10 columns):\n",
      " #   Column               Non-Null Count  Dtype   \n",
      "---  ------               --------------  -----   \n",
      " 0   ModelSize_MB         6 non-null      int64   \n",
      " 1   TrainingTime_Hrs     6 non-null      int64   \n",
      " 2   DatasetSize_GB       6 non-null      int64   \n",
      " 3   Accuracy             6 non-null      float64 \n",
      " 4   SizePerTrainingHour  6 non-null      float64 \n",
      " 5   PerformanceGroup     6 non-null      category\n",
      " 6   DataSizeGroup        6 non-null      category\n",
      " 7   DataSize_Small       6 non-null      bool    \n",
      " 8   DataSize_Medium      6 non-null      bool    \n",
      " 9   DataSize_Large       6 non-null      bool    \n",
      "dtypes: bool(3), category(2), float64(2), int64(3)\n",
      "memory usage: 942.0 bytes\n"
     ]
    }
   ],
   "source": [
    "# ========================================================================\n",
    "# SECTION 13: PERFORMANCE OPTIMIZATION AND BEST PRACTICES\n",
    "# ========================================================================\n",
    "\n",
    "# 13.1 Memory Optimization\n",
    "print(\"\"\"\n",
    "# Check memory usage\n",
    "df.info(memory_usage='deep')\n",
    "\n",
    "# Optimize data types\n",
    "df['int_col'] = df['int_col'].astype('int32')  # If values fit\n",
    "df['float_col'] = df['float_col'].astype('float32')  # If precision allows\n",
    "df['string_col'] = df['string_col'].astype('category')  # For repeated strings\n",
    "\n",
    "# Use sparse arrays for mostly zero data\n",
    "df['sparse_col'] = df['mostly_zero_col'].astype(pd.SparseDtype(\"float\", 0.0))\n",
    "\"\"\")\n",
    "\n",
    "ml_data.info(memory_usage='deep')"
   ]
  },
  {
   "cell_type": "code",
   "execution_count": 137,
   "id": "05412b36",
   "metadata": {},
   "outputs": [
    {
     "name": "stdout",
     "output_type": "stream",
     "text": [
      "\n",
      "# Use vectorized operations\n",
      "df['result'] = df['col1'] * df['col2']  # Fast\n",
      "# Avoid: df['result'] = df.apply(lambda x: x['col1'] * x['col2'], axis=1)  # Slow\n",
      "\n",
      "# Use loc/iloc for indexing\n",
      "df.loc[mask, 'col'] = value  # Fast\n",
      "# Avoid: df[mask]['col'] = value  # Can be problematic\n",
      "\n",
      "# Use query for complex filtering\n",
      "result = df.query('col1 > 5 and col2 < 10 and col3 == \"value\"')  # Often faster\n",
      "\n",
      "# Chain operations efficiently\n",
      "result = (df\n",
      "    .query('sales > 1000')\n",
      "    .groupby('category')\n",
      "    .agg({'sales': 'sum', 'quantity': 'mean'})\n",
      "    .sort_values('sales', ascending=False)\n",
      ")\n",
      "\n"
     ]
    }
   ],
   "source": [
    "# 13.2 Efficient Operations\n",
    "print(\"\"\"\n",
    "# Use vectorized operations\n",
    "df['result'] = df['col1'] * df['col2']  # Fast\n",
    "# Avoid: df['result'] = df.apply(lambda x: x['col1'] * x['col2'], axis=1)  # Slow\n",
    "\n",
    "# Use loc/iloc for indexing\n",
    "df.loc[mask, 'col'] = value  # Fast\n",
    "# Avoid: df[mask]['col'] = value  # Can be problematic\n",
    "\n",
    "# Use query for complex filtering\n",
    "result = df.query('col1 > 5 and col2 < 10 and col3 == \"value\"')  # Often faster\n",
    "\n",
    "# Chain operations efficiently\n",
    "result = (df\n",
    "    .query('sales > 1000')\n",
    "    .groupby('category')\n",
    "    .agg({'sales': 'sum', 'quantity': 'mean'})\n",
    "    .sort_values('sales', ascending=False)\n",
    ")\n",
    "\"\"\")"
   ]
  },
  {
   "cell_type": "code",
   "execution_count": 138,
   "id": "514d20b8",
   "metadata": {},
   "outputs": [
    {
     "name": "stdout",
     "output_type": "stream",
     "text": [
      "\n",
      "# Read large files in chunks\n",
      "chunk_size = 10000\n",
      "chunks = []\n",
      "for chunk in pd.read_csv('large_file.csv', chunksize=chunk_size):\n",
      "    # Process each chunk\n",
      "    processed_chunk = chunk.groupby('category').sum()\n",
      "    chunks.append(processed_chunk)\n",
      "result = pd.concat(chunks, ignore_index=True)\n",
      "\n",
      "# Specify data types when reading\n",
      "dtypes = {'col1': 'int32', 'col2': 'category', 'col3': 'float32'}\n",
      "df = pd.read_csv('file.csv', dtype=dtypes)\n",
      "\n",
      "# Read only necessary columns\n",
      "df = pd.read_csv('file.csv', usecols=['col1', 'col2', 'col3'])\n",
      "\n"
     ]
    }
   ],
   "source": [
    "# 13.3 Memory-Efficient Data Loading\n",
    "print(\"\"\"\n",
    "# Read large files in chunks\n",
    "chunk_size = 10000\n",
    "chunks = []\n",
    "for chunk in pd.read_csv('large_file.csv', chunksize=chunk_size):\n",
    "    # Process each chunk\n",
    "    processed_chunk = chunk.groupby('category').sum()\n",
    "    chunks.append(processed_chunk)\n",
    "result = pd.concat(chunks, ignore_index=True)\n",
    "\n",
    "# Specify data types when reading\n",
    "dtypes = {'col1': 'int32', 'col2': 'category', 'col3': 'float32'}\n",
    "df = pd.read_csv('file.csv', dtype=dtypes)\n",
    "\n",
    "# Read only necessary columns\n",
    "df = pd.read_csv('file.csv', usecols=['col1', 'col2', 'col3'])\n",
    "\"\"\")"
   ]
  },
  {
   "cell_type": "code",
   "execution_count": 139,
   "id": "0a9bf8e9",
   "metadata": {},
   "outputs": [
    {
     "name": "stdout",
     "output_type": "stream",
     "text": [
      "\n",
      "14.1 Conditional Operations\n",
      "Conditional operations result:\n",
      "   score  subject grade   excellence\n",
      "0     85     Math     B         Good\n",
      "1     92  Science     A         Good\n",
      "2     78     Math     C         Good\n",
      "3     96  Science     A  Outstanding\n",
      "4     88     Math     B         Good\n",
      "5     71  Science     C         Good\n",
      "6     94     Math     A         Good\n"
     ]
    }
   ],
   "source": [
    "# ========================================================================\n",
    "# SECTION 14: COMMON PANDAS PATTERNS AND TRICKS\n",
    "# ========================================================================\n",
    "\n",
    "# 14.1 Conditional operations\n",
    "print(\"\\n14.1 Conditional Operations\")\n",
    "sample_df = pd.DataFrame({\n",
    "    'score': [85, 92, 78, 96, 88, 71, 94],\n",
    "    'subject': ['Math', 'Science', 'Math', 'Science', 'Math', 'Science', 'Math']\n",
    "})\n",
    "\n",
    "# Using np.where\n",
    "sample_df['grade'] = np.where(sample_df['score'] >= 90, 'A',\n",
    "                     np.where(sample_df['score'] >= 80, 'B',\n",
    "                     np.where(sample_df['score'] >= 70, 'C', 'F')))\n",
    "\n",
    "# Using loc for conditional assignment\n",
    "sample_df.loc[sample_df['score'] >= 95, 'excellence'] = 'Outstanding'\n",
    "sample_df.loc[sample_df['score'] < 95, 'excellence'] = 'Good'\n",
    "\n",
    "print(\"Conditional operations result:\")\n",
    "print(sample_df)"
   ]
  },
  {
   "cell_type": "code",
   "execution_count": 140,
   "id": "17207f19",
   "metadata": {},
   "outputs": [
    {
     "name": "stdout",
     "output_type": "stream",
     "text": [
      "\n",
      "14.2 Advanced Duplicate Handling\n",
      "Original data with duplicates:\n",
      "      name  age     city\n",
      "0    Alice   25       NY\n",
      "1      Bob   30       LA\n",
      "2    Alice   25       NY\n",
      "3  Charlie   35  Chicago\n",
      "4      Bob   31       LA\n",
      "\n",
      "Keep last duplicate:\n",
      "      name  age     city\n",
      "2    Alice   25       NY\n",
      "3  Charlie   35  Chicago\n",
      "4      Bob   31       LA\n",
      "\n",
      "Duplicate rows:\n",
      "    name  age city\n",
      "0  Alice   25   NY\n",
      "1    Bob   30   LA\n",
      "2  Alice   25   NY\n",
      "4    Bob   31   LA\n"
     ]
    }
   ],
   "source": [
    "# 14.2 Working with duplicates advanced\n",
    "print(\"\\n14.2 Advanced Duplicate Handling\")\n",
    "df_dupes = pd.DataFrame({\n",
    "    'name': ['Alice', 'Bob', 'Alice', 'Charlie', 'Bob'],\n",
    "    'age': [25, 30, 25, 35, 31],  # Bob has different ages\n",
    "    'city': ['NY', 'LA', 'NY', 'Chicago', 'LA']\n",
    "})\n",
    "\n",
    "print(\"Original data with duplicates:\")\n",
    "print(df_dupes)\n",
    "\n",
    "# Keep last occurrence\n",
    "print(\"\\nKeep last duplicate:\")\n",
    "print(df_dupes.drop_duplicates(subset=['name'], keep='last'))\n",
    "\n",
    "# Find duplicates\n",
    "print(\"\\nDuplicate rows:\")\n",
    "print(df_dupes[df_dupes.duplicated(subset=['name'], keep=False)])"
   ]
  },
  {
   "cell_type": "code",
   "execution_count": 141,
   "id": "871683ea",
   "metadata": {},
   "outputs": [
    {
     "name": "stdout",
     "output_type": "stream",
     "text": [
      "\n",
      "14.3 String Pattern Matching\n",
      "String pattern matching results:\n",
      "                 email           phone       domain phone_clean  is_gmail\n",
      "0      alice@gmail.com    123-456-7890    gmail.com  1234567890      True\n",
      "1        bob@yahoo.com  (555) 123-4567    yahoo.com  5551234567     False\n",
      "2  charlie@company.org    555.123.4567  company.org  5551234567     False\n",
      "3      diana@gmail.com    123 456 7890    gmail.com  1234567890      True\n"
     ]
    }
   ],
   "source": [
    "# 14.3 String pattern matching\n",
    "print(\"\\n14.3 String Pattern Matching\")\n",
    "text_df = pd.DataFrame({\n",
    "    'email': ['alice@gmail.com', 'bob@yahoo.com', 'charlie@company.org', 'diana@gmail.com'],\n",
    "    'phone': ['123-456-7890', '(555) 123-4567', '555.123.4567', '123 456 7890']\n",
    "})\n",
    "\n",
    "# Extract email domains\n",
    "text_df['domain'] = text_df['email'].str.extract(r'@(\\w+\\.\\w+)')\n",
    "\n",
    "# Extract phone numbers (digits only)\n",
    "text_df['phone_clean'] = text_df['phone'].str.replace(r'[^\\d]', '', regex=True)\n",
    "\n",
    "# Check for Gmail users\n",
    "text_df['is_gmail'] = text_df['email'].str.contains('gmail', case=False)\n",
    "\n",
    "print(\"String pattern matching results:\")\n",
    "print(text_df)"
   ]
  },
  {
   "cell_type": "code",
   "execution_count": 142,
   "id": "e66290d3",
   "metadata": {},
   "outputs": [
    {
     "name": "stdout",
     "output_type": "stream",
     "text": [
      "\n",
      "14.4 Working with JSON-like Data\n",
      "Normalized JSON data:\n",
      "      name              skills\n",
      "0    Alice       [Python, SQL]\n",
      "1      Bob  [R, Excel, Python]\n",
      "2  Charlie      [Java, Python]\n",
      "\n",
      "Combined result:\n",
      "   id     name              skills\n",
      "0   1    Alice       [Python, SQL]\n",
      "1   2      Bob  [R, Excel, Python]\n",
      "2   3  Charlie      [Java, Python]\n"
     ]
    }
   ],
   "source": [
    "# 14.4 Working with JSON-like data\n",
    "print(\"\\n14.4 Working with JSON-like Data\")\n",
    "json_data = pd.DataFrame({\n",
    "    'id': [1, 2, 3],\n",
    "    'info': [\n",
    "        {'name': 'Alice', 'skills': ['Python', 'SQL']},\n",
    "        {'name': 'Bob', 'skills': ['R', 'Excel', 'Python']},\n",
    "        {'name': 'Charlie', 'skills': ['Java', 'Python']}\n",
    "    ]\n",
    "})\n",
    "\n",
    "# Normalize JSON data\n",
    "normalized = pd.json_normalize(json_data['info'])\n",
    "print(\"Normalized JSON data:\")\n",
    "print(normalized)\n",
    "\n",
    "# Combine with original DataFrame\n",
    "result = pd.concat([json_data[['id']], normalized], axis=1)\n",
    "print(\"\\nCombined result:\")\n",
    "print(result)"
   ]
  },
  {
   "cell_type": "code",
   "execution_count": null,
   "id": "2ba1b196",
   "metadata": {},
   "outputs": [],
   "source": [
    "# ========================================================================\n",
    "# SECTION 15: PANDAS WITH REAL-WORLD SCENARIOS\n",
    "# ========================================================================"
   ]
  }
 ],
 "metadata": {
  "kernelspec": {
   "display_name": ".venv (3.12.1)",
   "language": "python",
   "name": "python3"
  },
  "language_info": {
   "codemirror_mode": {
    "name": "ipython",
    "version": 3
   },
   "file_extension": ".py",
   "mimetype": "text/x-python",
   "name": "python",
   "nbconvert_exporter": "python",
   "pygments_lexer": "ipython3",
   "version": "3.12.1"
  }
 },
 "nbformat": 4,
 "nbformat_minor": 5
}
