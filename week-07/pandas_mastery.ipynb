{
 "cells": [
  {
   "cell_type": "markdown",
   "id": "1e61c733",
   "metadata": {},
   "source": [
    "# Pandas Mastery Notebook for Data Science & Machine Learning\n",
    "\n",
    "[![Python](https://img.shields.io/badge/Python-3.7%2B-blue.svg)](https://www.python.org/)\n",
    "[![Pandas](https://img.shields.io/badge/Pandas-Latest-green.svg)](https://pandas.pydata.org/)\n",
    "[![License](https://img.shields.io/badge/License-MIT-yellow.svg)](https://opensource.org/licenses/MIT)\n",
    "\n",
    "## 🗂️ Table of Contents\n",
    "\n",
    "| Section | Topic | Difficulty | Key Concepts |\n",
    "|---------|-------|------------|--------------|\n",
    "| [Section 1](#section-1) | Data Creation & Import/Export | Beginner | DataFrame creation, file I/O |\n",
    "| [Section 2](#section-2) | Data Exploration & Inspection | Beginner | info(), describe(), head(), tail() |\n",
    "| [Section 3](#section-3) | Data Selection & Indexing | Beginner | loc, iloc, boolean indexing |\n",
    "| [Section 4](#section-4) | Data Cleaning & Preprocessing | Intermediate | Missing values, duplicates, data types |\n",
    "| [Section 5](#section-5) | Data Transformation & Manipulation | Intermediate | New columns, sorting, ranking |\n",
    "| [Section 6](#section-6) | GroupBy Operations & Aggregations | Intermediate | groupby(), agg(), transform() |\n",
    "| [Section 7](#section-7) | Merging, Joining & Concatenating | Intermediate | merge(), join(), concat() |\n",
    "| [Section 8](#section-8) | Pivot Tables & Reshaping | Advanced | pivot_table(), melt(), stack() |\n",
    "| [Section 9](#section-9) | Time Series Analysis | Advanced | Date operations, resampling, rolling |\n",
    "| [Section 10](#section-10) | Advanced Operations | Advanced | Window functions, MultiIndex |\n",
    "| [Section 11](#section-11) | Data Visualization | Intermediate | Pandas plotting integration |\n",
    "| [Section 12](#section-12) | ML Preprocessing | Advanced | Feature engineering, scaling |\n",
    "| [Section 13](#section-13) | Performance Optimization | Expert | Memory optimization, efficient operations |\n",
    "| [Section 14](#section-14) | Common Patterns & Tricks | Expert | Advanced techniques, best practices |\n",
    "| [Section 15](#section-15) | Real-World Scenarios | Expert | Complete case studies |\n",
    "| [Section 16](#section-16) | Error Handling & Debugging | All Levels | Common errors and solutions |\n",
    "| [Section 17](#section-17) | Library Integration | Advanced | NumPy, Scikit-learn, Matplotlib |\n"
   ]
  },
  {
   "cell_type": "code",
   "execution_count": null,
   "id": "8ad45e1b",
   "metadata": {},
   "outputs": [],
   "source": [
    "# SETUP\n",
    "\n",
    "import pandas as pd\n",
    "import numpy as np\n",
    "import matplotlib.pyplot as plt\n",
    "import seaborn as sns\n",
    "from datetime import datetime, timedelta\n",
    "import warnings\n",
    "warnings.filterwarnings('ignore')\n",
    "\n",
    "# Set display options for better output\n",
    "pd.set_option('display.max_columns', None)\n",
    "pd.set_option('display.width', None)\n",
    "pd.set_option('display.max_colwidth', 50)"
   ]
  },
  {
   "cell_type": "code",
   "execution_count": null,
   "id": "63ef884a",
   "metadata": {},
   "outputs": [],
   "source": [
    "# BUILTIN DATASETS\n",
    "\n",
    "# Iris Dataset from sklearn\n",
    "from sklearn.datasets import load_iris\n",
    "iris_df = pd.DataFrame(load_iris().data, columns=load_iris().feature_names)\n",
    "\n",
    "# Seaborn datasets (instant access)\n",
    "import seaborn as sns\n",
    "tips_df = sns.load_dataset('tips')\n",
    "flights_df = sns.load_dataset('flights')\n",
    "titanic_df = sns.load_dataset('titanic')\n",
    "car_crashes_df = sns.load_dataset('car_crashes')\n",
    "mpg_df = sns.load_dataset('mpg')\n",
    "penguins_df = sns.load_dataset('penguins')"
   ]
  },
  {
   "cell_type": "code",
   "execution_count": null,
   "id": "4c623c7a",
   "metadata": {},
   "outputs": [
    {
     "name": "stdout",
     "output_type": "stream",
     "text": [
      "\n",
      "1.1 Creating DataFrames\n",
      "Employee DataFrame:\n",
      "      Name  Age      City  Salary Department\n",
      "0    Alice   25  New York   50000         IT\n",
      "1      Bob   30    London   60000    Finance\n",
      "2  Charlie   35     Paris   70000         IT\n",
      "3    Diana   28     Tokyo   55000         HR\n",
      "4      Eve   32    Sydney   65000    Finance\n"
     ]
    }
   ],
   "source": [
    "# ========================================================================\n",
    "# SECTION 1: DATA CREATION AND IMPORT/EXPORT\n",
    "# ========================================================================\n",
    "\n",
    "# 1.1 Creating DataFrames from scratch\n",
    "print(\"\\n1.1 Creating DataFrames\")\n",
    "\n",
    "# Dictionary method\n",
    "data_dict = {\n",
    "    'Name': ['Alice', 'Bob', 'Charlie', 'Diana', 'Eve'],\n",
    "    'Age': [25, 30, 35, 28, 32],\n",
    "    'City': ['New York', 'London', 'Paris', 'Tokyo', 'Sydney'],\n",
    "    'Salary': [50000, 60000, 70000, 55000, 65000],\n",
    "    'Department': ['IT', 'Finance', 'IT', 'HR', 'Finance']\n",
    "}\n",
    "df_employees = pd.DataFrame(data_dict)\n",
    "print(\"Employee DataFrame:\")\n",
    "print(df_employees)"
   ]
  },
  {
   "cell_type": "code",
   "execution_count": 9,
   "id": "e8f83ffa",
   "metadata": {},
   "outputs": [
    {
     "name": "stdout",
     "output_type": "stream",
     "text": [
      "\n",
      "1.2 Creating from lists of lists\n",
      "Products DataFrame:\n",
      "     Product  Quantity  Price\n",
      "0  Product A       100  25.50\n",
      "1  Product B       150  30.00\n",
      "2  Product C        75  18.75\n",
      "3  Product D       200  45.00\n"
     ]
    }
   ],
   "source": [
    "# 1.2 Creating from lists\n",
    "print(\"\\n1.2 Creating from lists of lists\")\n",
    "data_list = [\n",
    "    ['Product A', 100, 25.50],\n",
    "    ['Product B', 150, 30.00],\n",
    "    ['Product C', 75, 18.75],\n",
    "    ['Product D', 200, 45.00]\n",
    "]\n",
    "df_products = pd.DataFrame(data_list, columns=['Product', 'Quantity', 'Price'])\n",
    "print(\"Products DataFrame:\")\n",
    "print(df_products)"
   ]
  },
  {
   "cell_type": "code",
   "execution_count": 10,
   "id": "aed9d34b",
   "metadata": {},
   "outputs": [
    {
     "name": "stdout",
     "output_type": "stream",
     "text": [
      "\n",
      "1.3 Creating Series\n",
      "Temperature Series:\n",
      "Mon    20\n",
      "Tue    25\n",
      "Wed    30\n",
      "Thu    35\n",
      "Fri    40\n",
      "Name: Temperature, dtype: int64\n"
     ]
    }
   ],
   "source": [
    "# 1.3 Creating Series\n",
    "print(\"\\n1.3 Creating Series\")\n",
    "s_temperatures = pd.Series([20, 25, 30, 35, 40], \n",
    "                          index=['Mon', 'Tue', 'Wed', 'Thu', 'Fri'],\n",
    "                          name='Temperature')\n",
    "print(\"Temperature Series:\")\n",
    "print(s_temperatures)"
   ]
  },
  {
   "cell_type": "code",
   "execution_count": 11,
   "id": "5dbf0686",
   "metadata": {},
   "outputs": [
    {
     "name": "stdout",
     "output_type": "stream",
     "text": [
      "\n",
      "1.4 Creating date ranges\n",
      "Date DataFrame:\n",
      "        Date     Value\n",
      "0 2024-01-01  0.645777\n",
      "1 2024-01-02  1.638916\n",
      "2 2024-01-03  0.039272\n",
      "3 2024-01-04  0.537486\n",
      "4 2024-01-05 -0.776798\n"
     ]
    }
   ],
   "source": [
    "# 1.4 Date range creation\n",
    "print(\"\\n1.4 Creating date ranges\")\n",
    "date_range = pd.date_range(start='2024-01-01', end='2024-01-10', freq='D')\n",
    "df_dates = pd.DataFrame({'Date': date_range, 'Value': np.random.randn(len(date_range))})\n",
    "print(\"Date DataFrame:\")\n",
    "print(df_dates.head())"
   ]
  },
  {
   "cell_type": "code",
   "execution_count": 12,
   "id": "a2aaf203",
   "metadata": {},
   "outputs": [
    {
     "name": "stdout",
     "output_type": "stream",
     "text": [
      "\n",
      "1.5 File I/O Operations (Examples)\n",
      "\n",
      "# Reading files\n",
      "df = pd.read_csv('data.csv')\n",
      "df = pd.read_excel('data.xlsx', sheet_name='Sheet1')\n",
      "df = pd.read_json('data.json')\n",
      "df = pd.read_sql('SELECT * FROM table', connection)\n",
      "\n",
      "# Writing files\n",
      "df.to_csv('output.csv', index=False)\n",
      "df.to_excel('output.xlsx', index=False, sheet_name='Data')\n",
      "df.to_json('output.json', orient='records')\n",
      "df.to_parquet('output.parquet')\n",
      "\n"
     ]
    }
   ],
   "source": [
    "# 1.5 File operations examples (commented out - requires actual files)\n",
    "print(\"\\n1.5 File I/O Operations (Examples)\")\n",
    "print(\"\"\"\n",
    "# Reading files\n",
    "df = pd.read_csv('data.csv')\n",
    "df = pd.read_excel('data.xlsx', sheet_name='Sheet1')\n",
    "df = pd.read_json('data.json')\n",
    "df = pd.read_sql('SELECT * FROM table', connection)\n",
    "\n",
    "# Writing files\n",
    "df.to_csv('output.csv', index=False)\n",
    "df.to_excel('output.xlsx', index=False, sheet_name='Data')\n",
    "df.to_json('output.json', orient='records')\n",
    "df.to_parquet('output.parquet')\n",
    "\"\"\")"
   ]
  },
  {
   "cell_type": "code",
   "execution_count": 14,
   "id": "8547be35",
   "metadata": {},
   "outputs": [],
   "source": [
    "# Read CSV into a dataframe\n",
    "df_csv = pd.read_csv('data.csv')"
   ]
  },
  {
   "cell_type": "code",
   "execution_count": null,
   "id": "c6622a4f",
   "metadata": {},
   "outputs": [
    {
     "name": "stdout",
     "output_type": "stream",
     "text": [
      "csv:\n",
      "    version    model   year\n",
      "0      1.4   Cicada   2011\n",
      "1      2.9     Newt   2013\n",
      "2      3.1    Oscar   2018\n"
     ]
    }
   ],
   "source": [
    "# Export to JSON\n",
    "df_csv.to_json('output.json', orient='records')\n",
    "print(\"csv:\\n\", df_csv.head())"
   ]
  },
  {
   "cell_type": "code",
   "execution_count": 29,
   "id": "10f11dd5",
   "metadata": {},
   "outputs": [
    {
     "name": "stdout",
     "output_type": "stream",
     "text": [
      "   version    model   year\n",
      "0      1.4   Cicada   2011\n",
      "1      2.9     Newt   2013\n",
      "2      3.1    Oscar   2018\n"
     ]
    }
   ],
   "source": [
    "# https://medium.com/data-engineering-with-dremio/getting-started-with-data-analytics-using-pyarrow-in-python-ac7a100bc569\n",
    "\n",
    "# Export to Parquet\n",
    "df_csv.to_parquet('output.parquet', engine='fastparquet')\n",
    "\n",
    "# Read parquet into dataframe\n",
    "df_parquet = pd.read_parquet('output.parquet', engine='fastparquet')\n",
    "print(df_parquet.head())"
   ]
  },
  {
   "cell_type": "code",
   "execution_count": 22,
   "id": "3f79b8b1",
   "metadata": {},
   "outputs": [
    {
     "name": "stdout",
     "output_type": "stream",
     "text": [
      "json:\n",
      "    version    model   year\n",
      "0      1.4   Cicada   2011\n",
      "1      2.9     Newt   2013\n",
      "2      3.1    Oscar   2018\n"
     ]
    }
   ],
   "source": [
    "# Read JSON into dataframe\n",
    "df_json = pd.read_json('output.json')\n",
    "print(\"json:\\n\", df_json.head())"
   ]
  },
  {
   "cell_type": "code",
   "execution_count": 30,
   "id": "9aef0111",
   "metadata": {},
   "outputs": [
    {
     "name": "stdout",
     "output_type": "stream",
     "text": [
      "             os        hardware_model  ram  speed\n",
      "0  macOS Sonoma        Razer Blade 14    8    3.2\n",
      "1    Windows 11        MacBook Air M2   32    3.6\n",
      "2     Fedora 40        Razer Blade 14   32    4.5\n",
      "3     Debian 12  Acer Predator Helios   64    4.5\n",
      "4  Ubuntu 22.04     Asus ROG Zephyrus    8    3.6\n",
      "5    Windows 11  Acer Predator Helios   16    3.2\n",
      "6    Arch Linux       HP Spectre x360   32    4.0\n",
      "7    Windows 11        Razer Blade 14   64    2.8\n",
      "8  Ubuntu 22.04        Razer Blade 14   32    2.8\n",
      "9    Windows 11  Acer Predator Helios    8    4.5\n"
     ]
    }
   ],
   "source": [
    "# Generate CSV file of popular operating systems and randomized hardware specs\n",
    "import random\n",
    "\n",
    "# Define headers\n",
    "headers = ['os', 'hardware_model', 'ram', 'speed']\n",
    "\n",
    "# Popular operating systems\n",
    "operating_systems = [\n",
    "    'Windows 11', 'Windows 10', 'macOS Ventura', 'macOS Sonoma', 'Ubuntu 22.04',\n",
    "    'Ubuntu 24.04', 'Fedora 40', 'Debian 12', 'Arch Linux', 'Chrome OS'\n",
    "]\n",
    "\n",
    "# Hardware model examples\n",
    "hardware_models = [\n",
    "    'Dell XPS 13', 'HP Spectre x360', 'Lenovo ThinkPad X1', 'MacBook Air M2',\n",
    "    'Asus ROG Zephyrus', 'Acer Predator Helios', 'Surface Laptop 5',\n",
    "    'Framework Laptop', 'MSI Stealth 16', 'Razer Blade 14'\n",
    "]\n",
    "\n",
    "# RAM options (in GB)\n",
    "ram_options = [8, 16, 32, 64]\n",
    "\n",
    "# Speed options (CPU clock speed in GHz)\n",
    "speed_options = [2.4, 2.8, 3.2, 3.6, 4.0, 4.5]\n",
    "\n",
    "# Generate 10 rows of random data\n",
    "os_data = {\n",
    "    'os': [random.choice(operating_systems) for _ in range(10)],\n",
    "    'hardware_model': [random.choice(hardware_models) for _ in range(10)],\n",
    "    'ram': [random.choice(ram_options) for _ in range(10)],\n",
    "    'speed': [random.choice(speed_options) for _ in range(10)]\n",
    "}\n",
    "\n",
    "# Create DataFrame\n",
    "df_stacks = pd.DataFrame(os_data, columns=headers)\n",
    "\n",
    "# Export to CSV\n",
    "df_stacks.to_csv('hardware_specs.csv', index=False)\n",
    "\n",
    "# Display the DataFrame for verification\n",
    "print(df_stacks)"
   ]
  },
  {
   "cell_type": "code",
   "execution_count": 31,
   "id": "b9a73240",
   "metadata": {},
   "outputs": [
    {
     "name": "stdout",
     "output_type": "stream",
     "text": [
      "\n",
      "2.1 Basic DataFrame Information\n",
      "Shape: (5, 5)\n",
      "Columns: ['os', 'hardware_model', 'ram', 'speed']\n",
      "Data types:\n",
      "os                 object\n",
      "hardware_model     object\n",
      "ram                 int64\n",
      "speed             float64\n",
      "dtype: object\n",
      "Memory usage:\n",
      "Index             132\n",
      "os                594\n",
      "hardware_model    652\n",
      "ram                80\n",
      "speed              80\n",
      "dtype: int64\n"
     ]
    }
   ],
   "source": [
    "# ========================================================================\n",
    "# SECTION 2: DATA EXPLORATION AND INSPECTION\n",
    "# ========================================================================\n",
    "\n",
    "# 2.1 Basic Information\n",
    "print(\"\\n2.1 Basic DataFrame Information\")\n",
    "print(f\"Shape: {df_employees.shape}\")\n",
    "print(f\"Columns: {list(df_stacks.columns)}\")\n",
    "print(f\"Data types:\\n{df_stacks.dtypes}\")\n",
    "print(f\"Memory usage:\\n{df_stacks.memory_usage(deep=True)}\")"
   ]
  },
  {
   "cell_type": "code",
   "execution_count": 32,
   "id": "7908aa4e",
   "metadata": {},
   "outputs": [
    {
     "name": "stdout",
     "output_type": "stream",
     "text": [
      "\n",
      "2.2 Statistical Summary\n",
      "             ram      speed\n",
      "count  10.000000  10.000000\n",
      "mean   29.600000   3.670000\n",
      "std    21.014281   0.678315\n",
      "min     8.000000   2.800000\n",
      "25%    10.000000   3.200000\n",
      "50%    32.000000   3.600000\n",
      "75%    32.000000   4.375000\n",
      "max    64.000000   4.500000\n",
      "\n",
      "Info about the DataFrame:\n",
      "<class 'pandas.core.frame.DataFrame'>\n",
      "RangeIndex: 10 entries, 0 to 9\n",
      "Data columns (total 4 columns):\n",
      " #   Column          Non-Null Count  Dtype  \n",
      "---  ------          --------------  -----  \n",
      " 0   os              10 non-null     object \n",
      " 1   hardware_model  10 non-null     object \n",
      " 2   ram             10 non-null     int64  \n",
      " 3   speed           10 non-null     float64\n",
      "dtypes: float64(1), int64(1), object(2)\n",
      "memory usage: 452.0+ bytes\n"
     ]
    }
   ],
   "source": [
    "# 2.2 Statistical summary\n",
    "print(\"\\n2.2 Statistical Summary\")\n",
    "print(df_stacks.describe())\n",
    "print(\"\\nInfo about the DataFrame:\")\n",
    "df_stacks.info()"
   ]
  },
  {
   "cell_type": "code",
   "execution_count": 33,
   "id": "8327026b",
   "metadata": {},
   "outputs": [
    {
     "name": "stdout",
     "output_type": "stream",
     "text": [
      "\n",
      "2.3 Viewing Data\n",
      "First 3 rows:\n",
      "             os  hardware_model  ram  speed\n",
      "0  macOS Sonoma  Razer Blade 14    8    3.2\n",
      "1    Windows 11  MacBook Air M2   32    3.6\n",
      "2     Fedora 40  Razer Blade 14   32    4.5\n",
      "\n",
      "Last 2 rows:\n",
      "             os        hardware_model  ram  speed\n",
      "8  Ubuntu 22.04        Razer Blade 14   32    2.8\n",
      "9    Windows 11  Acer Predator Helios    8    4.5\n",
      "\n",
      "Random sample (2 rows):\n",
      "           os        hardware_model  ram  speed\n",
      "7  Windows 11        Razer Blade 14   64    2.8\n",
      "9  Windows 11  Acer Predator Helios    8    4.5\n"
     ]
    }
   ],
   "source": [
    "# 2.3 Viewing data\n",
    "print(\"\\n2.3 Viewing Data\")\n",
    "print(\"First 3 rows:\")\n",
    "print(df_stacks.head(3))\n",
    "print(\"\\nLast 2 rows:\")\n",
    "print(df_stacks.tail(2))\n",
    "print(\"\\nRandom sample (2 rows):\")\n",
    "print(df_stacks.sample(2))"
   ]
  },
  {
   "cell_type": "code",
   "execution_count": 34,
   "id": "45737dab",
   "metadata": {},
   "outputs": [
    {
     "name": "stdout",
     "output_type": "stream",
     "text": [
      "\n",
      "2.4 Unique Values and Counts\n",
      "Unique hardware: ['Razer Blade 14' 'MacBook Air M2' 'Acer Predator Helios'\n",
      " 'Asus ROG Zephyrus' 'HP Spectre x360']\n",
      "Ram counts:\n",
      "ram\n",
      "32    4\n",
      "8     3\n",
      "64    2\n",
      "16    1\n",
      "Name: count, dtype: int64\n",
      "Number of unique operating systems: 6\n"
     ]
    }
   ],
   "source": [
    "# 2.4 Unique values and counts\n",
    "print(\"\\n2.4 Unique Values and Counts\")\n",
    "print(f\"Unique hardware: {df_stacks['hardware_model'].unique()}\")\n",
    "print(f\"Ram counts:\\n{df_stacks['ram'].value_counts()}\")\n",
    "print(f\"Number of unique operating systems: {df_stacks['os'].nunique()}\")"
   ]
  }
 ],
 "metadata": {
  "kernelspec": {
   "display_name": ".venv (3.12.1)",
   "language": "python",
   "name": "python3"
  },
  "language_info": {
   "codemirror_mode": {
    "name": "ipython",
    "version": 3
   },
   "file_extension": ".py",
   "mimetype": "text/x-python",
   "name": "python",
   "nbconvert_exporter": "python",
   "pygments_lexer": "ipython3",
   "version": "3.12.1"
  }
 },
 "nbformat": 4,
 "nbformat_minor": 5
}
