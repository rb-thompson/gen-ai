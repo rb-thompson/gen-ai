{
 "cells": [
  {
   "cell_type": "markdown",
   "id": "aded6200",
   "metadata": {},
   "source": [
    "# Deep Learning Notebook\n",
    "\n",
    "Deep learning frameworks simplify building and training neural networks. The two most popular are PyTorch and TensorFlow."
   ]
  },
  {
   "cell_type": "code",
   "execution_count": 1,
   "id": "070881b2",
   "metadata": {},
   "outputs": [
    {
     "name": "stdout",
     "output_type": "stream",
     "text": [
      "2.7.1+cpu\n"
     ]
    }
   ],
   "source": [
    "# To start, install PyTorch and dependencies:\n",
    "# pip install torch torchvision torchaudio numpy matplotlib\n",
    "\n",
    "import torch\n",
    "print(torch.__version__)"
   ]
  },
  {
   "cell_type": "code",
   "execution_count": 2,
   "id": "9c12b16d",
   "metadata": {},
   "outputs": [
    {
     "name": "stdout",
     "output_type": "stream",
     "text": [
      "False\n"
     ]
    }
   ],
   "source": [
    "# Check for GPU support:\n",
    "print(torch.cuda.is_available())"
   ]
  },
  {
   "cell_type": "code",
   "execution_count": 4,
   "id": "cb4c04d3",
   "metadata": {},
   "outputs": [
    {
     "name": "stdout",
     "output_type": "stream",
     "text": [
      "<class '__main__.SimpleNN'>\n"
     ]
    }
   ],
   "source": [
    "# Create a simple neural network:\n",
    "import torch.nn as nn\n",
    "import torch.nn.functional as F\n",
    "\n",
    "# Define the neural network class\n",
    "class SimpleNN(nn.Module):\n",
    "    def __init__(self):\n",
    "        super(SimpleNN, self).__init__()\n",
    "        self.fc1 = nn.Linear(784, 128)  # Input (784) to hidden (128)\n",
    "        self.fc2 = nn.Linear(128, 10)   # Hidden (128) to output (10)\n",
    "\n",
    "    def forward(self, x):\n",
    "        x = x.view(-1, 784)  # Flatten 28x28 images\n",
    "        x = F.relu(self.fc1(x))  # ReLU activation\n",
    "        x = self.fc2(x)  # Raw logits\n",
    "        return x  # CrossEntropyLoss applies softmax internally\n",
    "    \n",
    "print(SimpleNN)"
   ]
  },
  {
   "cell_type": "code",
   "execution_count": null,
   "id": "92777488",
   "metadata": {},
   "outputs": [
    {
     "name": "stderr",
     "output_type": "stream",
     "text": [
      "100.0%\n",
      "100.0%\n",
      "100.0%\n",
      "100.0%\n"
     ]
    },
    {
     "name": "stdout",
     "output_type": "stream",
     "text": [
      "Epoch 1, Loss: 0.7533\n",
      "Epoch 2, Loss: 0.3666\n",
      "Epoch 3, Loss: 0.3202\n",
      "Epoch 4, Loss: 0.2935\n",
      "Epoch 5, Loss: 0.2718\n",
      "Epoch 6, Loss: 0.2529\n",
      "Epoch 7, Loss: 0.2352\n",
      "Epoch 8, Loss: 0.2192\n",
      "Epoch 9, Loss: 0.2054\n",
      "Epoch 10, Loss: 0.1932\n"
     ]
    }
   ],
   "source": [
    "# Training Process: Loading & Training with Loss Function, Optimizer, and Training Loop\n",
    "\n",
    "from torchvision import datasets, transforms\n",
    "from torch.utils.data import DataLoader\n",
    "\n",
    "# Define data transformations\n",
    "transform = transforms.Compose([\n",
    "    transforms.ToTensor(),  # Convert images to tensors\n",
    "    transforms.Normalize((0.5,), (0.5,))  # Normalize to [-1, 1]\n",
    "])\n",
    "\n",
    "# Load MNIST datasets\n",
    "trainset = datasets.MNIST('data', train=True, download=True, transform=transform)\n",
    "testset = datasets.MNIST('data', train=False, download=True, transform=transform)\n",
    "\n",
    "# Create data loaders\n",
    "trainloader = DataLoader(trainset, batch_size=64, shuffle=True)\n",
    "testloader = DataLoader(testset, batch_size=64, shuffle=False)\n",
    "\n",
    "# Initialize model, loss, and optimizer\n",
    "model = SimpleNN()\n",
    "criterion = nn.CrossEntropyLoss()\n",
    "optimizer = torch.optim.SGD(model.parameters(), lr=0.01)\n",
    "\n",
    "# Training loop\n",
    "epochs = 10\n",
    "for epoch in range(epochs):\n",
    "    running_loss = 0.0\n",
    "    for images, labels in trainloader:\n",
    "        optimizer.zero_grad()  # Clear gradients\n",
    "        outputs = model(images)  # Forward pass\n",
    "        loss = criterion(outputs, labels)  # Compute loss\n",
    "        loss.backward()  # Backward pass\n",
    "        optimizer.step()  # Update weights\n",
    "        running_loss += loss.item()\n",
    "    print(f\"Epoch {epoch+1}, Loss: {running_loss/len(trainloader):.4f}\")"
   ]
  },
  {
   "cell_type": "code",
   "execution_count": 7,
   "id": "e08306f0",
   "metadata": {},
   "outputs": [
    {
     "name": "stdout",
     "output_type": "stream",
     "text": [
      "Test Accuracy: 94.72%\n"
     ]
    },
    {
     "data": {
      "image/png": "[encoded data removed]",
      "text/plain": [
       "<Figure size 1000x1000 with 9 Axes>"
      ]
     },
     "metadata": {},
     "output_type": "display_data"
    }
   ],
   "source": [
    "# Inference & Visualization\n",
    "\n",
    "import matplotlib.pyplot as plt\n",
    "\n",
    "# Test the model\n",
    "model.eval()  # Set to evaluation mode\n",
    "correct = 0\n",
    "total = 0\n",
    "with torch.no_grad():  # Disable gradient computation\n",
    "    for images, labels in testloader:\n",
    "        outputs = model(images)\n",
    "        _, predicted = torch.max(outputs, 1)\n",
    "        total += labels.size(0)\n",
    "        correct += (predicted == labels).sum().item()\n",
    "print(f\"Test Accuracy: {100 * correct / total:.2f}%\")\n",
    "\n",
    "# Visualize predictions\n",
    "dataiter = iter(testloader)\n",
    "images, labels = next(dataiter)\n",
    "outputs = model(images)\n",
    "_, predicted = torch.max(outputs, 1)\n",
    "\n",
    "# Plot 9 images\n",
    "fig = plt.figure(figsize=(10, 10))\n",
    "for i in range(9):\n",
    "    ax = fig.add_subplot(3, 3, i+1)\n",
    "    ax.imshow(images[i].view(28, 28), cmap='gray')\n",
    "    ax.set_title(f\"Pred: {predicted[i]}, True: {labels[i]}\")\n",
    "    ax.axis('off')\n",
    "plt.show()"
   ]
  }
 ],
 "metadata": {
  "kernelspec": {
   "display_name": ".venv (3.12.1)",
   "language": "python",
   "name": "python3"
  },
  "language_info": {
   "codemirror_mode": {
    "name": "ipython",
    "version": 3
   },
   "file_extension": ".py",
   "mimetype": "text/x-python",
   "name": "python",
   "nbconvert_exporter": "python",
   "pygments_lexer": "ipython3",
   "version": "3.12.1"
  }
 },
 "nbformat": 4,
 "nbformat_minor": 5
}
