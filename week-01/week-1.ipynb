{
 "cells": [
  {
   "cell_type": "markdown",
   "id": "c5a9c0d8",
   "metadata": {},
   "source": [
    "# AI - Generative AI\n",
    "\n",
    "AI jargon simplified.. instructed to take notes with pen and paper!\n",
    "\n",
    "(insert notes here later)\n",
    "\n",
    "Using AI to learn leads a developer toward action; insight provides actionable ways to improve. In what direction? \n"
   ]
  }
 ],
 "metadata": {
  "language_info": {
   "name": "python"
  }
 },
 "nbformat": 4,
 "nbformat_minor": 5
}
